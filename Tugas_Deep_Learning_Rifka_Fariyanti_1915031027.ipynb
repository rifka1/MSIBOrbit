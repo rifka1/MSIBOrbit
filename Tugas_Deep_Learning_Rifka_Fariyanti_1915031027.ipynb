{
  "nbformat": 4,
  "nbformat_minor": 0,
  "metadata": {
    "colab": {
      "name": "Tugas Deep Learning  Rifka Fariyanti 1915031027",
      "provenance": [],
      "collapsed_sections": [
        "T_eDQzggKBDL",
        "jff7yNWKBF_6",
        "wMILo-jCDtNp",
        "N55x9wqlFU8C",
        "ZNkLUbLpJOKM",
        "2AdsDJPgHbr9",
        "X726HICYI_P2",
        "KX32L4nvJIrc",
        "Wp9nvjWqKT3E",
        "GNIdkhI3LFLF",
        "AxosgffQLpng",
        "Q85n9rVMMZj8",
        "inQ9wr46NYm9",
        "xSHhRFenNlz8",
        "MHabxtxeNs84",
        "6vBeysk_Om0R",
        "rS6tT-jTPn7f",
        "aeeOA4vQRWbn",
        "aPidmnrgRbVJ",
        "sgHigwboWQYy"
      ],
      "include_colab_link": true
    },
    "kernelspec": {
      "name": "python3",
      "display_name": "Python 3"
    },
    "language_info": {
      "name": "python"
    }
  },
  "cells": [
    {
      "cell_type": "markdown",
      "metadata": {
        "id": "view-in-github",
        "colab_type": "text"
      },
      "source": [
        "<a href=\"https://colab.research.google.com/github/rifka1/MSIBOrbit/blob/main/Tugas_Deep_Learning_Rifka_Fariyanti_1915031027.ipynb\" target=\"_parent\"><img src=\"https://colab.research.google.com/assets/colab-badge.svg\" alt=\"Open In Colab\"/></a>"
      ]
    },
    {
      "cell_type": "markdown",
      "metadata": {
        "id": "7da3QCOP9Zcl"
      },
      "source": [
        "##Tugas Deep Learning\n",
        "Nama: Rifka Fariyanti\n",
        "\n",
        "NPM: 1915031027"
      ]
    },
    {
      "cell_type": "markdown",
      "source": [
        "Bangun sebuah model DL untuk dataset."
      ],
      "metadata": {
        "id": "-tFlgDq6aeEc"
      }
    },
    {
      "cell_type": "markdown",
      "source": [
        "##Membaca data"
      ],
      "metadata": {
        "id": "L_u58cCDXUdi"
      }
    },
    {
      "cell_type": "code",
      "source": [
        "from pandas import read_csv\n",
        "from pandas import read_csv\n",
        "from numpy import argmax\n",
        "from tensorflow.keras import Sequential\n",
        "from tensorflow.keras.layers import Dense\n",
        "\n",
        "data = read_csv('/content/diabetes.csv')\n",
        "data.head()"
      ],
      "metadata": {
        "colab": {
          "base_uri": "https://localhost:8080/",
          "height": 206
        },
        "id": "wXlZm0pWAXfe",
        "outputId": "ca959d92-0823-42e2-d1f3-43c6b8f7850d"
      },
      "execution_count": null,
      "outputs": [
        {
          "output_type": "execute_result",
          "data": {
            "text/plain": [
              "   Pregnancies  Glucose  BloodPressure  SkinThickness  Insulin   BMI  \\\n",
              "0            6      148             72             35        0  33.6   \n",
              "1            1       85             66             29        0  26.6   \n",
              "2            8      183             64              0        0  23.3   \n",
              "3            1       89             66             23       94  28.1   \n",
              "4            0      137             40             35      168  43.1   \n",
              "\n",
              "   DiabetesPedigreeFunction  Age  Outcome  \n",
              "0                     0.627   50        1  \n",
              "1                     0.351   31        0  \n",
              "2                     0.672   32        1  \n",
              "3                     0.167   21        0  \n",
              "4                     2.288   33        1  "
            ],
            "text/html": [
              "\n",
              "  <div id=\"df-5236873f-ac9d-4efc-a93b-dd16a158e0d7\">\n",
              "    <div class=\"colab-df-container\">\n",
              "      <div>\n",
              "<style scoped>\n",
              "    .dataframe tbody tr th:only-of-type {\n",
              "        vertical-align: middle;\n",
              "    }\n",
              "\n",
              "    .dataframe tbody tr th {\n",
              "        vertical-align: top;\n",
              "    }\n",
              "\n",
              "    .dataframe thead th {\n",
              "        text-align: right;\n",
              "    }\n",
              "</style>\n",
              "<table border=\"1\" class=\"dataframe\">\n",
              "  <thead>\n",
              "    <tr style=\"text-align: right;\">\n",
              "      <th></th>\n",
              "      <th>Pregnancies</th>\n",
              "      <th>Glucose</th>\n",
              "      <th>BloodPressure</th>\n",
              "      <th>SkinThickness</th>\n",
              "      <th>Insulin</th>\n",
              "      <th>BMI</th>\n",
              "      <th>DiabetesPedigreeFunction</th>\n",
              "      <th>Age</th>\n",
              "      <th>Outcome</th>\n",
              "    </tr>\n",
              "  </thead>\n",
              "  <tbody>\n",
              "    <tr>\n",
              "      <th>0</th>\n",
              "      <td>6</td>\n",
              "      <td>148</td>\n",
              "      <td>72</td>\n",
              "      <td>35</td>\n",
              "      <td>0</td>\n",
              "      <td>33.6</td>\n",
              "      <td>0.627</td>\n",
              "      <td>50</td>\n",
              "      <td>1</td>\n",
              "    </tr>\n",
              "    <tr>\n",
              "      <th>1</th>\n",
              "      <td>1</td>\n",
              "      <td>85</td>\n",
              "      <td>66</td>\n",
              "      <td>29</td>\n",
              "      <td>0</td>\n",
              "      <td>26.6</td>\n",
              "      <td>0.351</td>\n",
              "      <td>31</td>\n",
              "      <td>0</td>\n",
              "    </tr>\n",
              "    <tr>\n",
              "      <th>2</th>\n",
              "      <td>8</td>\n",
              "      <td>183</td>\n",
              "      <td>64</td>\n",
              "      <td>0</td>\n",
              "      <td>0</td>\n",
              "      <td>23.3</td>\n",
              "      <td>0.672</td>\n",
              "      <td>32</td>\n",
              "      <td>1</td>\n",
              "    </tr>\n",
              "    <tr>\n",
              "      <th>3</th>\n",
              "      <td>1</td>\n",
              "      <td>89</td>\n",
              "      <td>66</td>\n",
              "      <td>23</td>\n",
              "      <td>94</td>\n",
              "      <td>28.1</td>\n",
              "      <td>0.167</td>\n",
              "      <td>21</td>\n",
              "      <td>0</td>\n",
              "    </tr>\n",
              "    <tr>\n",
              "      <th>4</th>\n",
              "      <td>0</td>\n",
              "      <td>137</td>\n",
              "      <td>40</td>\n",
              "      <td>35</td>\n",
              "      <td>168</td>\n",
              "      <td>43.1</td>\n",
              "      <td>2.288</td>\n",
              "      <td>33</td>\n",
              "      <td>1</td>\n",
              "    </tr>\n",
              "  </tbody>\n",
              "</table>\n",
              "</div>\n",
              "      <button class=\"colab-df-convert\" onclick=\"convertToInteractive('df-5236873f-ac9d-4efc-a93b-dd16a158e0d7')\"\n",
              "              title=\"Convert this dataframe to an interactive table.\"\n",
              "              style=\"display:none;\">\n",
              "        \n",
              "  <svg xmlns=\"http://www.w3.org/2000/svg\" height=\"24px\"viewBox=\"0 0 24 24\"\n",
              "       width=\"24px\">\n",
              "    <path d=\"M0 0h24v24H0V0z\" fill=\"none\"/>\n",
              "    <path d=\"M18.56 5.44l.94 2.06.94-2.06 2.06-.94-2.06-.94-.94-2.06-.94 2.06-2.06.94zm-11 1L8.5 8.5l.94-2.06 2.06-.94-2.06-.94L8.5 2.5l-.94 2.06-2.06.94zm10 10l.94 2.06.94-2.06 2.06-.94-2.06-.94-.94-2.06-.94 2.06-2.06.94z\"/><path d=\"M17.41 7.96l-1.37-1.37c-.4-.4-.92-.59-1.43-.59-.52 0-1.04.2-1.43.59L10.3 9.45l-7.72 7.72c-.78.78-.78 2.05 0 2.83L4 21.41c.39.39.9.59 1.41.59.51 0 1.02-.2 1.41-.59l7.78-7.78 2.81-2.81c.8-.78.8-2.07 0-2.86zM5.41 20L4 18.59l7.72-7.72 1.47 1.35L5.41 20z\"/>\n",
              "  </svg>\n",
              "      </button>\n",
              "      \n",
              "  <style>\n",
              "    .colab-df-container {\n",
              "      display:flex;\n",
              "      flex-wrap:wrap;\n",
              "      gap: 12px;\n",
              "    }\n",
              "\n",
              "    .colab-df-convert {\n",
              "      background-color: #E8F0FE;\n",
              "      border: none;\n",
              "      border-radius: 50%;\n",
              "      cursor: pointer;\n",
              "      display: none;\n",
              "      fill: #1967D2;\n",
              "      height: 32px;\n",
              "      padding: 0 0 0 0;\n",
              "      width: 32px;\n",
              "    }\n",
              "\n",
              "    .colab-df-convert:hover {\n",
              "      background-color: #E2EBFA;\n",
              "      box-shadow: 0px 1px 2px rgba(60, 64, 67, 0.3), 0px 1px 3px 1px rgba(60, 64, 67, 0.15);\n",
              "      fill: #174EA6;\n",
              "    }\n",
              "\n",
              "    [theme=dark] .colab-df-convert {\n",
              "      background-color: #3B4455;\n",
              "      fill: #D2E3FC;\n",
              "    }\n",
              "\n",
              "    [theme=dark] .colab-df-convert:hover {\n",
              "      background-color: #434B5C;\n",
              "      box-shadow: 0px 1px 3px 1px rgba(0, 0, 0, 0.15);\n",
              "      filter: drop-shadow(0px 1px 2px rgba(0, 0, 0, 0.3));\n",
              "      fill: #FFFFFF;\n",
              "    }\n",
              "  </style>\n",
              "\n",
              "      <script>\n",
              "        const buttonEl =\n",
              "          document.querySelector('#df-5236873f-ac9d-4efc-a93b-dd16a158e0d7 button.colab-df-convert');\n",
              "        buttonEl.style.display =\n",
              "          google.colab.kernel.accessAllowed ? 'block' : 'none';\n",
              "\n",
              "        async function convertToInteractive(key) {\n",
              "          const element = document.querySelector('#df-5236873f-ac9d-4efc-a93b-dd16a158e0d7');\n",
              "          const dataTable =\n",
              "            await google.colab.kernel.invokeFunction('convertToInteractive',\n",
              "                                                     [key], {});\n",
              "          if (!dataTable) return;\n",
              "\n",
              "          const docLinkHtml = 'Like what you see? Visit the ' +\n",
              "            '<a target=\"_blank\" href=https://colab.research.google.com/notebooks/data_table.ipynb>data table notebook</a>'\n",
              "            + ' to learn more about interactive tables.';\n",
              "          element.innerHTML = '';\n",
              "          dataTable['output_type'] = 'display_data';\n",
              "          await google.colab.output.renderOutput(dataTable, element);\n",
              "          const docLink = document.createElement('div');\n",
              "          docLink.innerHTML = docLinkHtml;\n",
              "          element.appendChild(docLink);\n",
              "        }\n",
              "      </script>\n",
              "    </div>\n",
              "  </div>\n",
              "  "
            ]
          },
          "metadata": {},
          "execution_count": 23
        }
      ]
    },
    {
      "cell_type": "markdown",
      "source": [
        "##Memisahkan data x  : feature dan y : label"
      ],
      "metadata": {
        "id": "93iUwuxVXLqA"
      }
    },
    {
      "cell_type": "code",
      "source": [
        "x = data[['Pregnancies', 'Glucose', 'BloodPressure', 'SkinThickness', 'Insulin', 'BMI', 'DiabetesPedigreeFunction', 'Age', 'Outcome']].values\n",
        "x"
      ],
      "metadata": {
        "colab": {
          "base_uri": "https://localhost:8080/"
        },
        "id": "pVyXK99nAjmU",
        "outputId": "88e4048b-364f-4934-a0a4-29770a8d1b9f"
      },
      "execution_count": null,
      "outputs": [
        {
          "output_type": "execute_result",
          "data": {
            "text/plain": [
              "array([[  6.   , 148.   ,  72.   , ...,   0.627,  50.   ,   1.   ],\n",
              "       [  1.   ,  85.   ,  66.   , ...,   0.351,  31.   ,   0.   ],\n",
              "       [  8.   , 183.   ,  64.   , ...,   0.672,  32.   ,   1.   ],\n",
              "       ...,\n",
              "       [  5.   , 121.   ,  72.   , ...,   0.245,  30.   ,   0.   ],\n",
              "       [  1.   , 126.   ,  60.   , ...,   0.349,  47.   ,   1.   ],\n",
              "       [  1.   ,  93.   ,  70.   , ...,   0.315,  23.   ,   0.   ]])"
            ]
          },
          "metadata": {},
          "execution_count": 24
        }
      ]
    },
    {
      "cell_type": "code",
      "source": [
        "y = data['Outcome'].values\n",
        "y"
      ],
      "metadata": {
        "id": "ZdN2gWFxE5xD",
        "colab": {
          "base_uri": "https://localhost:8080/"
        },
        "outputId": "b87cc165-c31d-4205-8da8-3b4ca35a33f4"
      },
      "execution_count": null,
      "outputs": [
        {
          "output_type": "execute_result",
          "data": {
            "text/plain": [
              "array([1, 0, 1, 0, 1, 0, 1, 0, 1, 1, 0, 1, 0, 1, 1, 1, 1, 1, 0, 1, 0, 0,\n",
              "       1, 1, 1, 1, 1, 0, 0, 0, 0, 1, 0, 0, 0, 0, 0, 1, 1, 1, 0, 0, 0, 1,\n",
              "       0, 1, 0, 0, 1, 0, 0, 0, 0, 1, 0, 0, 1, 0, 0, 0, 0, 1, 0, 0, 1, 0,\n",
              "       1, 0, 0, 0, 1, 0, 1, 0, 0, 0, 0, 0, 1, 0, 0, 0, 0, 0, 1, 0, 0, 0,\n",
              "       1, 0, 0, 0, 0, 1, 0, 0, 0, 0, 0, 1, 1, 0, 0, 0, 0, 0, 0, 0, 0, 1,\n",
              "       1, 1, 0, 0, 1, 1, 1, 0, 0, 0, 1, 0, 0, 0, 1, 1, 0, 0, 1, 1, 1, 1,\n",
              "       1, 0, 0, 0, 0, 0, 0, 0, 0, 0, 0, 1, 0, 0, 0, 0, 0, 0, 0, 0, 1, 0,\n",
              "       1, 1, 0, 0, 0, 1, 0, 0, 0, 0, 1, 1, 0, 0, 0, 0, 1, 1, 0, 0, 0, 1,\n",
              "       0, 1, 0, 1, 0, 0, 0, 0, 0, 1, 1, 1, 1, 1, 0, 0, 1, 1, 0, 1, 0, 1,\n",
              "       1, 1, 0, 0, 0, 0, 0, 0, 1, 1, 0, 1, 0, 0, 0, 1, 1, 1, 1, 0, 1, 1,\n",
              "       1, 1, 0, 0, 0, 0, 0, 1, 0, 0, 1, 1, 0, 0, 0, 1, 1, 1, 1, 0, 0, 0,\n",
              "       1, 1, 0, 1, 0, 0, 0, 0, 0, 0, 0, 0, 1, 1, 0, 0, 0, 1, 0, 1, 0, 0,\n",
              "       1, 0, 1, 0, 0, 1, 1, 0, 0, 0, 0, 0, 1, 0, 0, 0, 1, 0, 0, 1, 1, 0,\n",
              "       0, 1, 0, 0, 0, 1, 1, 1, 0, 0, 1, 0, 1, 0, 1, 1, 0, 1, 0, 0, 1, 0,\n",
              "       1, 1, 0, 0, 1, 0, 1, 0, 0, 1, 0, 1, 0, 1, 1, 1, 0, 0, 1, 0, 1, 0,\n",
              "       0, 0, 1, 0, 0, 0, 0, 1, 1, 1, 0, 0, 0, 0, 0, 0, 0, 0, 0, 1, 0, 0,\n",
              "       0, 0, 0, 1, 1, 1, 0, 1, 1, 0, 0, 1, 0, 0, 1, 0, 0, 1, 1, 0, 0, 0,\n",
              "       0, 1, 0, 0, 1, 0, 0, 0, 0, 0, 0, 0, 1, 1, 1, 0, 0, 1, 0, 0, 1, 0,\n",
              "       0, 1, 0, 1, 1, 0, 1, 0, 1, 0, 1, 0, 1, 1, 0, 0, 0, 0, 1, 1, 0, 1,\n",
              "       0, 1, 0, 0, 0, 0, 1, 1, 0, 1, 0, 1, 0, 0, 0, 0, 0, 1, 0, 0, 0, 0,\n",
              "       1, 0, 0, 1, 1, 1, 0, 0, 1, 0, 0, 1, 0, 0, 0, 1, 0, 0, 1, 0, 0, 0,\n",
              "       0, 0, 0, 0, 0, 0, 1, 0, 0, 0, 0, 0, 0, 0, 1, 0, 0, 0, 1, 0, 0, 0,\n",
              "       1, 1, 0, 0, 0, 0, 0, 0, 0, 1, 0, 0, 0, 0, 1, 0, 0, 0, 1, 0, 0, 0,\n",
              "       1, 0, 0, 0, 1, 0, 0, 0, 0, 1, 1, 0, 0, 0, 0, 0, 0, 1, 0, 0, 0, 0,\n",
              "       0, 0, 0, 0, 0, 0, 0, 1, 0, 0, 0, 1, 1, 1, 1, 0, 0, 1, 1, 0, 0, 0,\n",
              "       0, 0, 0, 0, 0, 0, 0, 0, 0, 0, 1, 1, 0, 0, 0, 0, 0, 0, 0, 1, 0, 0,\n",
              "       0, 0, 0, 0, 0, 1, 0, 1, 1, 0, 0, 0, 1, 0, 1, 0, 1, 0, 1, 0, 1, 0,\n",
              "       0, 1, 0, 0, 1, 0, 0, 0, 0, 1, 1, 0, 1, 0, 0, 0, 0, 1, 1, 0, 1, 0,\n",
              "       0, 0, 1, 1, 0, 0, 0, 0, 0, 0, 0, 0, 0, 0, 1, 0, 0, 0, 0, 1, 0, 0,\n",
              "       1, 0, 0, 0, 1, 0, 0, 0, 1, 1, 1, 0, 0, 0, 0, 0, 0, 1, 0, 0, 0, 1,\n",
              "       0, 1, 1, 1, 1, 0, 1, 1, 0, 0, 0, 0, 0, 0, 0, 1, 1, 0, 1, 0, 0, 1,\n",
              "       0, 1, 0, 0, 0, 0, 0, 1, 0, 1, 0, 1, 0, 1, 1, 0, 0, 0, 0, 1, 1, 0,\n",
              "       0, 0, 1, 0, 1, 1, 0, 0, 1, 0, 0, 1, 1, 0, 0, 1, 0, 0, 1, 0, 0, 0,\n",
              "       0, 0, 0, 0, 1, 1, 1, 0, 0, 0, 0, 0, 0, 1, 1, 0, 0, 1, 0, 0, 1, 0,\n",
              "       1, 1, 1, 0, 0, 1, 1, 1, 0, 1, 0, 1, 0, 1, 0, 0, 0, 0, 1, 0])"
            ]
          },
          "metadata": {},
          "execution_count": 25
        }
      ]
    },
    {
      "cell_type": "markdown",
      "source": [
        "##Split data"
      ],
      "metadata": {
        "id": "VT6rNOaZXE_S"
      }
    },
    {
      "cell_type": "code",
      "source": [
        "from sklearn.model_selection import train_test_split\n",
        "\n",
        "x_train, x_test, y_train, y_test = train_test_split(x, y, test_size= 0.2)\n",
        "print(x_train.shape, x_test.shape, y_train.shape, y_test.shape)"
      ],
      "metadata": {
        "id": "y7hMxfgeCfMx",
        "colab": {
          "base_uri": "https://localhost:8080/"
        },
        "outputId": "082f53ff-e1d7-4541-c136-292b8aae283a"
      },
      "execution_count": null,
      "outputs": [
        {
          "output_type": "stream",
          "name": "stdout",
          "text": [
            "(614, 9) (154, 9) (614,) (154,)\n"
          ]
        }
      ]
    },
    {
      "cell_type": "code",
      "source": [
        "x.shape"
      ],
      "metadata": {
        "id": "URhg_90JEEip",
        "colab": {
          "base_uri": "https://localhost:8080/"
        },
        "outputId": "59d30bc7-ebcd-4270-b71b-e84ac4e1b4e4"
      },
      "execution_count": null,
      "outputs": [
        {
          "output_type": "execute_result",
          "data": {
            "text/plain": [
              "(768, 9)"
            ]
          },
          "metadata": {},
          "execution_count": 27
        }
      ]
    },
    {
      "cell_type": "code",
      "source": [
        "y.shape"
      ],
      "metadata": {
        "id": "u_CisCRpEGTP",
        "colab": {
          "base_uri": "https://localhost:8080/"
        },
        "outputId": "d2bba997-e8b3-42b4-8c75-9968faadf39c"
      },
      "execution_count": null,
      "outputs": [
        {
          "output_type": "execute_result",
          "data": {
            "text/plain": [
              "(768,)"
            ]
          },
          "metadata": {},
          "execution_count": 28
        }
      ]
    },
    {
      "cell_type": "markdown",
      "source": [
        "##Membangun model dengan 'softmax'"
      ],
      "metadata": {
        "id": "gRopEWyuWt5j"
      }
    },
    {
      "cell_type": "code",
      "source": [
        "import tensorflow as tf\n",
        "from tensorflow.keras import Sequential\n",
        "from tensorflow.keras.layers import Dense"
      ],
      "metadata": {
        "id": "62SiwWc6W8by"
      },
      "execution_count": null,
      "outputs": []
    },
    {
      "cell_type": "code",
      "source": [
        "n_features = x_train.shape[1]\n",
        "\n",
        "model = Sequential()\n",
        "model.add(Dense(10, activation='relu', input_shape=(n_features,)))\n",
        "model.add(Dense(8, activation='relu'))\n",
        "model.add(Dense(6, activation='relu'))\n",
        "model.add(Dense(4, activation='relu'))\n",
        "model.add(Dense(2, activation='softmax'))\n",
        "\n",
        "model.summary()"
      ],
      "metadata": {
        "id": "-gv3vMddDgxW",
        "colab": {
          "base_uri": "https://localhost:8080/"
        },
        "outputId": "3657f8f9-367b-4a09-e4c8-4accad57ec8c"
      },
      "execution_count": null,
      "outputs": [
        {
          "output_type": "stream",
          "name": "stdout",
          "text": [
            "Model: \"sequential_3\"\n",
            "_________________________________________________________________\n",
            " Layer (type)                Output Shape              Param #   \n",
            "=================================================================\n",
            " dense_13 (Dense)            (None, 10)                100       \n",
            "                                                                 \n",
            " dense_14 (Dense)            (None, 8)                 88        \n",
            "                                                                 \n",
            " dense_15 (Dense)            (None, 6)                 54        \n",
            "                                                                 \n",
            " dense_16 (Dense)            (None, 4)                 28        \n",
            "                                                                 \n",
            " dense_17 (Dense)            (None, 2)                 10        \n",
            "                                                                 \n",
            "=================================================================\n",
            "Total params: 280\n",
            "Trainable params: 280\n",
            "Non-trainable params: 0\n",
            "_________________________________________________________________\n"
          ]
        }
      ]
    },
    {
      "cell_type": "markdown",
      "source": [
        "##Membangun model dengan 'sigmoid'"
      ],
      "metadata": {
        "id": "U9_bEGXXW0i6"
      }
    },
    {
      "cell_type": "code",
      "source": [
        "n_features = x_train.shape[1]\n",
        "\n",
        "model = Sequential()\n",
        "model.add(Dense(10, activation='relu', input_shape=(n_features,)))\n",
        "model.add(Dense(8, activation='relu'))\n",
        "model.add(Dense(6, activation='relu'))\n",
        "model.add(Dense(4, activation='relu'))\n",
        "model.add(Dense(2, activation='sigmoid'))\n",
        "\n",
        "model.summary()"
      ],
      "metadata": {
        "colab": {
          "base_uri": "https://localhost:8080/"
        },
        "id": "UvjRtn-iWoPz",
        "outputId": "eef708dc-6076-41cc-b6d5-71a9406cef7c"
      },
      "execution_count": null,
      "outputs": [
        {
          "output_type": "stream",
          "name": "stdout",
          "text": [
            "Model: \"sequential_2\"\n",
            "_________________________________________________________________\n",
            " Layer (type)                Output Shape              Param #   \n",
            "=================================================================\n",
            " dense_8 (Dense)             (None, 10)                100       \n",
            "                                                                 \n",
            " dense_9 (Dense)             (None, 8)                 88        \n",
            "                                                                 \n",
            " dense_10 (Dense)            (None, 6)                 54        \n",
            "                                                                 \n",
            " dense_11 (Dense)            (None, 4)                 28        \n",
            "                                                                 \n",
            " dense_12 (Dense)            (None, 2)                 10        \n",
            "                                                                 \n",
            "=================================================================\n",
            "Total params: 280\n",
            "Trainable params: 280\n",
            "Non-trainable params: 0\n",
            "_________________________________________________________________\n"
          ]
        }
      ]
    },
    {
      "cell_type": "markdown",
      "source": [
        "##Compile model"
      ],
      "metadata": {
        "id": "4R6r4Hk7YGHP"
      }
    },
    {
      "cell_type": "code",
      "source": [
        "model.compile(\n",
        "    optimizer='adam',\n",
        "    loss = 'sparse_categorical_crossentropy',\n",
        "    metrics = ['Accuracy']\n",
        ")"
      ],
      "metadata": {
        "id": "5OkMaG89DkOU"
      },
      "execution_count": null,
      "outputs": []
    },
    {
      "cell_type": "markdown",
      "source": [
        "##Fit model"
      ],
      "metadata": {
        "id": "_lBpoLXsYMy8"
      }
    },
    {
      "cell_type": "code",
      "source": [
        "history = model.fit(\n",
        "    x_train,\n",
        "    y_train,\n",
        "    batch_size = 32,\n",
        "    epochs = 150,\n",
        "    verbose=2,\n",
        "    validation_split = 0.3\n",
        ")"
      ],
      "metadata": {
        "id": "foxK-oiGDq0a",
        "colab": {
          "base_uri": "https://localhost:8080/"
        },
        "outputId": "e28435d8-827f-42a1-f5bc-9ac9c11b2ecc"
      },
      "execution_count": null,
      "outputs": [
        {
          "output_type": "stream",
          "name": "stdout",
          "text": [
            "Epoch 1/150\n",
            "14/14 - 1s - loss: 1.8900 - Accuracy: 0.5501 - val_loss: 1.8192 - val_Accuracy: 0.5243 - 936ms/epoch - 67ms/step\n",
            "Epoch 2/150\n",
            "14/14 - 0s - loss: 1.7282 - Accuracy: 0.5221 - val_loss: 1.8922 - val_Accuracy: 0.5243 - 72ms/epoch - 5ms/step\n",
            "Epoch 3/150\n",
            "14/14 - 0s - loss: 1.7591 - Accuracy: 0.5175 - val_loss: 1.4090 - val_Accuracy: 0.5622 - 75ms/epoch - 5ms/step\n",
            "Epoch 4/150\n",
            "14/14 - 0s - loss: 0.8272 - Accuracy: 0.5897 - val_loss: 0.7728 - val_Accuracy: 0.6432 - 82ms/epoch - 6ms/step\n",
            "Epoch 5/150\n",
            "14/14 - 0s - loss: 0.7275 - Accuracy: 0.6294 - val_loss: 0.7765 - val_Accuracy: 0.6378 - 70ms/epoch - 5ms/step\n",
            "Epoch 6/150\n",
            "14/14 - 0s - loss: 0.6915 - Accuracy: 0.6340 - val_loss: 0.6931 - val_Accuracy: 0.6324 - 70ms/epoch - 5ms/step\n",
            "Epoch 7/150\n",
            "14/14 - 0s - loss: 0.6915 - Accuracy: 0.6387 - val_loss: 0.6931 - val_Accuracy: 0.6324 - 89ms/epoch - 6ms/step\n",
            "Epoch 8/150\n",
            "14/14 - 0s - loss: 0.6915 - Accuracy: 0.6387 - val_loss: 0.6931 - val_Accuracy: 0.6324 - 68ms/epoch - 5ms/step\n",
            "Epoch 9/150\n",
            "14/14 - 0s - loss: 0.6915 - Accuracy: 0.6387 - val_loss: 0.6931 - val_Accuracy: 0.6324 - 72ms/epoch - 5ms/step\n",
            "Epoch 10/150\n",
            "14/14 - 0s - loss: 0.6915 - Accuracy: 0.6387 - val_loss: 0.6931 - val_Accuracy: 0.6324 - 81ms/epoch - 6ms/step\n",
            "Epoch 11/150\n",
            "14/14 - 0s - loss: 0.6915 - Accuracy: 0.6387 - val_loss: 0.6931 - val_Accuracy: 0.6324 - 67ms/epoch - 5ms/step\n",
            "Epoch 12/150\n",
            "14/14 - 0s - loss: 0.6915 - Accuracy: 0.6387 - val_loss: 0.6931 - val_Accuracy: 0.6324 - 67ms/epoch - 5ms/step\n",
            "Epoch 13/150\n",
            "14/14 - 0s - loss: 0.6915 - Accuracy: 0.6387 - val_loss: 0.6931 - val_Accuracy: 0.6324 - 81ms/epoch - 6ms/step\n",
            "Epoch 14/150\n",
            "14/14 - 0s - loss: 0.6915 - Accuracy: 0.6387 - val_loss: 0.6931 - val_Accuracy: 0.6324 - 76ms/epoch - 5ms/step\n",
            "Epoch 15/150\n",
            "14/14 - 0s - loss: 0.6915 - Accuracy: 0.6387 - val_loss: 0.6931 - val_Accuracy: 0.6324 - 79ms/epoch - 6ms/step\n",
            "Epoch 16/150\n",
            "14/14 - 0s - loss: 0.6915 - Accuracy: 0.6387 - val_loss: 0.6931 - val_Accuracy: 0.6324 - 57ms/epoch - 4ms/step\n",
            "Epoch 17/150\n",
            "14/14 - 0s - loss: 0.6915 - Accuracy: 0.6387 - val_loss: 0.6931 - val_Accuracy: 0.6324 - 74ms/epoch - 5ms/step\n",
            "Epoch 18/150\n",
            "14/14 - 0s - loss: 0.6915 - Accuracy: 0.6387 - val_loss: 0.6931 - val_Accuracy: 0.6324 - 91ms/epoch - 7ms/step\n",
            "Epoch 19/150\n",
            "14/14 - 0s - loss: 0.6915 - Accuracy: 0.6387 - val_loss: 0.6931 - val_Accuracy: 0.6324 - 73ms/epoch - 5ms/step\n",
            "Epoch 20/150\n",
            "14/14 - 0s - loss: 0.6915 - Accuracy: 0.6387 - val_loss: 0.6931 - val_Accuracy: 0.6324 - 138ms/epoch - 10ms/step\n",
            "Epoch 21/150\n",
            "14/14 - 0s - loss: 0.6915 - Accuracy: 0.6387 - val_loss: 0.6931 - val_Accuracy: 0.6324 - 82ms/epoch - 6ms/step\n",
            "Epoch 22/150\n",
            "14/14 - 0s - loss: 0.6915 - Accuracy: 0.6387 - val_loss: 0.6931 - val_Accuracy: 0.6324 - 114ms/epoch - 8ms/step\n",
            "Epoch 23/150\n",
            "14/14 - 0s - loss: 0.6915 - Accuracy: 0.6387 - val_loss: 0.6931 - val_Accuracy: 0.6324 - 92ms/epoch - 7ms/step\n",
            "Epoch 24/150\n",
            "14/14 - 0s - loss: 0.6915 - Accuracy: 0.6387 - val_loss: 0.6931 - val_Accuracy: 0.6324 - 79ms/epoch - 6ms/step\n",
            "Epoch 25/150\n",
            "14/14 - 0s - loss: 0.6915 - Accuracy: 0.6387 - val_loss: 0.6931 - val_Accuracy: 0.6324 - 86ms/epoch - 6ms/step\n",
            "Epoch 26/150\n",
            "14/14 - 0s - loss: 0.6915 - Accuracy: 0.6387 - val_loss: 0.6931 - val_Accuracy: 0.6324 - 73ms/epoch - 5ms/step\n",
            "Epoch 27/150\n",
            "14/14 - 0s - loss: 0.6915 - Accuracy: 0.6387 - val_loss: 0.6931 - val_Accuracy: 0.6324 - 77ms/epoch - 6ms/step\n",
            "Epoch 28/150\n",
            "14/14 - 0s - loss: 0.6915 - Accuracy: 0.6387 - val_loss: 0.6931 - val_Accuracy: 0.6324 - 70ms/epoch - 5ms/step\n",
            "Epoch 29/150\n",
            "14/14 - 0s - loss: 0.6915 - Accuracy: 0.6387 - val_loss: 0.6931 - val_Accuracy: 0.6324 - 72ms/epoch - 5ms/step\n",
            "Epoch 30/150\n",
            "14/14 - 0s - loss: 0.6915 - Accuracy: 0.6387 - val_loss: 0.6931 - val_Accuracy: 0.6324 - 73ms/epoch - 5ms/step\n",
            "Epoch 31/150\n",
            "14/14 - 0s - loss: 0.6915 - Accuracy: 0.6387 - val_loss: 0.6931 - val_Accuracy: 0.6324 - 100ms/epoch - 7ms/step\n",
            "Epoch 32/150\n",
            "14/14 - 0s - loss: 0.6915 - Accuracy: 0.6387 - val_loss: 0.6931 - val_Accuracy: 0.6324 - 88ms/epoch - 6ms/step\n",
            "Epoch 33/150\n",
            "14/14 - 0s - loss: 0.6915 - Accuracy: 0.6387 - val_loss: 0.6931 - val_Accuracy: 0.6324 - 89ms/epoch - 6ms/step\n",
            "Epoch 34/150\n",
            "14/14 - 0s - loss: 0.6915 - Accuracy: 0.6387 - val_loss: 0.6931 - val_Accuracy: 0.6324 - 65ms/epoch - 5ms/step\n",
            "Epoch 35/150\n",
            "14/14 - 0s - loss: 0.6915 - Accuracy: 0.6387 - val_loss: 0.6931 - val_Accuracy: 0.6324 - 75ms/epoch - 5ms/step\n",
            "Epoch 36/150\n",
            "14/14 - 0s - loss: 0.6915 - Accuracy: 0.6387 - val_loss: 0.6931 - val_Accuracy: 0.6324 - 77ms/epoch - 6ms/step\n",
            "Epoch 37/150\n",
            "14/14 - 0s - loss: 0.6915 - Accuracy: 0.6387 - val_loss: 0.6931 - val_Accuracy: 0.6324 - 75ms/epoch - 5ms/step\n",
            "Epoch 38/150\n",
            "14/14 - 0s - loss: 0.6915 - Accuracy: 0.6387 - val_loss: 0.6931 - val_Accuracy: 0.6324 - 76ms/epoch - 5ms/step\n",
            "Epoch 39/150\n",
            "14/14 - 0s - loss: 0.6915 - Accuracy: 0.6387 - val_loss: 0.6931 - val_Accuracy: 0.6324 - 72ms/epoch - 5ms/step\n",
            "Epoch 40/150\n",
            "14/14 - 0s - loss: 0.6915 - Accuracy: 0.6387 - val_loss: 0.6931 - val_Accuracy: 0.6324 - 77ms/epoch - 5ms/step\n",
            "Epoch 41/150\n",
            "14/14 - 0s - loss: 0.6915 - Accuracy: 0.6387 - val_loss: 0.6931 - val_Accuracy: 0.6324 - 77ms/epoch - 6ms/step\n",
            "Epoch 42/150\n",
            "14/14 - 0s - loss: 0.6915 - Accuracy: 0.6387 - val_loss: 0.6931 - val_Accuracy: 0.6324 - 97ms/epoch - 7ms/step\n",
            "Epoch 43/150\n",
            "14/14 - 0s - loss: 0.6915 - Accuracy: 0.6387 - val_loss: 0.6931 - val_Accuracy: 0.6324 - 91ms/epoch - 6ms/step\n",
            "Epoch 44/150\n",
            "14/14 - 0s - loss: 0.6915 - Accuracy: 0.6387 - val_loss: 0.6931 - val_Accuracy: 0.6324 - 109ms/epoch - 8ms/step\n",
            "Epoch 45/150\n",
            "14/14 - 0s - loss: 0.6915 - Accuracy: 0.6387 - val_loss: 0.6931 - val_Accuracy: 0.6324 - 74ms/epoch - 5ms/step\n",
            "Epoch 46/150\n",
            "14/14 - 0s - loss: 0.6915 - Accuracy: 0.6387 - val_loss: 0.6931 - val_Accuracy: 0.6324 - 84ms/epoch - 6ms/step\n",
            "Epoch 47/150\n",
            "14/14 - 0s - loss: 0.6915 - Accuracy: 0.6387 - val_loss: 0.6931 - val_Accuracy: 0.6324 - 76ms/epoch - 5ms/step\n",
            "Epoch 48/150\n",
            "14/14 - 0s - loss: 0.6915 - Accuracy: 0.6387 - val_loss: 0.6931 - val_Accuracy: 0.6324 - 79ms/epoch - 6ms/step\n",
            "Epoch 49/150\n",
            "14/14 - 0s - loss: 0.6915 - Accuracy: 0.6387 - val_loss: 0.6931 - val_Accuracy: 0.6324 - 87ms/epoch - 6ms/step\n",
            "Epoch 50/150\n",
            "14/14 - 0s - loss: 0.6915 - Accuracy: 0.6387 - val_loss: 0.6931 - val_Accuracy: 0.6324 - 88ms/epoch - 6ms/step\n",
            "Epoch 51/150\n",
            "14/14 - 0s - loss: 0.6915 - Accuracy: 0.6387 - val_loss: 0.6931 - val_Accuracy: 0.6324 - 84ms/epoch - 6ms/step\n",
            "Epoch 52/150\n",
            "14/14 - 0s - loss: 0.6915 - Accuracy: 0.6387 - val_loss: 0.6931 - val_Accuracy: 0.6324 - 78ms/epoch - 6ms/step\n",
            "Epoch 53/150\n",
            "14/14 - 0s - loss: 0.6915 - Accuracy: 0.6387 - val_loss: 0.6931 - val_Accuracy: 0.6324 - 70ms/epoch - 5ms/step\n",
            "Epoch 54/150\n",
            "14/14 - 0s - loss: 0.6915 - Accuracy: 0.6387 - val_loss: 0.6931 - val_Accuracy: 0.6324 - 76ms/epoch - 5ms/step\n",
            "Epoch 55/150\n",
            "14/14 - 0s - loss: 0.6915 - Accuracy: 0.6387 - val_loss: 0.6931 - val_Accuracy: 0.6324 - 76ms/epoch - 5ms/step\n",
            "Epoch 56/150\n",
            "14/14 - 0s - loss: 0.6915 - Accuracy: 0.6387 - val_loss: 0.6931 - val_Accuracy: 0.6324 - 71ms/epoch - 5ms/step\n",
            "Epoch 57/150\n",
            "14/14 - 0s - loss: 0.6915 - Accuracy: 0.6387 - val_loss: 0.6931 - val_Accuracy: 0.6324 - 77ms/epoch - 5ms/step\n",
            "Epoch 58/150\n",
            "14/14 - 0s - loss: 0.6915 - Accuracy: 0.6387 - val_loss: 0.6931 - val_Accuracy: 0.6324 - 77ms/epoch - 6ms/step\n",
            "Epoch 59/150\n",
            "14/14 - 0s - loss: 0.6915 - Accuracy: 0.6387 - val_loss: 0.6931 - val_Accuracy: 0.6324 - 93ms/epoch - 7ms/step\n",
            "Epoch 60/150\n",
            "14/14 - 0s - loss: 0.6915 - Accuracy: 0.6387 - val_loss: 0.6931 - val_Accuracy: 0.6324 - 85ms/epoch - 6ms/step\n",
            "Epoch 61/150\n",
            "14/14 - 0s - loss: 0.6915 - Accuracy: 0.6387 - val_loss: 0.6931 - val_Accuracy: 0.6324 - 82ms/epoch - 6ms/step\n",
            "Epoch 62/150\n",
            "14/14 - 0s - loss: 0.6915 - Accuracy: 0.6387 - val_loss: 0.6931 - val_Accuracy: 0.6324 - 90ms/epoch - 6ms/step\n",
            "Epoch 63/150\n",
            "14/14 - 0s - loss: 0.6915 - Accuracy: 0.6387 - val_loss: 0.6931 - val_Accuracy: 0.6324 - 95ms/epoch - 7ms/step\n",
            "Epoch 64/150\n",
            "14/14 - 0s - loss: 0.6915 - Accuracy: 0.6387 - val_loss: 0.6931 - val_Accuracy: 0.6324 - 74ms/epoch - 5ms/step\n",
            "Epoch 65/150\n",
            "14/14 - 0s - loss: 0.6915 - Accuracy: 0.6387 - val_loss: 0.6931 - val_Accuracy: 0.6324 - 76ms/epoch - 5ms/step\n",
            "Epoch 66/150\n",
            "14/14 - 0s - loss: 0.6915 - Accuracy: 0.6387 - val_loss: 0.6931 - val_Accuracy: 0.6324 - 76ms/epoch - 5ms/step\n",
            "Epoch 67/150\n",
            "14/14 - 0s - loss: 0.6915 - Accuracy: 0.6387 - val_loss: 0.6931 - val_Accuracy: 0.6324 - 77ms/epoch - 5ms/step\n",
            "Epoch 68/150\n",
            "14/14 - 0s - loss: 0.6915 - Accuracy: 0.6387 - val_loss: 0.6931 - val_Accuracy: 0.6324 - 99ms/epoch - 7ms/step\n",
            "Epoch 69/150\n",
            "14/14 - 0s - loss: 0.6915 - Accuracy: 0.6387 - val_loss: 0.6931 - val_Accuracy: 0.6324 - 81ms/epoch - 6ms/step\n",
            "Epoch 70/150\n",
            "14/14 - 0s - loss: 0.6915 - Accuracy: 0.6387 - val_loss: 0.6931 - val_Accuracy: 0.6324 - 87ms/epoch - 6ms/step\n",
            "Epoch 71/150\n",
            "14/14 - 0s - loss: 0.6915 - Accuracy: 0.6387 - val_loss: 0.6931 - val_Accuracy: 0.6324 - 86ms/epoch - 6ms/step\n",
            "Epoch 72/150\n",
            "14/14 - 0s - loss: 0.6915 - Accuracy: 0.6387 - val_loss: 0.6931 - val_Accuracy: 0.6324 - 87ms/epoch - 6ms/step\n",
            "Epoch 73/150\n",
            "14/14 - 0s - loss: 0.6915 - Accuracy: 0.6387 - val_loss: 0.6931 - val_Accuracy: 0.6324 - 83ms/epoch - 6ms/step\n",
            "Epoch 74/150\n",
            "14/14 - 0s - loss: 0.6915 - Accuracy: 0.6387 - val_loss: 0.6931 - val_Accuracy: 0.6324 - 86ms/epoch - 6ms/step\n",
            "Epoch 75/150\n",
            "14/14 - 0s - loss: 0.6915 - Accuracy: 0.6387 - val_loss: 0.6931 - val_Accuracy: 0.6324 - 81ms/epoch - 6ms/step\n",
            "Epoch 76/150\n",
            "14/14 - 0s - loss: 0.6915 - Accuracy: 0.6387 - val_loss: 0.6931 - val_Accuracy: 0.6324 - 75ms/epoch - 5ms/step\n",
            "Epoch 77/150\n",
            "14/14 - 0s - loss: 0.6915 - Accuracy: 0.6387 - val_loss: 0.6931 - val_Accuracy: 0.6324 - 87ms/epoch - 6ms/step\n",
            "Epoch 78/150\n",
            "14/14 - 0s - loss: 0.6915 - Accuracy: 0.6387 - val_loss: 0.6931 - val_Accuracy: 0.6324 - 75ms/epoch - 5ms/step\n",
            "Epoch 79/150\n",
            "14/14 - 0s - loss: 0.6915 - Accuracy: 0.6387 - val_loss: 0.6931 - val_Accuracy: 0.6324 - 70ms/epoch - 5ms/step\n",
            "Epoch 80/150\n",
            "14/14 - 0s - loss: 0.6915 - Accuracy: 0.6387 - val_loss: 0.6931 - val_Accuracy: 0.6324 - 72ms/epoch - 5ms/step\n",
            "Epoch 81/150\n",
            "14/14 - 0s - loss: 0.6915 - Accuracy: 0.6387 - val_loss: 0.6931 - val_Accuracy: 0.6324 - 65ms/epoch - 5ms/step\n",
            "Epoch 82/150\n",
            "14/14 - 0s - loss: 0.6915 - Accuracy: 0.6387 - val_loss: 0.6931 - val_Accuracy: 0.6324 - 88ms/epoch - 6ms/step\n",
            "Epoch 83/150\n",
            "14/14 - 0s - loss: 0.6915 - Accuracy: 0.6387 - val_loss: 0.6931 - val_Accuracy: 0.6324 - 70ms/epoch - 5ms/step\n",
            "Epoch 84/150\n",
            "14/14 - 0s - loss: 0.6915 - Accuracy: 0.6387 - val_loss: 0.6931 - val_Accuracy: 0.6324 - 69ms/epoch - 5ms/step\n",
            "Epoch 85/150\n",
            "14/14 - 0s - loss: 0.6915 - Accuracy: 0.6387 - val_loss: 0.6931 - val_Accuracy: 0.6324 - 69ms/epoch - 5ms/step\n",
            "Epoch 86/150\n",
            "14/14 - 0s - loss: 0.6915 - Accuracy: 0.6387 - val_loss: 0.6931 - val_Accuracy: 0.6324 - 64ms/epoch - 5ms/step\n",
            "Epoch 87/150\n",
            "14/14 - 0s - loss: 0.6915 - Accuracy: 0.6387 - val_loss: 0.6931 - val_Accuracy: 0.6324 - 68ms/epoch - 5ms/step\n",
            "Epoch 88/150\n",
            "14/14 - 0s - loss: 0.6915 - Accuracy: 0.6387 - val_loss: 0.6931 - val_Accuracy: 0.6324 - 115ms/epoch - 8ms/step\n",
            "Epoch 89/150\n",
            "14/14 - 0s - loss: 0.6915 - Accuracy: 0.6387 - val_loss: 0.6931 - val_Accuracy: 0.6324 - 96ms/epoch - 7ms/step\n",
            "Epoch 90/150\n",
            "14/14 - 0s - loss: 0.6915 - Accuracy: 0.6387 - val_loss: 0.6931 - val_Accuracy: 0.6324 - 84ms/epoch - 6ms/step\n",
            "Epoch 91/150\n",
            "14/14 - 0s - loss: 0.6915 - Accuracy: 0.6387 - val_loss: 0.6931 - val_Accuracy: 0.6324 - 76ms/epoch - 5ms/step\n",
            "Epoch 92/150\n",
            "14/14 - 0s - loss: 0.6915 - Accuracy: 0.6387 - val_loss: 0.6931 - val_Accuracy: 0.6324 - 77ms/epoch - 6ms/step\n",
            "Epoch 93/150\n",
            "14/14 - 0s - loss: 0.6915 - Accuracy: 0.6387 - val_loss: 0.6931 - val_Accuracy: 0.6324 - 80ms/epoch - 6ms/step\n",
            "Epoch 94/150\n",
            "14/14 - 0s - loss: 0.6915 - Accuracy: 0.6387 - val_loss: 0.6931 - val_Accuracy: 0.6324 - 76ms/epoch - 5ms/step\n",
            "Epoch 95/150\n",
            "14/14 - 0s - loss: 0.6915 - Accuracy: 0.6387 - val_loss: 0.6931 - val_Accuracy: 0.6324 - 77ms/epoch - 6ms/step\n",
            "Epoch 96/150\n",
            "14/14 - 0s - loss: 0.6915 - Accuracy: 0.6387 - val_loss: 0.6931 - val_Accuracy: 0.6324 - 72ms/epoch - 5ms/step\n",
            "Epoch 97/150\n",
            "14/14 - 0s - loss: 0.6915 - Accuracy: 0.6387 - val_loss: 0.6931 - val_Accuracy: 0.6324 - 78ms/epoch - 6ms/step\n",
            "Epoch 98/150\n",
            "14/14 - 0s - loss: 0.6915 - Accuracy: 0.6387 - val_loss: 0.6931 - val_Accuracy: 0.6324 - 82ms/epoch - 6ms/step\n",
            "Epoch 99/150\n",
            "14/14 - 0s - loss: 0.6915 - Accuracy: 0.6387 - val_loss: 0.6931 - val_Accuracy: 0.6324 - 77ms/epoch - 6ms/step\n",
            "Epoch 100/150\n",
            "14/14 - 0s - loss: 0.6915 - Accuracy: 0.6387 - val_loss: 0.6931 - val_Accuracy: 0.6324 - 75ms/epoch - 5ms/step\n",
            "Epoch 101/150\n",
            "14/14 - 0s - loss: 0.6915 - Accuracy: 0.6387 - val_loss: 0.6931 - val_Accuracy: 0.6324 - 82ms/epoch - 6ms/step\n",
            "Epoch 102/150\n",
            "14/14 - 0s - loss: 0.6915 - Accuracy: 0.6387 - val_loss: 0.6931 - val_Accuracy: 0.6324 - 91ms/epoch - 6ms/step\n",
            "Epoch 103/150\n",
            "14/14 - 0s - loss: 0.6915 - Accuracy: 0.6387 - val_loss: 0.6931 - val_Accuracy: 0.6324 - 91ms/epoch - 7ms/step\n",
            "Epoch 104/150\n",
            "14/14 - 0s - loss: 0.6915 - Accuracy: 0.6387 - val_loss: 0.6931 - val_Accuracy: 0.6324 - 73ms/epoch - 5ms/step\n",
            "Epoch 105/150\n",
            "14/14 - 0s - loss: 0.6915 - Accuracy: 0.6387 - val_loss: 0.6931 - val_Accuracy: 0.6324 - 94ms/epoch - 7ms/step\n",
            "Epoch 106/150\n",
            "14/14 - 0s - loss: 0.6915 - Accuracy: 0.6387 - val_loss: 0.6931 - val_Accuracy: 0.6324 - 73ms/epoch - 5ms/step\n",
            "Epoch 107/150\n",
            "14/14 - 0s - loss: 0.6915 - Accuracy: 0.6387 - val_loss: 0.6931 - val_Accuracy: 0.6324 - 75ms/epoch - 5ms/step\n",
            "Epoch 108/150\n",
            "14/14 - 0s - loss: 0.6915 - Accuracy: 0.6387 - val_loss: 0.6931 - val_Accuracy: 0.6324 - 71ms/epoch - 5ms/step\n",
            "Epoch 109/150\n",
            "14/14 - 0s - loss: 0.6915 - Accuracy: 0.6387 - val_loss: 0.6931 - val_Accuracy: 0.6324 - 73ms/epoch - 5ms/step\n",
            "Epoch 110/150\n",
            "14/14 - 0s - loss: 0.6915 - Accuracy: 0.6387 - val_loss: 0.6931 - val_Accuracy: 0.6324 - 71ms/epoch - 5ms/step\n",
            "Epoch 111/150\n",
            "14/14 - 0s - loss: 0.6915 - Accuracy: 0.6387 - val_loss: 0.6931 - val_Accuracy: 0.6324 - 69ms/epoch - 5ms/step\n",
            "Epoch 112/150\n",
            "14/14 - 0s - loss: 0.6915 - Accuracy: 0.6387 - val_loss: 0.6931 - val_Accuracy: 0.6324 - 57ms/epoch - 4ms/step\n",
            "Epoch 113/150\n",
            "14/14 - 0s - loss: 0.6915 - Accuracy: 0.6387 - val_loss: 0.6931 - val_Accuracy: 0.6324 - 70ms/epoch - 5ms/step\n",
            "Epoch 114/150\n",
            "14/14 - 0s - loss: 0.6915 - Accuracy: 0.6387 - val_loss: 0.6931 - val_Accuracy: 0.6324 - 70ms/epoch - 5ms/step\n",
            "Epoch 115/150\n",
            "14/14 - 0s - loss: 0.6915 - Accuracy: 0.6387 - val_loss: 0.6931 - val_Accuracy: 0.6324 - 78ms/epoch - 6ms/step\n",
            "Epoch 116/150\n",
            "14/14 - 0s - loss: 0.6915 - Accuracy: 0.6387 - val_loss: 0.6931 - val_Accuracy: 0.6324 - 64ms/epoch - 5ms/step\n",
            "Epoch 117/150\n",
            "14/14 - 0s - loss: 0.6915 - Accuracy: 0.6387 - val_loss: 0.6931 - val_Accuracy: 0.6324 - 53ms/epoch - 4ms/step\n",
            "Epoch 118/150\n",
            "14/14 - 0s - loss: 0.6915 - Accuracy: 0.6387 - val_loss: 0.6931 - val_Accuracy: 0.6324 - 71ms/epoch - 5ms/step\n",
            "Epoch 119/150\n",
            "14/14 - 0s - loss: 0.6915 - Accuracy: 0.6387 - val_loss: 0.6931 - val_Accuracy: 0.6324 - 69ms/epoch - 5ms/step\n",
            "Epoch 120/150\n",
            "14/14 - 0s - loss: 0.6915 - Accuracy: 0.6387 - val_loss: 0.6931 - val_Accuracy: 0.6324 - 71ms/epoch - 5ms/step\n",
            "Epoch 121/150\n",
            "14/14 - 0s - loss: 0.6915 - Accuracy: 0.6387 - val_loss: 0.6931 - val_Accuracy: 0.6324 - 67ms/epoch - 5ms/step\n",
            "Epoch 122/150\n",
            "14/14 - 0s - loss: 0.6915 - Accuracy: 0.6387 - val_loss: 0.6931 - val_Accuracy: 0.6324 - 73ms/epoch - 5ms/step\n",
            "Epoch 123/150\n",
            "14/14 - 0s - loss: 0.6915 - Accuracy: 0.6387 - val_loss: 0.6931 - val_Accuracy: 0.6324 - 72ms/epoch - 5ms/step\n",
            "Epoch 124/150\n",
            "14/14 - 0s - loss: 0.6915 - Accuracy: 0.6387 - val_loss: 0.6931 - val_Accuracy: 0.6324 - 72ms/epoch - 5ms/step\n",
            "Epoch 125/150\n",
            "14/14 - 0s - loss: 0.6915 - Accuracy: 0.6387 - val_loss: 0.6931 - val_Accuracy: 0.6324 - 88ms/epoch - 6ms/step\n",
            "Epoch 126/150\n",
            "14/14 - 0s - loss: 0.6915 - Accuracy: 0.6387 - val_loss: 0.6931 - val_Accuracy: 0.6324 - 91ms/epoch - 7ms/step\n",
            "Epoch 127/150\n",
            "14/14 - 0s - loss: 0.6915 - Accuracy: 0.6387 - val_loss: 0.6931 - val_Accuracy: 0.6324 - 85ms/epoch - 6ms/step\n",
            "Epoch 128/150\n",
            "14/14 - 0s - loss: 0.6915 - Accuracy: 0.6387 - val_loss: 0.6931 - val_Accuracy: 0.6324 - 84ms/epoch - 6ms/step\n",
            "Epoch 129/150\n",
            "14/14 - 0s - loss: 0.6915 - Accuracy: 0.6387 - val_loss: 0.6931 - val_Accuracy: 0.6324 - 155ms/epoch - 11ms/step\n",
            "Epoch 130/150\n",
            "14/14 - 0s - loss: 0.6915 - Accuracy: 0.6387 - val_loss: 0.6931 - val_Accuracy: 0.6324 - 151ms/epoch - 11ms/step\n",
            "Epoch 131/150\n",
            "14/14 - 0s - loss: 0.6915 - Accuracy: 0.6387 - val_loss: 0.6931 - val_Accuracy: 0.6324 - 77ms/epoch - 5ms/step\n",
            "Epoch 132/150\n",
            "14/14 - 0s - loss: 0.6915 - Accuracy: 0.6387 - val_loss: 0.6931 - val_Accuracy: 0.6324 - 72ms/epoch - 5ms/step\n",
            "Epoch 133/150\n",
            "14/14 - 0s - loss: 0.6915 - Accuracy: 0.6387 - val_loss: 0.6931 - val_Accuracy: 0.6324 - 79ms/epoch - 6ms/step\n",
            "Epoch 134/150\n",
            "14/14 - 0s - loss: 0.6915 - Accuracy: 0.6387 - val_loss: 0.6931 - val_Accuracy: 0.6324 - 69ms/epoch - 5ms/step\n",
            "Epoch 135/150\n",
            "14/14 - 0s - loss: 0.6915 - Accuracy: 0.6387 - val_loss: 0.6931 - val_Accuracy: 0.6324 - 77ms/epoch - 5ms/step\n",
            "Epoch 136/150\n",
            "14/14 - 0s - loss: 0.6915 - Accuracy: 0.6387 - val_loss: 0.6931 - val_Accuracy: 0.6324 - 75ms/epoch - 5ms/step\n",
            "Epoch 137/150\n",
            "14/14 - 0s - loss: 0.6915 - Accuracy: 0.6387 - val_loss: 0.6931 - val_Accuracy: 0.6324 - 83ms/epoch - 6ms/step\n",
            "Epoch 138/150\n",
            "14/14 - 0s - loss: 0.6915 - Accuracy: 0.6387 - val_loss: 0.6931 - val_Accuracy: 0.6324 - 94ms/epoch - 7ms/step\n",
            "Epoch 139/150\n",
            "14/14 - 0s - loss: 0.6915 - Accuracy: 0.6387 - val_loss: 0.6931 - val_Accuracy: 0.6324 - 102ms/epoch - 7ms/step\n",
            "Epoch 140/150\n",
            "14/14 - 0s - loss: 0.6915 - Accuracy: 0.6387 - val_loss: 0.6931 - val_Accuracy: 0.6324 - 68ms/epoch - 5ms/step\n",
            "Epoch 141/150\n",
            "14/14 - 0s - loss: 0.6915 - Accuracy: 0.6387 - val_loss: 0.6931 - val_Accuracy: 0.6324 - 87ms/epoch - 6ms/step\n",
            "Epoch 142/150\n",
            "14/14 - 0s - loss: 0.6915 - Accuracy: 0.6387 - val_loss: 0.6931 - val_Accuracy: 0.6324 - 66ms/epoch - 5ms/step\n",
            "Epoch 143/150\n",
            "14/14 - 0s - loss: 0.6915 - Accuracy: 0.6387 - val_loss: 0.6931 - val_Accuracy: 0.6324 - 60ms/epoch - 4ms/step\n",
            "Epoch 144/150\n",
            "14/14 - 0s - loss: 0.6915 - Accuracy: 0.6387 - val_loss: 0.6931 - val_Accuracy: 0.6324 - 54ms/epoch - 4ms/step\n",
            "Epoch 145/150\n",
            "14/14 - 0s - loss: 0.6915 - Accuracy: 0.6387 - val_loss: 0.6931 - val_Accuracy: 0.6324 - 67ms/epoch - 5ms/step\n",
            "Epoch 146/150\n",
            "14/14 - 0s - loss: 0.6915 - Accuracy: 0.6387 - val_loss: 0.6931 - val_Accuracy: 0.6324 - 65ms/epoch - 5ms/step\n",
            "Epoch 147/150\n",
            "14/14 - 0s - loss: 0.6915 - Accuracy: 0.6387 - val_loss: 0.6931 - val_Accuracy: 0.6324 - 87ms/epoch - 6ms/step\n",
            "Epoch 148/150\n",
            "14/14 - 0s - loss: 0.6915 - Accuracy: 0.6387 - val_loss: 0.6931 - val_Accuracy: 0.6324 - 120ms/epoch - 9ms/step\n",
            "Epoch 149/150\n",
            "14/14 - 0s - loss: 0.6915 - Accuracy: 0.6387 - val_loss: 0.6931 - val_Accuracy: 0.6324 - 70ms/epoch - 5ms/step\n",
            "Epoch 150/150\n",
            "14/14 - 0s - loss: 0.6915 - Accuracy: 0.6387 - val_loss: 0.6931 - val_Accuracy: 0.6324 - 105ms/epoch - 7ms/step\n"
          ]
        }
      ]
    },
    {
      "cell_type": "markdown",
      "source": [
        "##Evaluate model"
      ],
      "metadata": {
        "id": "ztcYXyczYcU5"
      }
    },
    {
      "cell_type": "code",
      "source": [
        "loss, acc = model.evaluate(x_test, y_test, verbose=2)\n",
        "print(f'Test Accuracy: {acc}')"
      ],
      "metadata": {
        "colab": {
          "base_uri": "https://localhost:8080/"
        },
        "id": "wuCZJO30Yeja",
        "outputId": "3359ab55-c8cd-4854-a996-db11064cc888"
      },
      "execution_count": null,
      "outputs": [
        {
          "output_type": "stream",
          "name": "stdout",
          "text": [
            "5/5 - 0s - loss: 0.8637 - Accuracy: 0.5844 - 18ms/epoch - 4ms/step\n",
            "Test Accuracy: 0.5844155550003052\n"
          ]
        }
      ]
    },
    {
      "cell_type": "markdown",
      "source": [
        "##Model architecture plot"
      ],
      "metadata": {
        "id": "-R0QTZMOZiJF"
      }
    },
    {
      "cell_type": "code",
      "source": [
        "from tensorflow.keras.utils import plot_model\n",
        "\n",
        "n_features = x_train.shape[1]\n",
        "\n",
        "model = Sequential()\n",
        "model.add(Dense(10, input_shape=(n_features,)))\n",
        "model.add(Dense(8))\n",
        "model.add(Dense(6))\n",
        "model.add(Dense(4))\n",
        "model.add(Dense(2))\n",
        "\n",
        "plot_model(model, 'model.png', show_shapes=True)"
      ],
      "metadata": {
        "colab": {
          "base_uri": "https://localhost:8080/",
          "height": 644
        },
        "id": "AKgx8qzGZPUp",
        "outputId": "dca0522d-becc-468b-fc3c-cc0a70051abe"
      },
      "execution_count": null,
      "outputs": [
        {
          "output_type": "execute_result",
          "data": {
            "text/plain": [
              "<IPython.core.display.Image object>"
            ],
            "image/png": "[encoded data removed]"
          },
          "metadata": {},
          "execution_count": 60
        }
      ]
    },
    {
      "cell_type": "markdown",
      "source": [
        "##Plot learning curves"
      ],
      "metadata": {
        "id": "77hGq9qVaIzK"
      }
    },
    {
      "cell_type": "code",
      "source": [
        "from matplotlib import pyplot\n",
        "\n",
        "pyplot.title('Learning Curves')\n",
        "pyplot.xlabel('Epoch')\n",
        "pyplot.ylabel('Loss')\n",
        "pyplot.plot(history.history['loss'], label='train')\n",
        "pyplot.plot(history.history['val_loss'], label='val')\n",
        "pyplot.legend()\n",
        "pyplot.show()"
      ],
      "metadata": {
        "colab": {
          "base_uri": "https://localhost:8080/",
          "height": 295
        },
        "id": "y5APAeYnaFuC",
        "outputId": "16533846-dacf-424b-a9f3-5f41b62964fd"
      },
      "execution_count": null,
      "outputs": [
        {
          "output_type": "display_data",
          "data": {
            "text/plain": [
              "<Figure size 432x288 with 1 Axes>"
            ],
            "image/png": "[encoded data removed]"
          },
          "metadata": {
            "needs_background": "light"
          }
        }
      ]
    },
    {
      "cell_type": "markdown",
      "source": [
        "##Drop out"
      ],
      "metadata": {
        "id": "9qEuwuzEgt25"
      }
    },
    {
      "cell_type": "code",
      "source": [
        "from tensorflow.keras.layers import Dropout\n",
        "\n",
        "n_features = x_train.shape[1]\n",
        "\n",
        "model = Sequential()\n",
        "model.add(Dense(10, input_shape=(n_features,)))\n",
        "model.add(Dense(8))\n",
        "model.add(Dense(6))\n",
        "model.add(Dense(4))\n",
        "model.add(Dense(2))\n",
        "\n",
        "model.add(Dropout(0.5))\n",
        "\n",
        "model.summary()"
      ],
      "metadata": {
        "colab": {
          "base_uri": "https://localhost:8080/"
        },
        "id": "95yFCD-OgwT6",
        "outputId": "1b608270-d8ed-44fb-ae4c-95a0870f129e"
      },
      "execution_count": null,
      "outputs": [
        {
          "output_type": "stream",
          "name": "stdout",
          "text": [
            "Model: \"sequential_9\"\n",
            "_________________________________________________________________\n",
            " Layer (type)                Output Shape              Param #   \n",
            "=================================================================\n",
            " dense_43 (Dense)            (None, 10)                100       \n",
            "                                                                 \n",
            " dense_44 (Dense)            (None, 8)                 88        \n",
            "                                                                 \n",
            " dense_45 (Dense)            (None, 6)                 54        \n",
            "                                                                 \n",
            " dense_46 (Dense)            (None, 4)                 28        \n",
            "                                                                 \n",
            " dense_47 (Dense)            (None, 2)                 10        \n",
            "                                                                 \n",
            " dropout (Dropout)           (None, 2)                 0         \n",
            "                                                                 \n",
            "=================================================================\n",
            "Total params: 280\n",
            "Trainable params: 280\n",
            "Non-trainable params: 0\n",
            "_________________________________________________________________\n"
          ]
        }
      ]
    },
    {
      "cell_type": "markdown",
      "source": [
        "##Batch normalization"
      ],
      "metadata": {
        "id": "ezi4Vao9gU1I"
      }
    },
    {
      "cell_type": "code",
      "source": [
        "from tensorflow.keras.layers import BatchNormalization\n",
        "\n",
        "n_features = x_train.shape[1]\n",
        "\n",
        "model = Sequential()\n",
        "model.add(Dense(10, input_shape=(n_features,)))\n",
        "model.add(Dense(8))\n",
        "model.add(BatchNormalization())\n",
        "model.add(Dense(6))\n",
        "model.add(BatchNormalization())\n",
        "model.add(Dense(4))\n",
        "model.add(BatchNormalization())\n",
        "model.add(Dense(2))\n",
        "\n",
        "model.summary()"
      ],
      "metadata": {
        "colab": {
          "base_uri": "https://localhost:8080/"
        },
        "id": "-mY9KcmJgYhL",
        "outputId": "4a56df8f-5fff-46a6-813d-c3e918ccec38"
      },
      "execution_count": null,
      "outputs": [
        {
          "output_type": "stream",
          "name": "stdout",
          "text": [
            "Model: \"sequential_10\"\n",
            "_________________________________________________________________\n",
            " Layer (type)                Output Shape              Param #   \n",
            "=================================================================\n",
            " dense_48 (Dense)            (None, 10)                100       \n",
            "                                                                 \n",
            " dense_49 (Dense)            (None, 8)                 88        \n",
            "                                                                 \n",
            " batch_normalization_3 (Batc  (None, 8)                32        \n",
            " hNormalization)                                                 \n",
            "                                                                 \n",
            " dense_50 (Dense)            (None, 6)                 54        \n",
            "                                                                 \n",
            " batch_normalization_4 (Batc  (None, 6)                24        \n",
            " hNormalization)                                                 \n",
            "                                                                 \n",
            " dense_51 (Dense)            (None, 4)                 28        \n",
            "                                                                 \n",
            " batch_normalization_5 (Batc  (None, 4)                16        \n",
            " hNormalization)                                                 \n",
            "                                                                 \n",
            " dense_52 (Dense)            (None, 2)                 10        \n",
            "                                                                 \n",
            "=================================================================\n",
            "Total params: 352\n",
            "Trainable params: 316\n",
            "Non-trainable params: 36\n",
            "_________________________________________________________________\n"
          ]
        }
      ]
    }
  ]
}