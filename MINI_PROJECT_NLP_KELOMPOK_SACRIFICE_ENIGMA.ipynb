{
  "cells": [
    {
      "cell_type": "markdown",
      "metadata": {
        "id": "view-in-github",
        "colab_type": "text"
      },
      "source": [
        "<a href=\"https://colab.research.google.com/github/rifka1/MSIBOrbit/blob/main/MINI_PROJECT_NLP_KELOMPOK_SACRIFICE_ENIGMA.ipynb\" target=\"_parent\"><img src=\"https://colab.research.google.com/assets/colab-badge.svg\" alt=\"Open In Colab\"/></a>"
      ]
    },
    {
      "cell_type": "markdown",
      "source": [
        "##**MINI PROJECT NLP (CHATBOT MAKANAN KHAS INDONESIA)**"
      ],
      "metadata": {
        "id": "oo1PqtWfcgmt"
      }
    },
    {
      "cell_type": "markdown",
      "metadata": {
        "id": "za1gVNL5CRGY"
      },
      "source": [
        "**Kelompok Sacrifice♡**\n",
        "\n",
        "> 1. Boy Fransiskus Sitanggang\n",
        "2. Dimas Danu Saputra\n",
        "3. Ghina Alyaa Nabillah\n",
        "4. Presillia Br Sianturi\n",
        "5. Rifka Fariyanti\n",
        "6. Tyas Ismayanti"
      ]
    },
    {
      "cell_type": "code",
      "execution_count": null,
      "metadata": {
        "id": "Q9_mnPq6NPUy",
        "colab": {
          "base_uri": "https://localhost:8080/"
        },
        "outputId": "c71a9c9d-5977-4357-93be-453dd3bc97fc"
      },
      "outputs": [
        {
          "output_type": "stream",
          "name": "stdout",
          "text": [
            "Collecting gtts\n",
            "  Downloading gTTS-2.2.4-py3-none-any.whl (26 kB)\n",
            "Requirement already satisfied: click in /usr/local/lib/python3.7/dist-packages (from gtts) (7.1.2)\n",
            "Requirement already satisfied: six in /usr/local/lib/python3.7/dist-packages (from gtts) (1.15.0)\n",
            "Requirement already satisfied: requests in /usr/local/lib/python3.7/dist-packages (from gtts) (2.23.0)\n",
            "Requirement already satisfied: idna<3,>=2.5 in /usr/local/lib/python3.7/dist-packages (from requests->gtts) (2.10)\n",
            "Requirement already satisfied: urllib3!=1.25.0,!=1.25.1,<1.26,>=1.21.1 in /usr/local/lib/python3.7/dist-packages (from requests->gtts) (1.24.3)\n",
            "Requirement already satisfied: certifi>=2017.4.17 in /usr/local/lib/python3.7/dist-packages (from requests->gtts) (2021.10.8)\n",
            "Requirement already satisfied: chardet<4,>=3.0.2 in /usr/local/lib/python3.7/dist-packages (from requests->gtts) (3.0.4)\n",
            "Installing collected packages: gtts\n",
            "Successfully installed gtts-2.2.4\n"
          ]
        }
      ],
      "source": [
        "!pip install gtts"
      ]
    },
    {
      "cell_type": "code",
      "execution_count": null,
      "metadata": {
        "id": "ye3nyhSyCRGi",
        "colab": {
          "base_uri": "https://localhost:8080/"
        },
        "outputId": "579fc257-35b7-4c71-bdc5-739bd8ba5de7"
      },
      "outputs": [
        {
          "output_type": "stream",
          "name": "stdout",
          "text": [
            "Collecting newspaper3k\n",
            "  Downloading newspaper3k-0.2.8-py3-none-any.whl (211 kB)\n",
            "\u001b[?25l\r\u001b[K     |█▌                              | 10 kB 13.3 MB/s eta 0:00:01\r\u001b[K     |███                             | 20 kB 11.6 MB/s eta 0:00:01\r\u001b[K     |████▋                           | 30 kB 9.6 MB/s eta 0:00:01\r\u001b[K     |██████▏                         | 40 kB 4.5 MB/s eta 0:00:01\r\u001b[K     |███████▊                        | 51 kB 4.4 MB/s eta 0:00:01\r\u001b[K     |█████████▎                      | 61 kB 5.2 MB/s eta 0:00:01\r\u001b[K     |██████████▉                     | 71 kB 5.7 MB/s eta 0:00:01\r\u001b[K     |████████████▍                   | 81 kB 5.4 MB/s eta 0:00:01\r\u001b[K     |██████████████                  | 92 kB 6.0 MB/s eta 0:00:01\r\u001b[K     |███████████████▌                | 102 kB 4.9 MB/s eta 0:00:01\r\u001b[K     |█████████████████               | 112 kB 4.9 MB/s eta 0:00:01\r\u001b[K     |██████████████████▋             | 122 kB 4.9 MB/s eta 0:00:01\r\u001b[K     |████████████████████▏           | 133 kB 4.9 MB/s eta 0:00:01\r\u001b[K     |█████████████████████▊          | 143 kB 4.9 MB/s eta 0:00:01\r\u001b[K     |███████████████████████▎        | 153 kB 4.9 MB/s eta 0:00:01\r\u001b[K     |████████████████████████▉       | 163 kB 4.9 MB/s eta 0:00:01\r\u001b[K     |██████████████████████████▍     | 174 kB 4.9 MB/s eta 0:00:01\r\u001b[K     |████████████████████████████    | 184 kB 4.9 MB/s eta 0:00:01\r\u001b[K     |█████████████████████████████▌  | 194 kB 4.9 MB/s eta 0:00:01\r\u001b[K     |███████████████████████████████ | 204 kB 4.9 MB/s eta 0:00:01\r\u001b[K     |████████████████████████████████| 211 kB 4.9 MB/s \n",
            "\u001b[?25hCollecting feedfinder2>=0.0.4\n",
            "  Downloading feedfinder2-0.0.4.tar.gz (3.3 kB)\n",
            "Requirement already satisfied: python-dateutil>=2.5.3 in /usr/local/lib/python3.7/dist-packages (from newspaper3k) (2.8.2)\n",
            "Requirement already satisfied: beautifulsoup4>=4.4.1 in /usr/local/lib/python3.7/dist-packages (from newspaper3k) (4.6.3)\n",
            "Requirement already satisfied: nltk>=3.2.1 in /usr/local/lib/python3.7/dist-packages (from newspaper3k) (3.2.5)\n",
            "Collecting jieba3k>=0.35.1\n",
            "  Downloading jieba3k-0.35.1.zip (7.4 MB)\n",
            "\u001b[K     |████████████████████████████████| 7.4 MB 42.3 MB/s \n",
            "\u001b[?25hCollecting tinysegmenter==0.3\n",
            "  Downloading tinysegmenter-0.3.tar.gz (16 kB)\n",
            "Collecting cssselect>=0.9.2\n",
            "  Downloading cssselect-1.1.0-py2.py3-none-any.whl (16 kB)\n",
            "Requirement already satisfied: requests>=2.10.0 in /usr/local/lib/python3.7/dist-packages (from newspaper3k) (2.23.0)\n",
            "Requirement already satisfied: lxml>=3.6.0 in /usr/local/lib/python3.7/dist-packages (from newspaper3k) (4.2.6)\n",
            "Collecting feedparser>=5.2.1\n",
            "  Downloading feedparser-6.0.8-py3-none-any.whl (81 kB)\n",
            "\u001b[K     |████████████████████████████████| 81 kB 9.1 MB/s \n",
            "\u001b[?25hCollecting tldextract>=2.0.1\n",
            "  Downloading tldextract-3.2.0-py3-none-any.whl (87 kB)\n",
            "\u001b[K     |████████████████████████████████| 87 kB 6.4 MB/s \n",
            "\u001b[?25hRequirement already satisfied: Pillow>=3.3.0 in /usr/local/lib/python3.7/dist-packages (from newspaper3k) (7.1.2)\n",
            "Requirement already satisfied: PyYAML>=3.11 in /usr/local/lib/python3.7/dist-packages (from newspaper3k) (3.13)\n",
            "Requirement already satisfied: six in /usr/local/lib/python3.7/dist-packages (from feedfinder2>=0.0.4->newspaper3k) (1.15.0)\n",
            "Collecting sgmllib3k\n",
            "  Downloading sgmllib3k-1.0.0.tar.gz (5.8 kB)\n",
            "Requirement already satisfied: chardet<4,>=3.0.2 in /usr/local/lib/python3.7/dist-packages (from requests>=2.10.0->newspaper3k) (3.0.4)\n",
            "Requirement already satisfied: urllib3!=1.25.0,!=1.25.1,<1.26,>=1.21.1 in /usr/local/lib/python3.7/dist-packages (from requests>=2.10.0->newspaper3k) (1.24.3)\n",
            "Requirement already satisfied: certifi>=2017.4.17 in /usr/local/lib/python3.7/dist-packages (from requests>=2.10.0->newspaper3k) (2021.10.8)\n",
            "Requirement already satisfied: idna<3,>=2.5 in /usr/local/lib/python3.7/dist-packages (from requests>=2.10.0->newspaper3k) (2.10)\n",
            "Requirement already satisfied: filelock>=3.0.8 in /usr/local/lib/python3.7/dist-packages (from tldextract>=2.0.1->newspaper3k) (3.6.0)\n",
            "Collecting requests-file>=1.4\n",
            "  Downloading requests_file-1.5.1-py2.py3-none-any.whl (3.7 kB)\n",
            "Building wheels for collected packages: tinysegmenter, feedfinder2, jieba3k, sgmllib3k\n",
            "  Building wheel for tinysegmenter (setup.py) ... \u001b[?25l\u001b[?25hdone\n",
            "  Created wheel for tinysegmenter: filename=tinysegmenter-0.3-py3-none-any.whl size=13553 sha256=3b73fd9c3b356a0d610f577457389429547c00d9e69e147049278a15cc4520f2\n",
            "  Stored in directory: /root/.cache/pip/wheels/df/67/41/faca10fa501ca010be41b49d40360c2959e1c4f09bcbfa37fa\n",
            "  Building wheel for feedfinder2 (setup.py) ... \u001b[?25l\u001b[?25hdone\n",
            "  Created wheel for feedfinder2: filename=feedfinder2-0.0.4-py3-none-any.whl size=3357 sha256=a574e3ed19cdbfaa068d97628ae1d07451d0130fda1d262d89bd05182deed7db\n",
            "  Stored in directory: /root/.cache/pip/wheels/7f/d4/8f/6e2ca54744c9d7292d88ddb8d42876bcdab5e6d84a21c10346\n",
            "  Building wheel for jieba3k (setup.py) ... \u001b[?25l\u001b[?25hdone\n",
            "  Created wheel for jieba3k: filename=jieba3k-0.35.1-py3-none-any.whl size=7398404 sha256=11e7c805e7f1474c70b1f5cfb360327b05e0c93afc9e12afd945e00d4076ee90\n",
            "  Stored in directory: /root/.cache/pip/wheels/4c/91/46/3c208287b726df325a5979574324878b679116e4baae1af3c3\n",
            "  Building wheel for sgmllib3k (setup.py) ... \u001b[?25l\u001b[?25hdone\n",
            "  Created wheel for sgmllib3k: filename=sgmllib3k-1.0.0-py3-none-any.whl size=6066 sha256=7df5929637ee5578720416e580060e1e7a644cf6b56788cc57ea4cb1c566c13a\n",
            "  Stored in directory: /root/.cache/pip/wheels/73/ad/a4/0dff4a6ef231fc0dfa12ffbac2a36cebfdddfe059f50e019aa\n",
            "Successfully built tinysegmenter feedfinder2 jieba3k sgmllib3k\n",
            "Installing collected packages: sgmllib3k, requests-file, tldextract, tinysegmenter, jieba3k, feedparser, feedfinder2, cssselect, newspaper3k\n",
            "Successfully installed cssselect-1.1.0 feedfinder2-0.0.4 feedparser-6.0.8 jieba3k-0.35.1 newspaper3k-0.2.8 requests-file-1.5.1 sgmllib3k-1.0.0 tinysegmenter-0.3 tldextract-3.2.0\n"
          ]
        }
      ],
      "source": [
        "!pip install newspaper3k"
      ]
    },
    {
      "cell_type": "code",
      "execution_count": null,
      "metadata": {
        "id": "4FGmgeEECRGi"
      },
      "outputs": [],
      "source": [
        "# Import library\n",
        "from newspaper import Article\n",
        "import random\n",
        "import nltk\n",
        "import string\n",
        "from sklearn.feature_extraction.text import CountVectorizer\n",
        "from sklearn.metrics.pairwise import cosine_similarity\n",
        "import numpy as np\n",
        "import pandas as pd\n",
        "import warnings\n",
        "import re\n",
        "warnings.filterwarnings('ignore')\n",
        "\n",
        "from gtts import gTTS\n",
        "import IPython.display as ipd\n",
        "import time\n",
        "from io import BytesIO"
      ]
    },
    {
      "cell_type": "code",
      "execution_count": null,
      "metadata": {
        "id": "Sa8BD2nwCRGj",
        "colab": {
          "base_uri": "https://localhost:8080/"
        },
        "outputId": "eb1ed5f3-568f-4f1e-efcd-08d949e7bc94"
      },
      "outputs": [
        {
          "output_type": "execute_result",
          "data": {
            "text/plain": [
              "True"
            ]
          },
          "metadata": {},
          "execution_count": 4
        }
      ],
      "source": [
        "nltk.download('punkt', quiet=True)"
      ]
    },
    {
      "cell_type": "markdown",
      "source": [
        "<h3>PROBLEM SCOOPING MINI PROJECT NLP (CHATBOT MAKANAN KHAS INDONESIA)</h3>"
      ],
      "metadata": {
        "id": "dBjpqBzX7a13"
      }
    },
    {
      "cell_type": "markdown",
      "source": [
        "4W Problem Scoping\n",
        "\n",
        "1. Who? <br>\n",
        "Mengacu pada siapa yang menghadapi masalah dan siapa pemangku kepentingan dari masalah tersebut. \n",
        "=> Mini projek ini dapat digunakan untuk memperkenalkan makanan khas Indonesia bagi siapapun yang belum begitu mengenal makanan khas Indonesia.\n",
        "\n",
        "2. What? <br>\n",
        "Mengacu pada apa masalah dan bagaimana anda tahu tentang masalah nya? \n",
        "=> Masalah yang diangkat adalah mengenai siapapun yang belum mengenal makanan khas Indonesia dengan baik.\n",
        "\n",
        "3. Where? <br>\n",
        "Lokasi masalah? \n",
        "=> Untuk lokasinya tidak begitu spesifik, karena mencakup seluruh Indonesia.\n",
        "\n",
        "4. Why? <br>\n",
        "Mengapa perlu memecahkan masalah? \n",
        "=> Untuk memudahkan user mencari informasi mengenai makanan khas Indonesia.\n"
      ],
      "metadata": {
        "id": "lJpVW3PC8Clx"
      }
    },
    {
      "cell_type": "markdown",
      "source": [
        "##**CHATBOT TEXT**"
      ],
      "metadata": {
        "id": "QzPu7h1qGeiX"
      }
    },
    {
      "cell_type": "markdown",
      "source": [
        "---\n",
        "\n",
        "# Proses 1 (Making Corpus with Download an Article)"
      ],
      "metadata": {
        "id": "Dz6BA2UHHigx"
      }
    },
    {
      "cell_type": "markdown",
      "source": [
        "<h3>DATA AQCUISITION</h3>"
      ],
      "metadata": {
        "id": "SgXu812jG_9K"
      }
    },
    {
      "cell_type": "code",
      "source": [
        "article = Article('https://hot.liputan6.com/read/4464901/40-makanan-khas-daerah-di-indonesia-beserta-asalnya-wajib-dicicipi')\n",
        "article.download()\n",
        "article.parse()\n",
        "article.nlp()\n",
        "article2 = Article('https://www.gramedia.com/best-seller/makanan-khas-indonesia-yang-mendunia/')\n",
        "article2.download()\n",
        "article2.parse()\n",
        "article2.nlp() \n",
        "corpus = article.text+article2.text\n",
        "print(corpus)"
      ],
      "metadata": {
        "colab": {
          "base_uri": "https://localhost:8080/"
        },
        "id": "dM0lJ5GTHXli",
        "outputId": "bcf30b83-1bc2-4f04-de76-2092efaeb98d"
      },
      "execution_count": null,
      "outputs": [
        {
          "output_type": "stream",
          "name": "stdout",
          "text": [
            "Hampir mirip tempoyak, namun makanan ini juga salah satu cita rasa khas Jambi. (Bangun Santoso/Liputan6.com)\n",
            "\n",
            "Mie Aceh\n",
            "\n",
            "Makanan Khas Daerah di Indonesia dari Aceh ini memiliki tekstur yang tebal dan dicampur dengan irisan daging serta bumbu-bumbu rempah yang kuat. Mie Aceh biasanya disajikan dengan digoreng, direbus atau ditumis. Selain itu juga bisa disajikan dengan tambahan seafood seperti kepiting, udang dan cumi.\n",
            "\n",
            "Bika Ambon\n",
            "\n",
            "Walaupun namanya Bika Ambon, namun makanan ini bukan berasal dari Ambon. Kue ini berasal dari Sumatera Utara dan biasanya banyak dijual di Kota Medan sebagai oleh-oleh. Kue berwarna kuning ini memiliki tekstur yang lembut dan manis.\n",
            "\n",
            "Rendang\n",
            "\n",
            "Makanan Khas Indonesia dari Sumatera Barat ini pernah dinobatkan sebagai makanan terlezat di dunia. Makanan dari daging sapi yang dimasak dengan santan kelapa serta bumbu rempah selama berjam-jam ini memang begitu terkenal. Rasanya yang gurih dan juga nikmat, sukses membuat makanan khas daerah Sumatera Barat ini begitu disukai banyak orang.\n",
            "\n",
            "Gulai Belacan\n",
            "\n",
            "Gulai Belacan merupakan makanan khas daerah Riau. Belacan merupakan nama lain dari terasi yang begitu dikenal oleh orang Sumatera. Makanan khas daerah Riau ini dibuat dari bahan dasar berupa kuah yang telah dicampur dengan terasi. Selain itu terdapat pula daging, udang atau ikan.\n",
            "\n",
            "Otak-otak\n",
            "\n",
            "Makanan khas Indonesia lainnya berasal dari daerah Kepulauan Riau, yaitu otak-otak. Makanan tradisional yang terbuat dari bahan utama seafood ini merupakan makanan hasil laut yang diolah dan dibungkus dengan daun pisang.\n",
            "\n",
            "Gulai Ikan Patin\n",
            "\n",
            "Makanan khas Indonesia dari Jambi ini memiliki keunikan dari cara memasaknya. Cara memasaknya dicampur dengan daging buah durian yang sudah terfermentasi atau biasa disebut tempoyak. Namun terkadang tempoyak bisa digantikan dengan santan.\n",
            "\n",
            "Pendap\n",
            "\n",
            "Pendap merupakan makanan khas daerah Bengkulu. Makanan ini berbahan dasar ikan yang dibumbui dengan bumbu khusus yang beraneka ragam.\n",
            "\n",
            "Pempek\n",
            "\n",
            "Makanan khas daerah Sumatera Selatan ini sudah cukup terkenal dengan kelezatannya. Makanan ini terbuat dari olahan ikan yang dicampur dengan sagu. Dilengkapi dengan kuah cuko atau cuka yang begitu menggoda selera membuat banyak orang menggemarinya.\n",
            "\n",
            "Mie Bangka\n",
            "\n",
            "Makanan khas Indonesia dari daerah Bangka ini tentu saja berbahan dasar mi. Dihidangkan dengan mencampurkannya dengan kuah yang terbuat dari bumbu ikan, udang, atau cumi, dan ditaburi dengan kecambah serta mentimun.\n",
            "\n",
            "Seruit\n",
            "\n",
            "Seruit merupakan makanan khas Indonesia yang berasal dari Lampung. Makanan ini terbuat dari ikan yang dibakar dan disajikan dengan sambal terasi atau tempoyak atau mangga. Jika kamu sedang berkunjung ke Lampung, tak ada salahnya untuk mencicipi kuliner satu ini.Makanan Khas Indonesia – Indonesia memiliki destinasi kuliner yang sangat beragam, bahkan setiap daerah memiliki makanan khasnya masing-masing. Tentu sebagai pencinta kuliner Anda perlu tahu sebenarnya makanan khas Indonesia yang sudah terkenal sampai ke penjuru dunia itu apa saja, penasaran?\n",
            "\n",
            "Makanan Khas Indonesia yang Mendunia\n",
            "\n",
            "Sudah menjadi rahasia umum bahwa makanan yang ada di Indonesia terkenal dengan kelezatannya. Makanan khas Indonesia tersebut bahkan sudah terkenal di dunia. Apa saja makanan khas Indonesia yang mendunia? Simak penjelasan di bawah ini!\n",
            "\n",
            "1. Rendang\n",
            "\n",
            "Siapa yang tidak tahu makanan khas dari Sumatera Barat yang satu ini. Irisan daging sapi yang dimasak dengan rempah khas padang yang gurih.\n",
            "\n",
            "Ada dua proses pemasakan daging sapi yang kaya akan rempah ini. Untuk memasang rendang, dibutuhkan waktu minimal 4 jam untuk menjadikan daging rendang berwarna hitam pekat dan bumbu mengering seperti dedak.\n",
            "\n",
            "Rendang yang dimasak dalam waktu singkat dengan santan yang masih mengental disebut kalio, teksur kuah masih kental dan daging tidak begitu kering.\n",
            "\n",
            "Bahan-bahan yang dibutuhkan untuk memasak rendang diantaranya daging sapi, santan, cabai, lada, lengkuas, kunyit, jahe, bawang merah, bawang putih, dan bumbu lainnya. Karena dimasak dalam waktu yang lama dan menggunakan rempah alami, rendang bisa tahan hingga berhari-hari.\n",
            "\n",
            "Cita rasanya pun akan semakin lebih nikmat, sangat pas untuk disantap dengan nasi hangat. Tak mengherankan jika daging rendang menjadi salah satu makanan yang dinobatkan menjadi salah satu makanan terlezat di dunia. Kalau Grameds ingin mengetahui cara memasak rendang yang authentic bisa miliki buku “Resep Masakan Minang Warisan Sari Ratu” karya Gaza Saleh Ali Auwines versi e-book.\n",
            "\n",
            "2. Sate\n",
            "\n",
            "Sate juga salah satu makanan yang mudah untuk dijumpai di Indonesia. Sate adalah kuliner khas Indonesia yang menggunakan daging ayam, sapi, kambing, kelinci, ataupun kerbau sebagai bahan bakunya.\n",
            "\n",
            "Daging tersebut dipotong, direndam dengan bumbu marinasi lalu dibakar hingga matang. Setelah itu sate disajikan dengan beragam saus, mulai dari saus kacang ataupun saus kecap.\n",
            "\n",
            "Uniknya, setiap pulau memiliki sate dengan versi yang berbeda- beda. Mulai dari Sate Padang dari Minangkabau, Sate Madura, Sate Tegal, Sate Klathak, Sate Lilit, Sate Ponorogo, Sate Ambal, dan Sate Buntal.\n",
            "\n",
            "Yang membedakan dari masing-masing sate tersebut adalah cara pemilihan daging dan saus pelengkapnya. Sate sangat cocok disantap dengan nasi putih atau lontong, acar timun serta kerupuk.\n",
            "\n",
            "Menggiurkan ya Grameds, tidak ada salahnya kamu mencoba membuat kreasi satemu sendiri. Grameds bisa mengintip “Aneka Resep Masakan Sate” di e-book dengan link berikut.\n",
            "\n",
            "3. Nasi Goreng\n",
            "\n",
            "Ada yang belum pernah menyantap nasi goreng? Pastinya hampir seluruh orang tau kuliner yang satu ini. Selain lezat, nasi goreng adalah kuliner yang mudah untuk dimasak.\n",
            "\n",
            "Nasi goreng sendiri banyak versinya, ada nasi goreng kampung, nasi goreng ijo, nasi goreng jawa, nasi goreng teri, nasi goreng seafood, nasi goreng, nasi goreng sunda, nasi goreng mawut, dll.\n",
            "\n",
            "Biasanya nasi goreng sering dihidangkan untuk sarapan atau kuliner di malam hari. Untuk Grameds yang sering berburu kuliner di malam hari, Grameds bisa mendapati nasi goreng gerobak yang harum baunya tak kuasa untuk ditolak. Tak salah jika nasi goreng menjadi kuliner yang juga dinobatkan sebagai makanan terlezat di dunia.\n",
            "\n",
            "Yuk buat sarapanmu sendiri dengan menjajal aneka resep nasi goreng, intip resepnya di buku “Resep Nasi Goreng Indonesia” karya tim editor ahli Nigtoon Cookery.\n",
            "\n",
            "4. Bakso\n",
            "\n",
            "“Abang tukang bakso, mari-mari sini, aku mau beli”. Itulah penggalan dari lagu anak yang dipopulerkan oleh Melisa saat tahun 90-an. Saking terkenalnya kelezatan akan bakso, kehadiran abang bakso selalu ditunggu-tunggu.\n",
            "\n",
            "Bakso merupakan olahan dari daging sapi yang dihaluskan, dicampur dengan bumbu halus, tepung terigu, dan penyedap rasa. Adonan tersebut dibentuk bola lalu direbus hingga matang.\n",
            "\n",
            "Bakso disajikan bersama kuah kaldu sapi beserta pelengkap berupa mie kuning, bihun, tahu bakso, dan rajangan daun seledri.\n",
            "\n",
            "Kini bakso telah banyak dimodifikasi seperti bakso keju, bakso rawit, bakso beranak, bakso telur, hingga bakso yang ukuran jumbo. Jangan lupa untuk menyantap bakso beserta kecap, saus ataupun sambal yang menggugah selera. Tertarik membuatnya? miliki e-book berikut untuk mendapatkan resepnya.\n",
            "\n",
            "5. Soto\n",
            "\n",
            "Soto, Coto, Sauto, Tauto adalah makanan khas Indonesia sejenis sup dengan kuah rebusan ayam atau sapi. Soto biasanya memakai dua jenis daging, yakni daging ayam dan dan daging sapi.\n",
            "\n",
            "Soto ayam memiliki kuah berwarna kekuningan dengan rasa gurih dan harum. Warna kuning dikarenakan dari kunyit, bawang merah, bawang putih sebagai bumbu dasarnya. Sedangkan soto daging biasa berwarna bening atau berkuah santan.\n",
            "\n",
            "Soto dapat ditemukan di tiap daerah, khususnya di pulau Jawa. banyak sekali varian soto di Indonesia, salah satunya adalah Soto Lamongan, Soto Kudus, Soto Betawi, Soto Bandung, Soto Padang, Soto Jepara, Soto Banjar, Coto Makasar, dll\n",
            "\n",
            "Soto disajikan bersama pelengkap yang bervariasi di tiap daerah. Soto Bandung disajikan bersama lobak dan kacang kedelai goreng, Soto Kudus disajikan tauge rebus, Soto Lamongan disajikan bersama irisan kol, tomat dan koya, dll.\n",
            "\n",
            "Soto sangat pas dinikmati hangat-hangat terutama saat hujan atau saat kurang enak badan. Protein dan aneka rempah yang terkandung dalam semangkuk soto dapat memulihkan stamina dan menghangatkan badan. Jangan lupa untuk mencoba resep soto di buku resep “Sop & Soto Favorit Ala Cafe” karya Indriani ya Grameds.\n",
            "\n",
            "Makanan Khas Indonesia yang Terkenal di Dunia\n",
            "\n",
            "6. Rawon\n",
            "\n",
            "Rawon adalah makan khas dari Kota Surabaya yang mirip dengan sup daging namun memiliki kuah hitam pekat. Meskipun kuahnya tidak seperti sup pada umumnya, rawon memiliki cita rasa yang khas dan selalu dirindukan oleh penikmat masakan Jawa timuran.\n",
            "\n",
            "Warna hitam pada rawon disebabkan oleh pemakaian kluwek pada kuahnya. Buah kluwek adalah buah berwarna hitam yang memberikan warna serta citarasa yang unik pada masakan.\n",
            "\n",
            "Rawon disajikan bersama potongan daging sapi, rebusan kecambah dan telur asin serta kerupuk udang. Jangan lupa tambahkan perasan jeruk nipis dan sambal untuk menambah kesegaran saat menyantap hidangan yang satu ini. Tertarik membuatnya? Donwload saja di e-book Gramedia Digital agar Grameds terampil memasak masakan nusantara yang nikmat rasanya.\n",
            "\n",
            "7. Gado-Gado\n",
            "\n",
            "Gado-gado adalah makanan khas dari Jakarta yang menyehatkan karena terdiri dari rebusan sayuran seperti kangkung, wortel, labu siam, selada, timun dan irisan tempe yang disiram dengan saus kacang yang gurih.\n",
            "\n",
            "Di Jawa Barat Gado-gado disebut dengan Lotek. Serupa bentuknya namun tak sama citarasanya. Lotek memakai bumbu kacang, bawang putih, kencur, dan asam jawa sehingga memiliki bau yang lebih kuat dan lebih manis dibandingkan Gado-gado.\n",
            "\n",
            "Gado-gado dapat disantap dengan lontong atau nasi putih. Harga Gado-gado juga cukup terjangkau, seporsi Gado-gado dibanderol sekitar Rp 10.000 – Rp 15.000 saja.\n",
            "\n",
            "8. Nasi Padang\n",
            "\n",
            "Siapa yang tidak tergoda menyantap Nasi Padang saat makan siang? Baru mendengar namanya saja sudah menerbitkan air liur ya Grameds. Nasi Padang sebenarnya adalah nasi putih yang disajikan bersama aneka jenis lauk khas Padang seperti rendang, gulai ikan, ayam bakar, ayam pop, telor dadar, kering tempe, daging cincang, daun singkong rebus dan sambal ijo.\n",
            "\n",
            "Yang menarik dalam menyantap nasi padang di restoran adalah cara penyajian. Grameds bisa menyantap dengan cara semua menu dihidangkan di meja, sehingga Grameds tinggal memilih makanan yang akan disantap. Cara kedua adalah dengan memesan langsung 1 porsi nasi padang tanpa harus meminta untuk dihidangkan di meja.\n",
            "\n",
            "Cara terakhir menyantap nasi Padang yang paling diminati adalah dengan membungkusnya (take away). Banyak orang menganggap cara ini paling nikmat karena Grameds mendapat porsi nasi lebih banyak daripada disantap di rumah makan, nasi juga lebih gurih karena segala macam kuah disiram ke atas nasi sehingga rasanya menyerap sempurna.\n",
            "\n",
            "Meskipun citarasa dari nasi rames khas Padang ini cenderung pedas, tapi banyak lho orang asing yang tergila-gila dengan Nasi Padang. Rasanya kita juga setuju ya, Grameds. Jangan hanya makan di restoran, yuk hidangkan masakan ala Minang ini lewat kreasimu sendiri, buku resep “Masakan Nusantara Favorit” yang satu ini wajib kamu miliki agar kemampuan memasakmu semakin terasah.\n",
            "\n",
            "9. Sambal\n",
            "\n",
            "Sambal adalah menu wajib orang Indonesia dalam menyantap kuliner apapun. Tak lengkap rasanya jika makan tanpa sambal, apalagi jika sambalnya dibuat langsung bukan sambal kemasan.\n",
            "\n",
            "Sambal adalah pelengkap nasi yang berbahan dasar cabai merah/hijau, cabai rawit, bawang merah, bawang putih, garam, dan gula yang diulek hingga setengah halus. Sambal memiliki citarasa pedas menyegarkan. Terdapat banyak sekali varian sambal di Indonesia yakni, sambal tomat, sambal bajak, sambal korek, sambal matah, sambal ijo, sambal terasi, sambal teri, sambal pete, sambal mangga, dll.\n",
            "\n",
            "10. Pempek\n",
            "\n",
            "Jikalau Grameds singgah ke Kota Palembang, maka sudah tak asing dengan oleh-oleh khas Palembang yang satu ini. Pempek Palembang sudah pasti jadi pilihan utama untuk dinikmati karena citarasanya yang gurih dan lezat.\n",
            "\n",
            "Pempek merupakan kuliner khas Sumatra yang terbuat dari ikan tenggiri, toman, atau gabus yang dihaluskan, dicampur bersama tepung sagu dan bumbu halus. Pempek diuleni hingga kalis lalu direbus dalam air mendidih. setelah itu pempek digoreng dan disantap bersama kuah cuko. Kuah cuko adalah kuah yang terbuat dari rebusan gula merah dan cuka.\n",
            "\n",
            "Pempek memiliki berbagai jenis yakni kapal selam (pempek yang diisi dengan telur), lenjer (pempek berbentuk panjang), ada’an (pempek berbentuk bulat), pempek telur, pempek kulit ikan da pempek keriting.\n",
            "\n",
            "Pempek memiliki citarasa gurih, manis, asam, pedas sehingga sangat cocok dijadikan camilan bersama keluarga atau sebagai oleh-oleh untuk keluarga atau kerabat. Mau coba membuat pempek sendiri? Kamu bisa melihat contekan resepnya di “Resep Favorit Untuk Usaha Pempek” ya Grameds.\n",
            "\n",
            "Makanan Khas Indonesia yang Terkenal di Dunia\n",
            "\n",
            "11. Gudeg\n",
            "\n",
            "Pernah mampir ke Kota Yogyakarta? Pastinya Gudeg adalah kuliner yang tak boleh untuk dilewatkan jika berkunjung ke kota pelajar yang satu ini. Gudeng merupakan makanan khas Yogyakarta yang terbuat dari nangka muda yang dimasak dengan santan dan daun jati selama berjam-jam hingga lembut dan bumbu meresap sempurna dan berwarna kemerahan.\n",
            "\n",
            "Gudeg memiliki citasrasa manis dan sering disantap bersama kuah santan kental (areh), ayam kampung, telur, tahu tempe serta krecek. Meskipun pada dasarnya bukan termasuk makanan yang tahan lama, gudeg dapat kita temukan dalam berbentuk kaleng agar bisa tahan lebih lama untuk dibawa ke luar kota.\n",
            "\n",
            "Meskipun berbentuk kalengan, gudeg ini sama sekali tidak memakai pengawet. Proses pengawetan dilakukan sesuai prosedur dengan cara disterilisasi untuk mematikan bakteri yang mempercepat pembusukan.\n",
            "\n",
            "Saking terkenalnya, gudeg sudah diekspor ke negara tetangga seperti Malaysia dan Singapura. Tentu saja dengan adanya gudeg kalengan ini bisa mengobati rasa rindu orang Indonesia yang tinggal di luar negri, dan memperkenalkan kuliner Indonesia di mancanegara.\n",
            "\n",
            "BACA JUGA: Makanan Sehat yang Cocok untuk Golongan Darahmu\n",
            "\n",
            "12. Bebek Betutu\n",
            "\n",
            "Pulau Dewata sudah terkenal dengan pesona alamnya yang membius semua mata yang berkunjung ke sana. Tak hanya alamnya, kulinernya pun sangat menggoda untuk dicicipi. Salah satu kuliner andalan jika berkunjung ke Bali adalah bebek Betutu yang biasa kita temukan di Ubud.\n",
            "\n",
            "Bebek Betutu adalah masakan kebanggan masyarakat Bali lho Grameds. Oleh karena itu kita dapat dengan mudah menemukan restoran yang menyajikan olahan dari bebek ini.\n",
            "\n",
            "Cara masak Bebek Betutu ini menggunakan bebek utuh yang dibungkus daun pisang, lalu dibungkus lagi dengan pelepah pinang hingga rapat. Yang uniknya lagi adalah bebek tersebut ditanam dalam lubang di tanah dan ditutup dengan bara api selama 6 – 7 jam hingga daging bebek lunak dan empuk.\n",
            "\n",
            "Betutu memiliki aroma yang harum dan cita rasa yang pedas. Biasanya disajikan dengan sambal matah, kacang dan sayuran rebus. Jika Grameds berkunjung ke Pulau Dewata, sempatkan diri untuk menjajal kuliner yang satu ini. Tertarik membuat kuliner khas Bali ini sendiri? Yuk intip resepnya Grameds.\n",
            "\n",
            "13. Ayam Rica-Rica\n",
            "\n",
            "Jika mendengar kata rica-rica sudah pasti teringat akan kuliner Manado yang terkenal akan rasa pedasnya. Kata rica memiliki arti pedas. Oleh karena itu bumbu utama dari sambal rica-rica adalah bawang merah, bawang putih, jahe, cabe merah dan cabe rawit.\n",
            "\n",
            "Sambal rica tersebut dimasak bersama ayam, garam, dan daun aromatik agar rasanya lebih harum dan gurih. Ayam rica sangat pas dinikmati bersama nasi putih sebagai lauk saat santap siang ya Grameds.\n",
            "\n",
            "14. Cakalang Rica-Rica\n",
            "\n",
            "Masih sama dari daerah Sulawesi Utara, Cakalang rica-rica merupakan kuliner khas Manado yang terkenal akan kelezatannya.\n",
            "\n",
            "Kuliner yang memiliki citarasa pedas ini terbuat dari ikan cakalang yang diasap hingga harum dan bertekstur kering. Ikan cakalang tersebut disuwir, diberi perasan jeruk nipis dan dan garam, lalu ditumis bersama sambal rica.\n",
            "\n",
            "Citarasa dari cakalang asap rica ini pedas, gurih dan aroma asap yang khas. Tak heran jika cakalang asap rica ini cocok disantap bersama nasi dan kerupuk.\n",
            "\n",
            "15. Woku Belanga\n",
            "\n",
            "Woku adalah bumbu makanan ala Manado yang terbuat dari berbagai macam bumbu khas Minahasa. Bumbu khas ini dimasak dalam belanga, oleh karena itu terkenal dengan sebutan woku balanga.\n",
            "\n",
            "Bumbu woku terdiri dari bawang merah, bawang putih, cabai rawit, tomat, kunyit, jahe, serai, daun pandan, daun jeruk, daun kemangi dan daun bawang. Tak mengherankan jika woku memiliki aroma khas yang harum.\n",
            "\n",
            "Woku bisa digunakan untuk membumbui ayam, ikan nila, kerapu, ikan mas, kepiting, hingga udang. Cara memasaknya dimasukkan ke dalam belanga hingga matang dan berbau harum.\n",
            "\n",
            "Woku sangat pas disantap bersama nasi putih dan kerupuk ya Grameds. Jangan lupa tambahkan sambal jika kamu penyuka pedas. Kalau kamu mau memodifikasi hidangan ini, kamu bisa membuat sendiri dengan mengintip buku “Hidangan Lezat Manado” yang satu ini.\n",
            "\n",
            "Makanan Khas Indonesia yang Terkenal di Dunia\n",
            "\n",
            "16. Sop Konro\n",
            "\n",
            "Sup Konro adalah masakan yang terbuat dari iga sapi khas Makasar, Sulawesi Selatan. Sup ini memiliki tekstur kuah yang kental berwarna coklat kehitaman. Warna coklat kehitaman diperoleh dari buah kluwek dan rasa yang kuat karena penambahan ketumbar.\n",
            "\n",
            "Citarasa Sup Konro cenderung gurih, pedas dengan aroma rempah yang cukup kuat. Hal ini dikarenakan sup ini memakai rempah seperti ketumbar, pala, kunyit, kencur, kayu manis, asam, daun jeruk, cengkih dan salam.\n",
            "\n",
            "Daging sapinya direbus hingga lunak dan empuk. Seporsi sop konro cukup mengenyangkan lho Grameds. Biasanya Sup ini disajikan bersama buras atau ketupat, namun kamu juga bisa menikmati dengan nasi putih.\n",
            "\n",
            "Selain dibuat sup, Konro juga bisa dibakar hingga harum, dan disajikan dengan kuah terpisah.\n",
            "\n",
            "17. Sate Ulat Sagu\n",
            "\n",
            "Sate ulat? Bagi sebagian orang, makanan khas Papua ini bisa membuat orang bergidik geli. Tapi di Papua kuliner yang terbuat dari ulat sagu ini merupakan kuliner yang lazim untuk disantap karena rasanya yang lezat dan kaya protein.\n",
            "\n",
            "Ulat sagu yang dimasak ini berasal dari pohon sagu yang dipotong batangnya lalu dibiarkan hingga membusuk hingga muncullah ulat berwarna putih. Batang tersebut dibongkar dengan menggunakan kapak untuk mengeluarkan ulat sagu yang berwarna putih dan bertubuh kenyal ini.\n",
            "\n",
            "Meskipun tampilannya cukup menjijikan, namun rasa ulat sagu ini sangat lezat lho Grameds. Ulat sagu juga rendah kolestrol dan tinggi protein. Ulat sagu bisa dimakan langsung, dibakar, hingga ditumis.\n",
            "\n",
            "Bagi kamu yang suka makanan ekstrim, tiada salahnya mencoba kuliner dari bumi cendrawasih ini. Karena keberasaan pohon sagu hanya ada di Indonesia timur, tentu saja kuliner ini tidak dapat kita temui di kota lain.\n",
            "\n",
            "Itulah 17 makanan khas Indonesia yang sudah terkenal akan kelezatannya. Ayo lestarikan kuliner nusantara, jangan lupa juga untuk menjajal skill memasakmu dengan aneka resep kuliner khas nusantara di sini. Selamat mencoba, Grameds!\n",
            "\n",
            "Rekomendasi Buku & Artikel Resep\n"
          ]
        }
      ]
    },
    {
      "cell_type": "markdown",
      "source": [
        "# Proses 2 (Tokenization)"
      ],
      "metadata": {
        "id": "AHcAD3WbH1f_"
      }
    },
    {
      "cell_type": "markdown",
      "source": [
        "<h3> DATA EXPLORATION </h3>"
      ],
      "metadata": {
        "id": "XfgEJcxtHMxP"
      }
    },
    {
      "cell_type": "code",
      "source": [
        "#Tokenization\n",
        "text = corpus\n",
        "sentence_list = nltk.sent_tokenize(text)\n",
        "\n",
        "print(sentence_list)"
      ],
      "metadata": {
        "colab": {
          "base_uri": "https://localhost:8080/"
        },
        "id": "fb3kOW7pHlxl",
        "outputId": "d3d97579-533d-44ed-d3cf-76ea64ba6c4b"
      },
      "execution_count": null,
      "outputs": [
        {
          "output_type": "stream",
          "name": "stdout",
          "text": [
            "['Hampir mirip tempoyak, namun makanan ini juga salah satu cita rasa khas Jambi.', '(Bangun Santoso/Liputan6.com)\\n\\nMie Aceh\\n\\nMakanan Khas Daerah di Indonesia dari Aceh ini memiliki tekstur yang tebal dan dicampur dengan irisan daging serta bumbu-bumbu rempah yang kuat.', 'Mie Aceh biasanya disajikan dengan digoreng, direbus atau ditumis.', 'Selain itu juga bisa disajikan dengan tambahan seafood seperti kepiting, udang dan cumi.', 'Bika Ambon\\n\\nWalaupun namanya Bika Ambon, namun makanan ini bukan berasal dari Ambon.', 'Kue ini berasal dari Sumatera Utara dan biasanya banyak dijual di Kota Medan sebagai oleh-oleh.', 'Kue berwarna kuning ini memiliki tekstur yang lembut dan manis.', 'Rendang\\n\\nMakanan Khas Indonesia dari Sumatera Barat ini pernah dinobatkan sebagai makanan terlezat di dunia.', 'Makanan dari daging sapi yang dimasak dengan santan kelapa serta bumbu rempah selama berjam-jam ini memang begitu terkenal.', 'Rasanya yang gurih dan juga nikmat, sukses membuat makanan khas daerah Sumatera Barat ini begitu disukai banyak orang.', 'Gulai Belacan\\n\\nGulai Belacan merupakan makanan khas daerah Riau.', 'Belacan merupakan nama lain dari terasi yang begitu dikenal oleh orang Sumatera.', 'Makanan khas daerah Riau ini dibuat dari bahan dasar berupa kuah yang telah dicampur dengan terasi.', 'Selain itu terdapat pula daging, udang atau ikan.', 'Otak-otak\\n\\nMakanan khas Indonesia lainnya berasal dari daerah Kepulauan Riau, yaitu otak-otak.', 'Makanan tradisional yang terbuat dari bahan utama seafood ini merupakan makanan hasil laut yang diolah dan dibungkus dengan daun pisang.', 'Gulai Ikan Patin\\n\\nMakanan khas Indonesia dari Jambi ini memiliki keunikan dari cara memasaknya.', 'Cara memasaknya dicampur dengan daging buah durian yang sudah terfermentasi atau biasa disebut tempoyak.', 'Namun terkadang tempoyak bisa digantikan dengan santan.', 'Pendap\\n\\nPendap merupakan makanan khas daerah Bengkulu.', 'Makanan ini berbahan dasar ikan yang dibumbui dengan bumbu khusus yang beraneka ragam.', 'Pempek\\n\\nMakanan khas daerah Sumatera Selatan ini sudah cukup terkenal dengan kelezatannya.', 'Makanan ini terbuat dari olahan ikan yang dicampur dengan sagu.', 'Dilengkapi dengan kuah cuko atau cuka yang begitu menggoda selera membuat banyak orang menggemarinya.', 'Mie Bangka\\n\\nMakanan khas Indonesia dari daerah Bangka ini tentu saja berbahan dasar mi.', 'Dihidangkan dengan mencampurkannya dengan kuah yang terbuat dari bumbu ikan, udang, atau cumi, dan ditaburi dengan kecambah serta mentimun.', 'Seruit\\n\\nSeruit merupakan makanan khas Indonesia yang berasal dari Lampung.', 'Makanan ini terbuat dari ikan yang dibakar dan disajikan dengan sambal terasi atau tempoyak atau mangga.', 'Jika kamu sedang berkunjung ke Lampung, tak ada salahnya untuk mencicipi kuliner satu ini.Makanan Khas Indonesia – Indonesia memiliki destinasi kuliner yang sangat beragam, bahkan setiap daerah memiliki makanan khasnya masing-masing.', 'Tentu sebagai pencinta kuliner Anda perlu tahu sebenarnya makanan khas Indonesia yang sudah terkenal sampai ke penjuru dunia itu apa saja, penasaran?', 'Makanan Khas Indonesia yang Mendunia\\n\\nSudah menjadi rahasia umum bahwa makanan yang ada di Indonesia terkenal dengan kelezatannya.', 'Makanan khas Indonesia tersebut bahkan sudah terkenal di dunia.', 'Apa saja makanan khas Indonesia yang mendunia?', 'Simak penjelasan di bawah ini!', '1.', 'Rendang\\n\\nSiapa yang tidak tahu makanan khas dari Sumatera Barat yang satu ini.', 'Irisan daging sapi yang dimasak dengan rempah khas padang yang gurih.', 'Ada dua proses pemasakan daging sapi yang kaya akan rempah ini.', 'Untuk memasang rendang, dibutuhkan waktu minimal 4 jam untuk menjadikan daging rendang berwarna hitam pekat dan bumbu mengering seperti dedak.', 'Rendang yang dimasak dalam waktu singkat dengan santan yang masih mengental disebut kalio, teksur kuah masih kental dan daging tidak begitu kering.', 'Bahan-bahan yang dibutuhkan untuk memasak rendang diantaranya daging sapi, santan, cabai, lada, lengkuas, kunyit, jahe, bawang merah, bawang putih, dan bumbu lainnya.', 'Karena dimasak dalam waktu yang lama dan menggunakan rempah alami, rendang bisa tahan hingga berhari-hari.', 'Cita rasanya pun akan semakin lebih nikmat, sangat pas untuk disantap dengan nasi hangat.', 'Tak mengherankan jika daging rendang menjadi salah satu makanan yang dinobatkan menjadi salah satu makanan terlezat di dunia.', 'Kalau Grameds ingin mengetahui cara memasak rendang yang authentic bisa miliki buku “Resep Masakan Minang Warisan Sari Ratu” karya Gaza Saleh Ali Auwines versi e-book.', '2.', 'Sate\\n\\nSate juga salah satu makanan yang mudah untuk dijumpai di Indonesia.', 'Sate adalah kuliner khas Indonesia yang menggunakan daging ayam, sapi, kambing, kelinci, ataupun kerbau sebagai bahan bakunya.', 'Daging tersebut dipotong, direndam dengan bumbu marinasi lalu dibakar hingga matang.', 'Setelah itu sate disajikan dengan beragam saus, mulai dari saus kacang ataupun saus kecap.', 'Uniknya, setiap pulau memiliki sate dengan versi yang berbeda- beda.', 'Mulai dari Sate Padang dari Minangkabau, Sate Madura, Sate Tegal, Sate Klathak, Sate Lilit, Sate Ponorogo, Sate Ambal, dan Sate Buntal.', 'Yang membedakan dari masing-masing sate tersebut adalah cara pemilihan daging dan saus pelengkapnya.', 'Sate sangat cocok disantap dengan nasi putih atau lontong, acar timun serta kerupuk.', 'Menggiurkan ya Grameds, tidak ada salahnya kamu mencoba membuat kreasi satemu sendiri.', 'Grameds bisa mengintip “Aneka Resep Masakan Sate” di e-book dengan link berikut.', '3.', 'Nasi Goreng\\n\\nAda yang belum pernah menyantap nasi goreng?', 'Pastinya hampir seluruh orang tau kuliner yang satu ini.', 'Selain lezat, nasi goreng adalah kuliner yang mudah untuk dimasak.', 'Nasi goreng sendiri banyak versinya, ada nasi goreng kampung, nasi goreng ijo, nasi goreng jawa, nasi goreng teri, nasi goreng seafood, nasi goreng, nasi goreng sunda, nasi goreng mawut, dll.', 'Biasanya nasi goreng sering dihidangkan untuk sarapan atau kuliner di malam hari.', 'Untuk Grameds yang sering berburu kuliner di malam hari, Grameds bisa mendapati nasi goreng gerobak yang harum baunya tak kuasa untuk ditolak.', 'Tak salah jika nasi goreng menjadi kuliner yang juga dinobatkan sebagai makanan terlezat di dunia.', 'Yuk buat sarapanmu sendiri dengan menjajal aneka resep nasi goreng, intip resepnya di buku “Resep Nasi Goreng Indonesia” karya tim editor ahli Nigtoon Cookery.', '4.', 'Bakso\\n\\n“Abang tukang bakso, mari-mari sini, aku mau beli”.', 'Itulah penggalan dari lagu anak yang dipopulerkan oleh Melisa saat tahun 90-an.', 'Saking terkenalnya kelezatan akan bakso, kehadiran abang bakso selalu ditunggu-tunggu.', 'Bakso merupakan olahan dari daging sapi yang dihaluskan, dicampur dengan bumbu halus, tepung terigu, dan penyedap rasa.', 'Adonan tersebut dibentuk bola lalu direbus hingga matang.', 'Bakso disajikan bersama kuah kaldu sapi beserta pelengkap berupa mie kuning, bihun, tahu bakso, dan rajangan daun seledri.', 'Kini bakso telah banyak dimodifikasi seperti bakso keju, bakso rawit, bakso beranak, bakso telur, hingga bakso yang ukuran jumbo.', 'Jangan lupa untuk menyantap bakso beserta kecap, saus ataupun sambal yang menggugah selera.', 'Tertarik membuatnya?', 'miliki e-book berikut untuk mendapatkan resepnya.', '5.', 'Soto\\n\\nSoto, Coto, Sauto, Tauto adalah makanan khas Indonesia sejenis sup dengan kuah rebusan ayam atau sapi.', 'Soto biasanya memakai dua jenis daging, yakni daging ayam dan dan daging sapi.', 'Soto ayam memiliki kuah berwarna kekuningan dengan rasa gurih dan harum.', 'Warna kuning dikarenakan dari kunyit, bawang merah, bawang putih sebagai bumbu dasarnya.', 'Sedangkan soto daging biasa berwarna bening atau berkuah santan.', 'Soto dapat ditemukan di tiap daerah, khususnya di pulau Jawa.', 'banyak sekali varian soto di Indonesia, salah satunya adalah Soto Lamongan, Soto Kudus, Soto Betawi, Soto Bandung, Soto Padang, Soto Jepara, Soto Banjar, Coto Makasar, dll\\n\\nSoto disajikan bersama pelengkap yang bervariasi di tiap daerah.', 'Soto Bandung disajikan bersama lobak dan kacang kedelai goreng, Soto Kudus disajikan tauge rebus, Soto Lamongan disajikan bersama irisan kol, tomat dan koya, dll.', 'Soto sangat pas dinikmati hangat-hangat terutama saat hujan atau saat kurang enak badan.', 'Protein dan aneka rempah yang terkandung dalam semangkuk soto dapat memulihkan stamina dan menghangatkan badan.', 'Jangan lupa untuk mencoba resep soto di buku resep “Sop & Soto Favorit Ala Cafe” karya Indriani ya Grameds.', 'Makanan Khas Indonesia yang Terkenal di Dunia\\n\\n6.', 'Rawon\\n\\nRawon adalah makan khas dari Kota Surabaya yang mirip dengan sup daging namun memiliki kuah hitam pekat.', 'Meskipun kuahnya tidak seperti sup pada umumnya, rawon memiliki cita rasa yang khas dan selalu dirindukan oleh penikmat masakan Jawa timuran.', 'Warna hitam pada rawon disebabkan oleh pemakaian kluwek pada kuahnya.', 'Buah kluwek adalah buah berwarna hitam yang memberikan warna serta citarasa yang unik pada masakan.', 'Rawon disajikan bersama potongan daging sapi, rebusan kecambah dan telur asin serta kerupuk udang.', 'Jangan lupa tambahkan perasan jeruk nipis dan sambal untuk menambah kesegaran saat menyantap hidangan yang satu ini.', 'Tertarik membuatnya?', 'Donwload saja di e-book Gramedia Digital agar Grameds terampil memasak masakan nusantara yang nikmat rasanya.', '7.', 'Gado-Gado\\n\\nGado-gado adalah makanan khas dari Jakarta yang menyehatkan karena terdiri dari rebusan sayuran seperti kangkung, wortel, labu siam, selada, timun dan irisan tempe yang disiram dengan saus kacang yang gurih.', 'Di Jawa Barat Gado-gado disebut dengan Lotek.', 'Serupa bentuknya namun tak sama citarasanya.', 'Lotek memakai bumbu kacang, bawang putih, kencur, dan asam jawa sehingga memiliki bau yang lebih kuat dan lebih manis dibandingkan Gado-gado.', 'Gado-gado dapat disantap dengan lontong atau nasi putih.', 'Harga Gado-gado juga cukup terjangkau, seporsi Gado-gado dibanderol sekitar Rp 10.000 – Rp 15.000 saja.', '8.', 'Nasi Padang\\n\\nSiapa yang tidak tergoda menyantap Nasi Padang saat makan siang?', 'Baru mendengar namanya saja sudah menerbitkan air liur ya Grameds.', 'Nasi Padang sebenarnya adalah nasi putih yang disajikan bersama aneka jenis lauk khas Padang seperti rendang, gulai ikan, ayam bakar, ayam pop, telor dadar, kering tempe, daging cincang, daun singkong rebus dan sambal ijo.', 'Yang menarik dalam menyantap nasi padang di restoran adalah cara penyajian.', 'Grameds bisa menyantap dengan cara semua menu dihidangkan di meja, sehingga Grameds tinggal memilih makanan yang akan disantap.', 'Cara kedua adalah dengan memesan langsung 1 porsi nasi padang tanpa harus meminta untuk dihidangkan di meja.', 'Cara terakhir menyantap nasi Padang yang paling diminati adalah dengan membungkusnya (take away).', 'Banyak orang menganggap cara ini paling nikmat karena Grameds mendapat porsi nasi lebih banyak daripada disantap di rumah makan, nasi juga lebih gurih karena segala macam kuah disiram ke atas nasi sehingga rasanya menyerap sempurna.', 'Meskipun citarasa dari nasi rames khas Padang ini cenderung pedas, tapi banyak lho orang asing yang tergila-gila dengan Nasi Padang.', 'Rasanya kita juga setuju ya, Grameds.', 'Jangan hanya makan di restoran, yuk hidangkan masakan ala Minang ini lewat kreasimu sendiri, buku resep “Masakan Nusantara Favorit” yang satu ini wajib kamu miliki agar kemampuan memasakmu semakin terasah.', '9.', 'Sambal\\n\\nSambal adalah menu wajib orang Indonesia dalam menyantap kuliner apapun.', 'Tak lengkap rasanya jika makan tanpa sambal, apalagi jika sambalnya dibuat langsung bukan sambal kemasan.', 'Sambal adalah pelengkap nasi yang berbahan dasar cabai merah/hijau, cabai rawit, bawang merah, bawang putih, garam, dan gula yang diulek hingga setengah halus.', 'Sambal memiliki citarasa pedas menyegarkan.', 'Terdapat banyak sekali varian sambal di Indonesia yakni, sambal tomat, sambal bajak, sambal korek, sambal matah, sambal ijo, sambal terasi, sambal teri, sambal pete, sambal mangga, dll.', '10.', 'Pempek\\n\\nJikalau Grameds singgah ke Kota Palembang, maka sudah tak asing dengan oleh-oleh khas Palembang yang satu ini.', 'Pempek Palembang sudah pasti jadi pilihan utama untuk dinikmati karena citarasanya yang gurih dan lezat.', 'Pempek merupakan kuliner khas Sumatra yang terbuat dari ikan tenggiri, toman, atau gabus yang dihaluskan, dicampur bersama tepung sagu dan bumbu halus.', 'Pempek diuleni hingga kalis lalu direbus dalam air mendidih.', 'setelah itu pempek digoreng dan disantap bersama kuah cuko.', 'Kuah cuko adalah kuah yang terbuat dari rebusan gula merah dan cuka.', 'Pempek memiliki berbagai jenis yakni kapal selam (pempek yang diisi dengan telur), lenjer (pempek berbentuk panjang), ada’an (pempek berbentuk bulat), pempek telur, pempek kulit ikan da pempek keriting.', 'Pempek memiliki citarasa gurih, manis, asam, pedas sehingga sangat cocok dijadikan camilan bersama keluarga atau sebagai oleh-oleh untuk keluarga atau kerabat.', 'Mau coba membuat pempek sendiri?', 'Kamu bisa melihat contekan resepnya di “Resep Favorit Untuk Usaha Pempek” ya Grameds.', 'Makanan Khas Indonesia yang Terkenal di Dunia\\n\\n11.', 'Gudeg\\n\\nPernah mampir ke Kota Yogyakarta?', 'Pastinya Gudeg adalah kuliner yang tak boleh untuk dilewatkan jika berkunjung ke kota pelajar yang satu ini.', 'Gudeng merupakan makanan khas Yogyakarta yang terbuat dari nangka muda yang dimasak dengan santan dan daun jati selama berjam-jam hingga lembut dan bumbu meresap sempurna dan berwarna kemerahan.', 'Gudeg memiliki citasrasa manis dan sering disantap bersama kuah santan kental (areh), ayam kampung, telur, tahu tempe serta krecek.', 'Meskipun pada dasarnya bukan termasuk makanan yang tahan lama, gudeg dapat kita temukan dalam berbentuk kaleng agar bisa tahan lebih lama untuk dibawa ke luar kota.', 'Meskipun berbentuk kalengan, gudeg ini sama sekali tidak memakai pengawet.', 'Proses pengawetan dilakukan sesuai prosedur dengan cara disterilisasi untuk mematikan bakteri yang mempercepat pembusukan.', 'Saking terkenalnya, gudeg sudah diekspor ke negara tetangga seperti Malaysia dan Singapura.', 'Tentu saja dengan adanya gudeg kalengan ini bisa mengobati rasa rindu orang Indonesia yang tinggal di luar negri, dan memperkenalkan kuliner Indonesia di mancanegara.', 'BACA JUGA: Makanan Sehat yang Cocok untuk Golongan Darahmu\\n\\n12.', 'Bebek Betutu\\n\\nPulau Dewata sudah terkenal dengan pesona alamnya yang membius semua mata yang berkunjung ke sana.', 'Tak hanya alamnya, kulinernya pun sangat menggoda untuk dicicipi.', 'Salah satu kuliner andalan jika berkunjung ke Bali adalah bebek Betutu yang biasa kita temukan di Ubud.', 'Bebek Betutu adalah masakan kebanggan masyarakat Bali lho Grameds.', 'Oleh karena itu kita dapat dengan mudah menemukan restoran yang menyajikan olahan dari bebek ini.', 'Cara masak Bebek Betutu ini menggunakan bebek utuh yang dibungkus daun pisang, lalu dibungkus lagi dengan pelepah pinang hingga rapat.', 'Yang uniknya lagi adalah bebek tersebut ditanam dalam lubang di tanah dan ditutup dengan bara api selama 6 – 7 jam hingga daging bebek lunak dan empuk.', 'Betutu memiliki aroma yang harum dan cita rasa yang pedas.', 'Biasanya disajikan dengan sambal matah, kacang dan sayuran rebus.', 'Jika Grameds berkunjung ke Pulau Dewata, sempatkan diri untuk menjajal kuliner yang satu ini.', 'Tertarik membuat kuliner khas Bali ini sendiri?', 'Yuk intip resepnya Grameds.', '13.', 'Ayam Rica-Rica\\n\\nJika mendengar kata rica-rica sudah pasti teringat akan kuliner Manado yang terkenal akan rasa pedasnya.', 'Kata rica memiliki arti pedas.', 'Oleh karena itu bumbu utama dari sambal rica-rica adalah bawang merah, bawang putih, jahe, cabe merah dan cabe rawit.', 'Sambal rica tersebut dimasak bersama ayam, garam, dan daun aromatik agar rasanya lebih harum dan gurih.', 'Ayam rica sangat pas dinikmati bersama nasi putih sebagai lauk saat santap siang ya Grameds.', '14.', 'Cakalang Rica-Rica\\n\\nMasih sama dari daerah Sulawesi Utara, Cakalang rica-rica merupakan kuliner khas Manado yang terkenal akan kelezatannya.', 'Kuliner yang memiliki citarasa pedas ini terbuat dari ikan cakalang yang diasap hingga harum dan bertekstur kering.', 'Ikan cakalang tersebut disuwir, diberi perasan jeruk nipis dan dan garam, lalu ditumis bersama sambal rica.', 'Citarasa dari cakalang asap rica ini pedas, gurih dan aroma asap yang khas.', 'Tak heran jika cakalang asap rica ini cocok disantap bersama nasi dan kerupuk.', '15.', 'Woku Belanga\\n\\nWoku adalah bumbu makanan ala Manado yang terbuat dari berbagai macam bumbu khas Minahasa.', 'Bumbu khas ini dimasak dalam belanga, oleh karena itu terkenal dengan sebutan woku balanga.', 'Bumbu woku terdiri dari bawang merah, bawang putih, cabai rawit, tomat, kunyit, jahe, serai, daun pandan, daun jeruk, daun kemangi dan daun bawang.', 'Tak mengherankan jika woku memiliki aroma khas yang harum.', 'Woku bisa digunakan untuk membumbui ayam, ikan nila, kerapu, ikan mas, kepiting, hingga udang.', 'Cara memasaknya dimasukkan ke dalam belanga hingga matang dan berbau harum.', 'Woku sangat pas disantap bersama nasi putih dan kerupuk ya Grameds.', 'Jangan lupa tambahkan sambal jika kamu penyuka pedas.', 'Kalau kamu mau memodifikasi hidangan ini, kamu bisa membuat sendiri dengan mengintip buku “Hidangan Lezat Manado” yang satu ini.', 'Makanan Khas Indonesia yang Terkenal di Dunia\\n\\n16.', 'Sop Konro\\n\\nSup Konro adalah masakan yang terbuat dari iga sapi khas Makasar, Sulawesi Selatan.', 'Sup ini memiliki tekstur kuah yang kental berwarna coklat kehitaman.', 'Warna coklat kehitaman diperoleh dari buah kluwek dan rasa yang kuat karena penambahan ketumbar.', 'Citarasa Sup Konro cenderung gurih, pedas dengan aroma rempah yang cukup kuat.', 'Hal ini dikarenakan sup ini memakai rempah seperti ketumbar, pala, kunyit, kencur, kayu manis, asam, daun jeruk, cengkih dan salam.', 'Daging sapinya direbus hingga lunak dan empuk.', 'Seporsi sop konro cukup mengenyangkan lho Grameds.', 'Biasanya Sup ini disajikan bersama buras atau ketupat, namun kamu juga bisa menikmati dengan nasi putih.', 'Selain dibuat sup, Konro juga bisa dibakar hingga harum, dan disajikan dengan kuah terpisah.', '17.', 'Sate Ulat Sagu\\n\\nSate ulat?', 'Bagi sebagian orang, makanan khas Papua ini bisa membuat orang bergidik geli.', 'Tapi di Papua kuliner yang terbuat dari ulat sagu ini merupakan kuliner yang lazim untuk disantap karena rasanya yang lezat dan kaya protein.', 'Ulat sagu yang dimasak ini berasal dari pohon sagu yang dipotong batangnya lalu dibiarkan hingga membusuk hingga muncullah ulat berwarna putih.', 'Batang tersebut dibongkar dengan menggunakan kapak untuk mengeluarkan ulat sagu yang berwarna putih dan bertubuh kenyal ini.', 'Meskipun tampilannya cukup menjijikan, namun rasa ulat sagu ini sangat lezat lho Grameds.', 'Ulat sagu juga rendah kolestrol dan tinggi protein.', 'Ulat sagu bisa dimakan langsung, dibakar, hingga ditumis.', 'Bagi kamu yang suka makanan ekstrim, tiada salahnya mencoba kuliner dari bumi cendrawasih ini.', 'Karena keberasaan pohon sagu hanya ada di Indonesia timur, tentu saja kuliner ini tidak dapat kita temui di kota lain.', 'Itulah 17 makanan khas Indonesia yang sudah terkenal akan kelezatannya.', 'Ayo lestarikan kuliner nusantara, jangan lupa juga untuk menjajal skill memasakmu dengan aneka resep kuliner khas nusantara di sini.', 'Selamat mencoba, Grameds!', 'Rekomendasi Buku & Artikel Resep']\n"
          ]
        }
      ]
    },
    {
      "cell_type": "markdown",
      "source": [
        "# Proses 3 (Bot Response)"
      ],
      "metadata": {
        "id": "B_FReH5sJvVi"
      }
    },
    {
      "cell_type": "markdown",
      "source": [
        "<h3> MODELLING </h3>"
      ],
      "metadata": {
        "id": "hu2nRlyBHU_A"
      }
    },
    {
      "cell_type": "code",
      "source": [
        "def greeting_response(text):\n",
        "    text = text.lower()\n",
        "    \n",
        "    bot_greetings = ['halo','hai','yuhuu','*eyebrows up*']\n",
        "    \n",
        "    user_greetings = ['Haloo','Eh iyaa Haii','Hai','greetings','wassup']\n",
        "    \n",
        "    for word in text.split():\n",
        "        if word in user_greetings:\n",
        "            return random.choice(bot_greetings)\n",
        "        \n",
        "    def gratitude_response(text):\n",
        "        text=text.lower()"
      ],
      "metadata": {
        "id": "7C5YAsF9Hpln"
      },
      "execution_count": null,
      "outputs": []
    },
    {
      "cell_type": "code",
      "source": [
        "def index_sort(list_var):\n",
        "    length = len(list_var)\n",
        "    list_index = list(range(0, length))\n",
        "    \n",
        "    x = list_var        \n",
        "    for i in range(length):\n",
        "        for j in range(length):\n",
        "            if x[list_index[i]] > x[list_index[j]]:\n",
        "                temp = list_index[i]\n",
        "                list_index[i] = list_index[j]\n",
        "                list_index[j] = temp\n",
        "                \n",
        "    return list_index"
      ],
      "metadata": {
        "id": "G54GN1c-HrUq"
      },
      "execution_count": null,
      "outputs": []
    },
    {
      "cell_type": "code",
      "source": [
        "# Creat Bots Response\n",
        "def bot_response(user_input):\n",
        "    user_input=user_input.lower()\n",
        "    sentence_list.append(user_input)\n",
        "    bot_response= ''\n",
        "    cm=CountVectorizer().fit_transform(sentence_list)\n",
        "    similarity_scores=cosine_similarity(cm[-1],cm)\n",
        "    similarity_scores_list=similarity_scores.flatten()\n",
        "    index=index_sort(similarity_scores_list)\n",
        "    index=index[1:]\n",
        "    response_flag=0\n",
        "    \n",
        "    j=0\n",
        "    for i in range(len(index)):\n",
        "        if similarity_scores_list[index[i]]>0.0:\n",
        "            bot_response=bot_response+' '+sentence_list[index[i]]\n",
        "            response_flag=1\n",
        "            j=j+1\n",
        "        if j>2:\n",
        "            break\n",
        "\n",
        "        if response_flag==0:\n",
        "            bot_response=bot_response+\" \"+\"Mohon maaf, saya tidak mengerti\"\n",
        "\n",
        "        sentence_list.remove(user_input) \n",
        "\n",
        "        return bot_response"
      ],
      "metadata": {
        "id": "nTe9zKlXHtOH"
      },
      "execution_count": null,
      "outputs": []
    },
    {
      "cell_type": "markdown",
      "source": [
        "# Proses 4 (End Process, Making chat box)"
      ],
      "metadata": {
        "id": "XNdcNIO_JVr4"
      }
    },
    {
      "cell_type": "code",
      "source": [
        "#Start Chat\n",
        "print(\"Bot : ada yang ingin kamu tanyakan tentang makanan khas daerah di indonesia? :)\")\n",
        "\n",
        "exit_list=['keluar','bye','quit', 'sampai jumpa']\n",
        "\n",
        "while(True):\n",
        "    user_input=input()\n",
        "    if user_input.lower() in exit_list:\n",
        "        print('Bot: Bye Bye Sampai jumpa lagi ayang')\n",
        "        break\n",
        "    else:\n",
        "        if greeting_response(user_input)!= None:\n",
        "            print('Bot: '+ greeting_response(user_input))\n",
        "        else:\n",
        "            print('Bot: '+ bot_response(user_input))"
      ],
      "metadata": {
        "colab": {
          "base_uri": "https://localhost:8080/",
          "height": 579
        },
        "id": "XHmPlO7UHu7A",
        "outputId": "452e6cf3-9825-4a2c-d2c3-50fc5aa924d3"
      },
      "execution_count": null,
      "outputs": [
        {
          "output_type": "stream",
          "name": "stdout",
          "text": [
            "Bot : ada yang ingin kamu tanyakan tentang makanan khas daerah di indonesia? :)\n"
          ]
        },
        {
          "output_type": "error",
          "ename": "KeyboardInterrupt",
          "evalue": "ignored",
          "traceback": [
            "\u001b[0;31m---------------------------------------------------------------------------\u001b[0m",
            "\u001b[0;31mKeyboardInterrupt\u001b[0m                         Traceback (most recent call last)",
            "\u001b[0;32m/usr/local/lib/python3.7/dist-packages/ipykernel/kernelbase.py\u001b[0m in \u001b[0;36m_input_request\u001b[0;34m(self, prompt, ident, parent, password)\u001b[0m\n\u001b[1;32m    728\u001b[0m             \u001b[0;32mtry\u001b[0m\u001b[0;34m:\u001b[0m\u001b[0;34m\u001b[0m\u001b[0;34m\u001b[0m\u001b[0m\n\u001b[0;32m--> 729\u001b[0;31m                 \u001b[0mident\u001b[0m\u001b[0;34m,\u001b[0m \u001b[0mreply\u001b[0m \u001b[0;34m=\u001b[0m \u001b[0mself\u001b[0m\u001b[0;34m.\u001b[0m\u001b[0msession\u001b[0m\u001b[0;34m.\u001b[0m\u001b[0mrecv\u001b[0m\u001b[0;34m(\u001b[0m\u001b[0mself\u001b[0m\u001b[0;34m.\u001b[0m\u001b[0mstdin_socket\u001b[0m\u001b[0;34m,\u001b[0m \u001b[0;36m0\u001b[0m\u001b[0;34m)\u001b[0m\u001b[0;34m\u001b[0m\u001b[0;34m\u001b[0m\u001b[0m\n\u001b[0m\u001b[1;32m    730\u001b[0m             \u001b[0;32mexcept\u001b[0m \u001b[0mException\u001b[0m\u001b[0;34m:\u001b[0m\u001b[0;34m\u001b[0m\u001b[0;34m\u001b[0m\u001b[0m\n",
            "\u001b[0;32m/usr/local/lib/python3.7/dist-packages/jupyter_client/session.py\u001b[0m in \u001b[0;36mrecv\u001b[0;34m(self, socket, mode, content, copy)\u001b[0m\n\u001b[1;32m    802\u001b[0m         \u001b[0;32mtry\u001b[0m\u001b[0;34m:\u001b[0m\u001b[0;34m\u001b[0m\u001b[0;34m\u001b[0m\u001b[0m\n\u001b[0;32m--> 803\u001b[0;31m             \u001b[0mmsg_list\u001b[0m \u001b[0;34m=\u001b[0m \u001b[0msocket\u001b[0m\u001b[0;34m.\u001b[0m\u001b[0mrecv_multipart\u001b[0m\u001b[0;34m(\u001b[0m\u001b[0mmode\u001b[0m\u001b[0;34m,\u001b[0m \u001b[0mcopy\u001b[0m\u001b[0;34m=\u001b[0m\u001b[0mcopy\u001b[0m\u001b[0;34m)\u001b[0m\u001b[0;34m\u001b[0m\u001b[0;34m\u001b[0m\u001b[0m\n\u001b[0m\u001b[1;32m    804\u001b[0m         \u001b[0;32mexcept\u001b[0m \u001b[0mzmq\u001b[0m\u001b[0;34m.\u001b[0m\u001b[0mZMQError\u001b[0m \u001b[0;32mas\u001b[0m \u001b[0me\u001b[0m\u001b[0;34m:\u001b[0m\u001b[0;34m\u001b[0m\u001b[0;34m\u001b[0m\u001b[0m\n",
            "\u001b[0;32m/usr/local/lib/python3.7/dist-packages/zmq/sugar/socket.py\u001b[0m in \u001b[0;36mrecv_multipart\u001b[0;34m(self, flags, copy, track)\u001b[0m\n\u001b[1;32m    624\u001b[0m         \"\"\"\n\u001b[0;32m--> 625\u001b[0;31m         \u001b[0mparts\u001b[0m \u001b[0;34m=\u001b[0m \u001b[0;34m[\u001b[0m\u001b[0mself\u001b[0m\u001b[0;34m.\u001b[0m\u001b[0mrecv\u001b[0m\u001b[0;34m(\u001b[0m\u001b[0mflags\u001b[0m\u001b[0;34m,\u001b[0m \u001b[0mcopy\u001b[0m\u001b[0;34m=\u001b[0m\u001b[0mcopy\u001b[0m\u001b[0;34m,\u001b[0m \u001b[0mtrack\u001b[0m\u001b[0;34m=\u001b[0m\u001b[0mtrack\u001b[0m\u001b[0;34m)\u001b[0m\u001b[0;34m]\u001b[0m\u001b[0;34m\u001b[0m\u001b[0;34m\u001b[0m\u001b[0m\n\u001b[0m\u001b[1;32m    626\u001b[0m         \u001b[0;31m# have first part already, only loop while more to receive\u001b[0m\u001b[0;34m\u001b[0m\u001b[0;34m\u001b[0m\u001b[0;34m\u001b[0m\u001b[0m\n",
            "\u001b[0;32mzmq/backend/cython/socket.pyx\u001b[0m in \u001b[0;36mzmq.backend.cython.socket.Socket.recv\u001b[0;34m()\u001b[0m\n",
            "\u001b[0;32mzmq/backend/cython/socket.pyx\u001b[0m in \u001b[0;36mzmq.backend.cython.socket.Socket.recv\u001b[0;34m()\u001b[0m\n",
            "\u001b[0;32mzmq/backend/cython/socket.pyx\u001b[0m in \u001b[0;36mzmq.backend.cython.socket._recv_copy\u001b[0;34m()\u001b[0m\n",
            "\u001b[0;32m/usr/local/lib/python3.7/dist-packages/zmq/backend/cython/checkrc.pxd\u001b[0m in \u001b[0;36mzmq.backend.cython.checkrc._check_rc\u001b[0;34m()\u001b[0m\n",
            "\u001b[0;31mKeyboardInterrupt\u001b[0m: ",
            "\nDuring handling of the above exception, another exception occurred:\n",
            "\u001b[0;31mKeyboardInterrupt\u001b[0m                         Traceback (most recent call last)",
            "\u001b[0;32m<ipython-input-11-aed1499d868e>\u001b[0m in \u001b[0;36m<module>\u001b[0;34m()\u001b[0m\n\u001b[1;32m      5\u001b[0m \u001b[0;34m\u001b[0m\u001b[0m\n\u001b[1;32m      6\u001b[0m \u001b[0;32mwhile\u001b[0m\u001b[0;34m(\u001b[0m\u001b[0;32mTrue\u001b[0m\u001b[0;34m)\u001b[0m\u001b[0;34m:\u001b[0m\u001b[0;34m\u001b[0m\u001b[0;34m\u001b[0m\u001b[0m\n\u001b[0;32m----> 7\u001b[0;31m     \u001b[0muser_input\u001b[0m\u001b[0;34m=\u001b[0m\u001b[0minput\u001b[0m\u001b[0;34m(\u001b[0m\u001b[0;34m)\u001b[0m\u001b[0;34m\u001b[0m\u001b[0;34m\u001b[0m\u001b[0m\n\u001b[0m\u001b[1;32m      8\u001b[0m     \u001b[0;32mif\u001b[0m \u001b[0muser_input\u001b[0m\u001b[0;34m.\u001b[0m\u001b[0mlower\u001b[0m\u001b[0;34m(\u001b[0m\u001b[0;34m)\u001b[0m \u001b[0;32min\u001b[0m \u001b[0mexit_list\u001b[0m\u001b[0;34m:\u001b[0m\u001b[0;34m\u001b[0m\u001b[0;34m\u001b[0m\u001b[0m\n\u001b[1;32m      9\u001b[0m         \u001b[0mprint\u001b[0m\u001b[0;34m(\u001b[0m\u001b[0;34m'Bot: Bye Bye Sampai jumpa lagi ayang'\u001b[0m\u001b[0;34m)\u001b[0m\u001b[0;34m\u001b[0m\u001b[0;34m\u001b[0m\u001b[0m\n",
            "\u001b[0;32m/usr/local/lib/python3.7/dist-packages/ipykernel/kernelbase.py\u001b[0m in \u001b[0;36mraw_input\u001b[0;34m(self, prompt)\u001b[0m\n\u001b[1;32m    702\u001b[0m             \u001b[0mself\u001b[0m\u001b[0;34m.\u001b[0m\u001b[0m_parent_ident\u001b[0m\u001b[0;34m,\u001b[0m\u001b[0;34m\u001b[0m\u001b[0;34m\u001b[0m\u001b[0m\n\u001b[1;32m    703\u001b[0m             \u001b[0mself\u001b[0m\u001b[0;34m.\u001b[0m\u001b[0m_parent_header\u001b[0m\u001b[0;34m,\u001b[0m\u001b[0;34m\u001b[0m\u001b[0;34m\u001b[0m\u001b[0m\n\u001b[0;32m--> 704\u001b[0;31m             \u001b[0mpassword\u001b[0m\u001b[0;34m=\u001b[0m\u001b[0;32mFalse\u001b[0m\u001b[0;34m,\u001b[0m\u001b[0;34m\u001b[0m\u001b[0;34m\u001b[0m\u001b[0m\n\u001b[0m\u001b[1;32m    705\u001b[0m         )\n\u001b[1;32m    706\u001b[0m \u001b[0;34m\u001b[0m\u001b[0m\n",
            "\u001b[0;32m/usr/local/lib/python3.7/dist-packages/ipykernel/kernelbase.py\u001b[0m in \u001b[0;36m_input_request\u001b[0;34m(self, prompt, ident, parent, password)\u001b[0m\n\u001b[1;32m    732\u001b[0m             \u001b[0;32mexcept\u001b[0m \u001b[0mKeyboardInterrupt\u001b[0m\u001b[0;34m:\u001b[0m\u001b[0;34m\u001b[0m\u001b[0;34m\u001b[0m\u001b[0m\n\u001b[1;32m    733\u001b[0m                 \u001b[0;31m# re-raise KeyboardInterrupt, to truncate traceback\u001b[0m\u001b[0;34m\u001b[0m\u001b[0;34m\u001b[0m\u001b[0;34m\u001b[0m\u001b[0m\n\u001b[0;32m--> 734\u001b[0;31m                 \u001b[0;32mraise\u001b[0m \u001b[0mKeyboardInterrupt\u001b[0m\u001b[0;34m\u001b[0m\u001b[0;34m\u001b[0m\u001b[0m\n\u001b[0m\u001b[1;32m    735\u001b[0m             \u001b[0;32melse\u001b[0m\u001b[0;34m:\u001b[0m\u001b[0;34m\u001b[0m\u001b[0;34m\u001b[0m\u001b[0m\n\u001b[1;32m    736\u001b[0m                 \u001b[0;32mbreak\u001b[0m\u001b[0;34m\u001b[0m\u001b[0;34m\u001b[0m\u001b[0m\n",
            "\u001b[0;31mKeyboardInterrupt\u001b[0m: "
          ]
        }
      ]
    },
    {
      "cell_type": "markdown",
      "source": [
        "##**CHATBOT VERSI AUDIO**"
      ],
      "metadata": {
        "id": "byl0DfMYGqCp"
      }
    },
    {
      "cell_type": "markdown",
      "metadata": {
        "id": "zJ5gxzVCgftf"
      },
      "source": [
        "---\n",
        "\n",
        "# Proses 1 (Making Corpus with Download an Article)"
      ]
    },
    {
      "cell_type": "code",
      "execution_count": null,
      "metadata": {
        "id": "FYT3-ERtgjjS",
        "colab": {
          "base_uri": "https://localhost:8080/"
        },
        "outputId": "48f8888d-c17d-4990-c749-c6dae4f2e9cc"
      },
      "outputs": [
        {
          "output_type": "stream",
          "name": "stdout",
          "text": [
            "Hampir mirip tempoyak, namun makanan ini juga salah satu cita rasa khas Jambi. (Bangun Santoso/Liputan6.com)\n",
            "\n",
            "Mie Aceh\n",
            "\n",
            "Makanan Khas Daerah di Indonesia dari Aceh ini memiliki tekstur yang tebal dan dicampur dengan irisan daging serta bumbu-bumbu rempah yang kuat. Mie Aceh biasanya disajikan dengan digoreng, direbus atau ditumis. Selain itu juga bisa disajikan dengan tambahan seafood seperti kepiting, udang dan cumi.\n",
            "\n",
            "Bika Ambon\n",
            "\n",
            "Walaupun namanya Bika Ambon, namun makanan ini bukan berasal dari Ambon. Kue ini berasal dari Sumatera Utara dan biasanya banyak dijual di Kota Medan sebagai oleh-oleh. Kue berwarna kuning ini memiliki tekstur yang lembut dan manis.\n",
            "\n",
            "Rendang\n",
            "\n",
            "Makanan Khas Indonesia dari Sumatera Barat ini pernah dinobatkan sebagai makanan terlezat di dunia. Makanan dari daging sapi yang dimasak dengan santan kelapa serta bumbu rempah selama berjam-jam ini memang begitu terkenal. Rasanya yang gurih dan juga nikmat, sukses membuat makanan khas daerah Sumatera Barat ini begitu disukai banyak orang.\n",
            "\n",
            "Gulai Belacan\n",
            "\n",
            "Gulai Belacan merupakan makanan khas daerah Riau. Belacan merupakan nama lain dari terasi yang begitu dikenal oleh orang Sumatera. Makanan khas daerah Riau ini dibuat dari bahan dasar berupa kuah yang telah dicampur dengan terasi. Selain itu terdapat pula daging, udang atau ikan.\n",
            "\n",
            "Otak-otak\n",
            "\n",
            "Makanan khas Indonesia lainnya berasal dari daerah Kepulauan Riau, yaitu otak-otak. Makanan tradisional yang terbuat dari bahan utama seafood ini merupakan makanan hasil laut yang diolah dan dibungkus dengan daun pisang.\n",
            "\n",
            "Gulai Ikan Patin\n",
            "\n",
            "Makanan khas Indonesia dari Jambi ini memiliki keunikan dari cara memasaknya. Cara memasaknya dicampur dengan daging buah durian yang sudah terfermentasi atau biasa disebut tempoyak. Namun terkadang tempoyak bisa digantikan dengan santan.\n",
            "\n",
            "Pendap\n",
            "\n",
            "Pendap merupakan makanan khas daerah Bengkulu. Makanan ini berbahan dasar ikan yang dibumbui dengan bumbu khusus yang beraneka ragam.\n",
            "\n",
            "Pempek\n",
            "\n",
            "Makanan khas daerah Sumatera Selatan ini sudah cukup terkenal dengan kelezatannya. Makanan ini terbuat dari olahan ikan yang dicampur dengan sagu. Dilengkapi dengan kuah cuko atau cuka yang begitu menggoda selera membuat banyak orang menggemarinya.\n",
            "\n",
            "Mie Bangka\n",
            "\n",
            "Makanan khas Indonesia dari daerah Bangka ini tentu saja berbahan dasar mi. Dihidangkan dengan mencampurkannya dengan kuah yang terbuat dari bumbu ikan, udang, atau cumi, dan ditaburi dengan kecambah serta mentimun.\n",
            "\n",
            "Seruit\n",
            "\n",
            "Seruit merupakan makanan khas Indonesia yang berasal dari Lampung. Makanan ini terbuat dari ikan yang dibakar dan disajikan dengan sambal terasi atau tempoyak atau mangga. Jika kamu sedang berkunjung ke Lampung, tak ada salahnya untuk mencicipi kuliner satu ini.Makanan Khas Indonesia – Indonesia memiliki destinasi kuliner yang sangat beragam, bahkan setiap daerah memiliki makanan khasnya masing-masing. Tentu sebagai pencinta kuliner Anda perlu tahu sebenarnya makanan khas Indonesia yang sudah terkenal sampai ke penjuru dunia itu apa saja, penasaran?\n",
            "\n",
            "Makanan Khas Indonesia yang Mendunia\n",
            "\n",
            "Sudah menjadi rahasia umum bahwa makanan yang ada di Indonesia terkenal dengan kelezatannya. Makanan khas Indonesia tersebut bahkan sudah terkenal di dunia. Apa saja makanan khas Indonesia yang mendunia? Simak penjelasan di bawah ini!\n",
            "\n",
            "1. Rendang\n",
            "\n",
            "Siapa yang tidak tahu makanan khas dari Sumatera Barat yang satu ini. Irisan daging sapi yang dimasak dengan rempah khas padang yang gurih.\n",
            "\n",
            "Ada dua proses pemasakan daging sapi yang kaya akan rempah ini. Untuk memasang rendang, dibutuhkan waktu minimal 4 jam untuk menjadikan daging rendang berwarna hitam pekat dan bumbu mengering seperti dedak.\n",
            "\n",
            "Rendang yang dimasak dalam waktu singkat dengan santan yang masih mengental disebut kalio, teksur kuah masih kental dan daging tidak begitu kering.\n",
            "\n",
            "Bahan-bahan yang dibutuhkan untuk memasak rendang diantaranya daging sapi, santan, cabai, lada, lengkuas, kunyit, jahe, bawang merah, bawang putih, dan bumbu lainnya. Karena dimasak dalam waktu yang lama dan menggunakan rempah alami, rendang bisa tahan hingga berhari-hari.\n",
            "\n",
            "Cita rasanya pun akan semakin lebih nikmat, sangat pas untuk disantap dengan nasi hangat. Tak mengherankan jika daging rendang menjadi salah satu makanan yang dinobatkan menjadi salah satu makanan terlezat di dunia. Kalau Grameds ingin mengetahui cara memasak rendang yang authentic bisa miliki buku “Resep Masakan Minang Warisan Sari Ratu” karya Gaza Saleh Ali Auwines versi e-book.\n",
            "\n",
            "2. Sate\n",
            "\n",
            "Sate juga salah satu makanan yang mudah untuk dijumpai di Indonesia. Sate adalah kuliner khas Indonesia yang menggunakan daging ayam, sapi, kambing, kelinci, ataupun kerbau sebagai bahan bakunya.\n",
            "\n",
            "Daging tersebut dipotong, direndam dengan bumbu marinasi lalu dibakar hingga matang. Setelah itu sate disajikan dengan beragam saus, mulai dari saus kacang ataupun saus kecap.\n",
            "\n",
            "Uniknya, setiap pulau memiliki sate dengan versi yang berbeda- beda. Mulai dari Sate Padang dari Minangkabau, Sate Madura, Sate Tegal, Sate Klathak, Sate Lilit, Sate Ponorogo, Sate Ambal, dan Sate Buntal.\n",
            "\n",
            "Yang membedakan dari masing-masing sate tersebut adalah cara pemilihan daging dan saus pelengkapnya. Sate sangat cocok disantap dengan nasi putih atau lontong, acar timun serta kerupuk.\n",
            "\n",
            "Menggiurkan ya Grameds, tidak ada salahnya kamu mencoba membuat kreasi satemu sendiri. Grameds bisa mengintip “Aneka Resep Masakan Sate” di e-book dengan link berikut.\n",
            "\n",
            "3. Nasi Goreng\n",
            "\n",
            "Ada yang belum pernah menyantap nasi goreng? Pastinya hampir seluruh orang tau kuliner yang satu ini. Selain lezat, nasi goreng adalah kuliner yang mudah untuk dimasak.\n",
            "\n",
            "Nasi goreng sendiri banyak versinya, ada nasi goreng kampung, nasi goreng ijo, nasi goreng jawa, nasi goreng teri, nasi goreng seafood, nasi goreng, nasi goreng sunda, nasi goreng mawut, dll.\n",
            "\n",
            "Biasanya nasi goreng sering dihidangkan untuk sarapan atau kuliner di malam hari. Untuk Grameds yang sering berburu kuliner di malam hari, Grameds bisa mendapati nasi goreng gerobak yang harum baunya tak kuasa untuk ditolak. Tak salah jika nasi goreng menjadi kuliner yang juga dinobatkan sebagai makanan terlezat di dunia.\n",
            "\n",
            "Yuk buat sarapanmu sendiri dengan menjajal aneka resep nasi goreng, intip resepnya di buku “Resep Nasi Goreng Indonesia” karya tim editor ahli Nigtoon Cookery.\n",
            "\n",
            "4. Bakso\n",
            "\n",
            "“Abang tukang bakso, mari-mari sini, aku mau beli”. Itulah penggalan dari lagu anak yang dipopulerkan oleh Melisa saat tahun 90-an. Saking terkenalnya kelezatan akan bakso, kehadiran abang bakso selalu ditunggu-tunggu.\n",
            "\n",
            "Bakso merupakan olahan dari daging sapi yang dihaluskan, dicampur dengan bumbu halus, tepung terigu, dan penyedap rasa. Adonan tersebut dibentuk bola lalu direbus hingga matang.\n",
            "\n",
            "Bakso disajikan bersama kuah kaldu sapi beserta pelengkap berupa mie kuning, bihun, tahu bakso, dan rajangan daun seledri.\n",
            "\n",
            "Kini bakso telah banyak dimodifikasi seperti bakso keju, bakso rawit, bakso beranak, bakso telur, hingga bakso yang ukuran jumbo. Jangan lupa untuk menyantap bakso beserta kecap, saus ataupun sambal yang menggugah selera. Tertarik membuatnya? miliki e-book berikut untuk mendapatkan resepnya.\n",
            "\n",
            "5. Soto\n",
            "\n",
            "Soto, Coto, Sauto, Tauto adalah makanan khas Indonesia sejenis sup dengan kuah rebusan ayam atau sapi. Soto biasanya memakai dua jenis daging, yakni daging ayam dan dan daging sapi.\n",
            "\n",
            "Soto ayam memiliki kuah berwarna kekuningan dengan rasa gurih dan harum. Warna kuning dikarenakan dari kunyit, bawang merah, bawang putih sebagai bumbu dasarnya. Sedangkan soto daging biasa berwarna bening atau berkuah santan.\n",
            "\n",
            "Soto dapat ditemukan di tiap daerah, khususnya di pulau Jawa. banyak sekali varian soto di Indonesia, salah satunya adalah Soto Lamongan, Soto Kudus, Soto Betawi, Soto Bandung, Soto Padang, Soto Jepara, Soto Banjar, Coto Makasar, dll\n",
            "\n",
            "Soto disajikan bersama pelengkap yang bervariasi di tiap daerah. Soto Bandung disajikan bersama lobak dan kacang kedelai goreng, Soto Kudus disajikan tauge rebus, Soto Lamongan disajikan bersama irisan kol, tomat dan koya, dll.\n",
            "\n",
            "Soto sangat pas dinikmati hangat-hangat terutama saat hujan atau saat kurang enak badan. Protein dan aneka rempah yang terkandung dalam semangkuk soto dapat memulihkan stamina dan menghangatkan badan. Jangan lupa untuk mencoba resep soto di buku resep “Sop & Soto Favorit Ala Cafe” karya Indriani ya Grameds.\n",
            "\n",
            "Makanan Khas Indonesia yang Terkenal di Dunia\n",
            "\n",
            "6. Rawon\n",
            "\n",
            "Rawon adalah makan khas dari Kota Surabaya yang mirip dengan sup daging namun memiliki kuah hitam pekat. Meskipun kuahnya tidak seperti sup pada umumnya, rawon memiliki cita rasa yang khas dan selalu dirindukan oleh penikmat masakan Jawa timuran.\n",
            "\n",
            "Warna hitam pada rawon disebabkan oleh pemakaian kluwek pada kuahnya. Buah kluwek adalah buah berwarna hitam yang memberikan warna serta citarasa yang unik pada masakan.\n",
            "\n",
            "Rawon disajikan bersama potongan daging sapi, rebusan kecambah dan telur asin serta kerupuk udang. Jangan lupa tambahkan perasan jeruk nipis dan sambal untuk menambah kesegaran saat menyantap hidangan yang satu ini. Tertarik membuatnya? Donwload saja di e-book Gramedia Digital agar Grameds terampil memasak masakan nusantara yang nikmat rasanya.\n",
            "\n",
            "7. Gado-Gado\n",
            "\n",
            "Gado-gado adalah makanan khas dari Jakarta yang menyehatkan karena terdiri dari rebusan sayuran seperti kangkung, wortel, labu siam, selada, timun dan irisan tempe yang disiram dengan saus kacang yang gurih.\n",
            "\n",
            "Di Jawa Barat Gado-gado disebut dengan Lotek. Serupa bentuknya namun tak sama citarasanya. Lotek memakai bumbu kacang, bawang putih, kencur, dan asam jawa sehingga memiliki bau yang lebih kuat dan lebih manis dibandingkan Gado-gado.\n",
            "\n",
            "Gado-gado dapat disantap dengan lontong atau nasi putih. Harga Gado-gado juga cukup terjangkau, seporsi Gado-gado dibanderol sekitar Rp 10.000 – Rp 15.000 saja.\n",
            "\n",
            "8. Nasi Padang\n",
            "\n",
            "Siapa yang tidak tergoda menyantap Nasi Padang saat makan siang? Baru mendengar namanya saja sudah menerbitkan air liur ya Grameds. Nasi Padang sebenarnya adalah nasi putih yang disajikan bersama aneka jenis lauk khas Padang seperti rendang, gulai ikan, ayam bakar, ayam pop, telor dadar, kering tempe, daging cincang, daun singkong rebus dan sambal ijo.\n",
            "\n",
            "Yang menarik dalam menyantap nasi padang di restoran adalah cara penyajian. Grameds bisa menyantap dengan cara semua menu dihidangkan di meja, sehingga Grameds tinggal memilih makanan yang akan disantap. Cara kedua adalah dengan memesan langsung 1 porsi nasi padang tanpa harus meminta untuk dihidangkan di meja.\n",
            "\n",
            "Cara terakhir menyantap nasi Padang yang paling diminati adalah dengan membungkusnya (take away). Banyak orang menganggap cara ini paling nikmat karena Grameds mendapat porsi nasi lebih banyak daripada disantap di rumah makan, nasi juga lebih gurih karena segala macam kuah disiram ke atas nasi sehingga rasanya menyerap sempurna.\n",
            "\n",
            "Meskipun citarasa dari nasi rames khas Padang ini cenderung pedas, tapi banyak lho orang asing yang tergila-gila dengan Nasi Padang. Rasanya kita juga setuju ya, Grameds. Jangan hanya makan di restoran, yuk hidangkan masakan ala Minang ini lewat kreasimu sendiri, buku resep “Masakan Nusantara Favorit” yang satu ini wajib kamu miliki agar kemampuan memasakmu semakin terasah.\n",
            "\n",
            "9. Sambal\n",
            "\n",
            "Sambal adalah menu wajib orang Indonesia dalam menyantap kuliner apapun. Tak lengkap rasanya jika makan tanpa sambal, apalagi jika sambalnya dibuat langsung bukan sambal kemasan.\n",
            "\n",
            "Sambal adalah pelengkap nasi yang berbahan dasar cabai merah/hijau, cabai rawit, bawang merah, bawang putih, garam, dan gula yang diulek hingga setengah halus. Sambal memiliki citarasa pedas menyegarkan. Terdapat banyak sekali varian sambal di Indonesia yakni, sambal tomat, sambal bajak, sambal korek, sambal matah, sambal ijo, sambal terasi, sambal teri, sambal pete, sambal mangga, dll.\n",
            "\n",
            "10. Pempek\n",
            "\n",
            "Jikalau Grameds singgah ke Kota Palembang, maka sudah tak asing dengan oleh-oleh khas Palembang yang satu ini. Pempek Palembang sudah pasti jadi pilihan utama untuk dinikmati karena citarasanya yang gurih dan lezat.\n",
            "\n",
            "Pempek merupakan kuliner khas Sumatra yang terbuat dari ikan tenggiri, toman, atau gabus yang dihaluskan, dicampur bersama tepung sagu dan bumbu halus. Pempek diuleni hingga kalis lalu direbus dalam air mendidih. setelah itu pempek digoreng dan disantap bersama kuah cuko. Kuah cuko adalah kuah yang terbuat dari rebusan gula merah dan cuka.\n",
            "\n",
            "Pempek memiliki berbagai jenis yakni kapal selam (pempek yang diisi dengan telur), lenjer (pempek berbentuk panjang), ada’an (pempek berbentuk bulat), pempek telur, pempek kulit ikan da pempek keriting.\n",
            "\n",
            "Pempek memiliki citarasa gurih, manis, asam, pedas sehingga sangat cocok dijadikan camilan bersama keluarga atau sebagai oleh-oleh untuk keluarga atau kerabat. Mau coba membuat pempek sendiri? Kamu bisa melihat contekan resepnya di “Resep Favorit Untuk Usaha Pempek” ya Grameds.\n",
            "\n",
            "Makanan Khas Indonesia yang Terkenal di Dunia\n",
            "\n",
            "11. Gudeg\n",
            "\n",
            "Pernah mampir ke Kota Yogyakarta? Pastinya Gudeg adalah kuliner yang tak boleh untuk dilewatkan jika berkunjung ke kota pelajar yang satu ini. Gudeng merupakan makanan khas Yogyakarta yang terbuat dari nangka muda yang dimasak dengan santan dan daun jati selama berjam-jam hingga lembut dan bumbu meresap sempurna dan berwarna kemerahan.\n",
            "\n",
            "Gudeg memiliki citasrasa manis dan sering disantap bersama kuah santan kental (areh), ayam kampung, telur, tahu tempe serta krecek. Meskipun pada dasarnya bukan termasuk makanan yang tahan lama, gudeg dapat kita temukan dalam berbentuk kaleng agar bisa tahan lebih lama untuk dibawa ke luar kota.\n",
            "\n",
            "Meskipun berbentuk kalengan, gudeg ini sama sekali tidak memakai pengawet. Proses pengawetan dilakukan sesuai prosedur dengan cara disterilisasi untuk mematikan bakteri yang mempercepat pembusukan.\n",
            "\n",
            "Saking terkenalnya, gudeg sudah diekspor ke negara tetangga seperti Malaysia dan Singapura. Tentu saja dengan adanya gudeg kalengan ini bisa mengobati rasa rindu orang Indonesia yang tinggal di luar negri, dan memperkenalkan kuliner Indonesia di mancanegara.\n",
            "\n",
            "BACA JUGA: Makanan Sehat yang Cocok untuk Golongan Darahmu\n",
            "\n",
            "12. Bebek Betutu\n",
            "\n",
            "Pulau Dewata sudah terkenal dengan pesona alamnya yang membius semua mata yang berkunjung ke sana. Tak hanya alamnya, kulinernya pun sangat menggoda untuk dicicipi. Salah satu kuliner andalan jika berkunjung ke Bali adalah bebek Betutu yang biasa kita temukan di Ubud.\n",
            "\n",
            "Bebek Betutu adalah masakan kebanggan masyarakat Bali lho Grameds. Oleh karena itu kita dapat dengan mudah menemukan restoran yang menyajikan olahan dari bebek ini.\n",
            "\n",
            "Cara masak Bebek Betutu ini menggunakan bebek utuh yang dibungkus daun pisang, lalu dibungkus lagi dengan pelepah pinang hingga rapat. Yang uniknya lagi adalah bebek tersebut ditanam dalam lubang di tanah dan ditutup dengan bara api selama 6 – 7 jam hingga daging bebek lunak dan empuk.\n",
            "\n",
            "Betutu memiliki aroma yang harum dan cita rasa yang pedas. Biasanya disajikan dengan sambal matah, kacang dan sayuran rebus. Jika Grameds berkunjung ke Pulau Dewata, sempatkan diri untuk menjajal kuliner yang satu ini. Tertarik membuat kuliner khas Bali ini sendiri? Yuk intip resepnya Grameds.\n",
            "\n",
            "13. Ayam Rica-Rica\n",
            "\n",
            "Jika mendengar kata rica-rica sudah pasti teringat akan kuliner Manado yang terkenal akan rasa pedasnya. Kata rica memiliki arti pedas. Oleh karena itu bumbu utama dari sambal rica-rica adalah bawang merah, bawang putih, jahe, cabe merah dan cabe rawit.\n",
            "\n",
            "Sambal rica tersebut dimasak bersama ayam, garam, dan daun aromatik agar rasanya lebih harum dan gurih. Ayam rica sangat pas dinikmati bersama nasi putih sebagai lauk saat santap siang ya Grameds.\n",
            "\n",
            "14. Cakalang Rica-Rica\n",
            "\n",
            "Masih sama dari daerah Sulawesi Utara, Cakalang rica-rica merupakan kuliner khas Manado yang terkenal akan kelezatannya.\n",
            "\n",
            "Kuliner yang memiliki citarasa pedas ini terbuat dari ikan cakalang yang diasap hingga harum dan bertekstur kering. Ikan cakalang tersebut disuwir, diberi perasan jeruk nipis dan dan garam, lalu ditumis bersama sambal rica.\n",
            "\n",
            "Citarasa dari cakalang asap rica ini pedas, gurih dan aroma asap yang khas. Tak heran jika cakalang asap rica ini cocok disantap bersama nasi dan kerupuk.\n",
            "\n",
            "15. Woku Belanga\n",
            "\n",
            "Woku adalah bumbu makanan ala Manado yang terbuat dari berbagai macam bumbu khas Minahasa. Bumbu khas ini dimasak dalam belanga, oleh karena itu terkenal dengan sebutan woku balanga.\n",
            "\n",
            "Bumbu woku terdiri dari bawang merah, bawang putih, cabai rawit, tomat, kunyit, jahe, serai, daun pandan, daun jeruk, daun kemangi dan daun bawang. Tak mengherankan jika woku memiliki aroma khas yang harum.\n",
            "\n",
            "Woku bisa digunakan untuk membumbui ayam, ikan nila, kerapu, ikan mas, kepiting, hingga udang. Cara memasaknya dimasukkan ke dalam belanga hingga matang dan berbau harum.\n",
            "\n",
            "Woku sangat pas disantap bersama nasi putih dan kerupuk ya Grameds. Jangan lupa tambahkan sambal jika kamu penyuka pedas. Kalau kamu mau memodifikasi hidangan ini, kamu bisa membuat sendiri dengan mengintip buku “Hidangan Lezat Manado” yang satu ini.\n",
            "\n",
            "Makanan Khas Indonesia yang Terkenal di Dunia\n",
            "\n",
            "16. Sop Konro\n",
            "\n",
            "Sup Konro adalah masakan yang terbuat dari iga sapi khas Makasar, Sulawesi Selatan. Sup ini memiliki tekstur kuah yang kental berwarna coklat kehitaman. Warna coklat kehitaman diperoleh dari buah kluwek dan rasa yang kuat karena penambahan ketumbar.\n",
            "\n",
            "Citarasa Sup Konro cenderung gurih, pedas dengan aroma rempah yang cukup kuat. Hal ini dikarenakan sup ini memakai rempah seperti ketumbar, pala, kunyit, kencur, kayu manis, asam, daun jeruk, cengkih dan salam.\n",
            "\n",
            "Daging sapinya direbus hingga lunak dan empuk. Seporsi sop konro cukup mengenyangkan lho Grameds. Biasanya Sup ini disajikan bersama buras atau ketupat, namun kamu juga bisa menikmati dengan nasi putih.\n",
            "\n",
            "Selain dibuat sup, Konro juga bisa dibakar hingga harum, dan disajikan dengan kuah terpisah.\n",
            "\n",
            "17. Sate Ulat Sagu\n",
            "\n",
            "Sate ulat? Bagi sebagian orang, makanan khas Papua ini bisa membuat orang bergidik geli. Tapi di Papua kuliner yang terbuat dari ulat sagu ini merupakan kuliner yang lazim untuk disantap karena rasanya yang lezat dan kaya protein.\n",
            "\n",
            "Ulat sagu yang dimasak ini berasal dari pohon sagu yang dipotong batangnya lalu dibiarkan hingga membusuk hingga muncullah ulat berwarna putih. Batang tersebut dibongkar dengan menggunakan kapak untuk mengeluarkan ulat sagu yang berwarna putih dan bertubuh kenyal ini.\n",
            "\n",
            "Meskipun tampilannya cukup menjijikan, namun rasa ulat sagu ini sangat lezat lho Grameds. Ulat sagu juga rendah kolestrol dan tinggi protein. Ulat sagu bisa dimakan langsung, dibakar, hingga ditumis.\n",
            "\n",
            "Bagi kamu yang suka makanan ekstrim, tiada salahnya mencoba kuliner dari bumi cendrawasih ini. Karena keberasaan pohon sagu hanya ada di Indonesia timur, tentu saja kuliner ini tidak dapat kita temui di kota lain.\n",
            "\n",
            "Itulah 17 makanan khas Indonesia yang sudah terkenal akan kelezatannya. Ayo lestarikan kuliner nusantara, jangan lupa juga untuk menjajal skill memasakmu dengan aneka resep kuliner khas nusantara di sini. Selamat mencoba, Grameds!\n",
            "\n",
            "Rekomendasi Buku & Artikel Resep\n"
          ]
        }
      ],
      "source": [
        "article = Article('https://hot.liputan6.com/read/4464901/40-makanan-khas-daerah-di-indonesia-beserta-asalnya-wajib-dicicipi')\n",
        "article.download()\n",
        "article.parse()\n",
        "article.nlp()\n",
        "article2 = Article('https://www.gramedia.com/best-seller/makanan-khas-indonesia-yang-mendunia/')\n",
        "article2.download()\n",
        "article2.parse()\n",
        "article2.nlp() \n",
        "corpus = article.text+article2.text\n",
        "print(corpus)"
      ]
    },
    {
      "cell_type": "markdown",
      "metadata": {
        "id": "6KQ3Or6fiKxv"
      },
      "source": [
        "# Proses 2 (Tokenization)"
      ]
    },
    {
      "cell_type": "code",
      "execution_count": null,
      "metadata": {
        "id": "qsID-u6Gg012",
        "colab": {
          "base_uri": "https://localhost:8080/"
        },
        "outputId": "c6ba94fa-06d0-48a2-d2e7-0b850db936eb"
      },
      "outputs": [
        {
          "output_type": "stream",
          "name": "stdout",
          "text": [
            "['Hampir mirip tempoyak, namun makanan ini juga salah satu cita rasa khas Jambi.', '(Bangun Santoso/Liputan6.com)\\n\\nMie Aceh\\n\\nMakanan Khas Daerah di Indonesia dari Aceh ini memiliki tekstur yang tebal dan dicampur dengan irisan daging serta bumbu-bumbu rempah yang kuat.', 'Mie Aceh biasanya disajikan dengan digoreng, direbus atau ditumis.', 'Selain itu juga bisa disajikan dengan tambahan seafood seperti kepiting, udang dan cumi.', 'Bika Ambon\\n\\nWalaupun namanya Bika Ambon, namun makanan ini bukan berasal dari Ambon.', 'Kue ini berasal dari Sumatera Utara dan biasanya banyak dijual di Kota Medan sebagai oleh-oleh.', 'Kue berwarna kuning ini memiliki tekstur yang lembut dan manis.', 'Rendang\\n\\nMakanan Khas Indonesia dari Sumatera Barat ini pernah dinobatkan sebagai makanan terlezat di dunia.', 'Makanan dari daging sapi yang dimasak dengan santan kelapa serta bumbu rempah selama berjam-jam ini memang begitu terkenal.', 'Rasanya yang gurih dan juga nikmat, sukses membuat makanan khas daerah Sumatera Barat ini begitu disukai banyak orang.', 'Gulai Belacan\\n\\nGulai Belacan merupakan makanan khas daerah Riau.', 'Belacan merupakan nama lain dari terasi yang begitu dikenal oleh orang Sumatera.', 'Makanan khas daerah Riau ini dibuat dari bahan dasar berupa kuah yang telah dicampur dengan terasi.', 'Selain itu terdapat pula daging, udang atau ikan.', 'Otak-otak\\n\\nMakanan khas Indonesia lainnya berasal dari daerah Kepulauan Riau, yaitu otak-otak.', 'Makanan tradisional yang terbuat dari bahan utama seafood ini merupakan makanan hasil laut yang diolah dan dibungkus dengan daun pisang.', 'Gulai Ikan Patin\\n\\nMakanan khas Indonesia dari Jambi ini memiliki keunikan dari cara memasaknya.', 'Cara memasaknya dicampur dengan daging buah durian yang sudah terfermentasi atau biasa disebut tempoyak.', 'Namun terkadang tempoyak bisa digantikan dengan santan.', 'Pendap\\n\\nPendap merupakan makanan khas daerah Bengkulu.', 'Makanan ini berbahan dasar ikan yang dibumbui dengan bumbu khusus yang beraneka ragam.', 'Pempek\\n\\nMakanan khas daerah Sumatera Selatan ini sudah cukup terkenal dengan kelezatannya.', 'Makanan ini terbuat dari olahan ikan yang dicampur dengan sagu.', 'Dilengkapi dengan kuah cuko atau cuka yang begitu menggoda selera membuat banyak orang menggemarinya.', 'Mie Bangka\\n\\nMakanan khas Indonesia dari daerah Bangka ini tentu saja berbahan dasar mi.', 'Dihidangkan dengan mencampurkannya dengan kuah yang terbuat dari bumbu ikan, udang, atau cumi, dan ditaburi dengan kecambah serta mentimun.', 'Seruit\\n\\nSeruit merupakan makanan khas Indonesia yang berasal dari Lampung.', 'Makanan ini terbuat dari ikan yang dibakar dan disajikan dengan sambal terasi atau tempoyak atau mangga.', 'Jika kamu sedang berkunjung ke Lampung, tak ada salahnya untuk mencicipi kuliner satu ini.Makanan Khas Indonesia – Indonesia memiliki destinasi kuliner yang sangat beragam, bahkan setiap daerah memiliki makanan khasnya masing-masing.', 'Tentu sebagai pencinta kuliner Anda perlu tahu sebenarnya makanan khas Indonesia yang sudah terkenal sampai ke penjuru dunia itu apa saja, penasaran?', 'Makanan Khas Indonesia yang Mendunia\\n\\nSudah menjadi rahasia umum bahwa makanan yang ada di Indonesia terkenal dengan kelezatannya.', 'Makanan khas Indonesia tersebut bahkan sudah terkenal di dunia.', 'Apa saja makanan khas Indonesia yang mendunia?', 'Simak penjelasan di bawah ini!', '1.', 'Rendang\\n\\nSiapa yang tidak tahu makanan khas dari Sumatera Barat yang satu ini.', 'Irisan daging sapi yang dimasak dengan rempah khas padang yang gurih.', 'Ada dua proses pemasakan daging sapi yang kaya akan rempah ini.', 'Untuk memasang rendang, dibutuhkan waktu minimal 4 jam untuk menjadikan daging rendang berwarna hitam pekat dan bumbu mengering seperti dedak.', 'Rendang yang dimasak dalam waktu singkat dengan santan yang masih mengental disebut kalio, teksur kuah masih kental dan daging tidak begitu kering.', 'Bahan-bahan yang dibutuhkan untuk memasak rendang diantaranya daging sapi, santan, cabai, lada, lengkuas, kunyit, jahe, bawang merah, bawang putih, dan bumbu lainnya.', 'Karena dimasak dalam waktu yang lama dan menggunakan rempah alami, rendang bisa tahan hingga berhari-hari.', 'Cita rasanya pun akan semakin lebih nikmat, sangat pas untuk disantap dengan nasi hangat.', 'Tak mengherankan jika daging rendang menjadi salah satu makanan yang dinobatkan menjadi salah satu makanan terlezat di dunia.', 'Kalau Grameds ingin mengetahui cara memasak rendang yang authentic bisa miliki buku “Resep Masakan Minang Warisan Sari Ratu” karya Gaza Saleh Ali Auwines versi e-book.', '2.', 'Sate\\n\\nSate juga salah satu makanan yang mudah untuk dijumpai di Indonesia.', 'Sate adalah kuliner khas Indonesia yang menggunakan daging ayam, sapi, kambing, kelinci, ataupun kerbau sebagai bahan bakunya.', 'Daging tersebut dipotong, direndam dengan bumbu marinasi lalu dibakar hingga matang.', 'Setelah itu sate disajikan dengan beragam saus, mulai dari saus kacang ataupun saus kecap.', 'Uniknya, setiap pulau memiliki sate dengan versi yang berbeda- beda.', 'Mulai dari Sate Padang dari Minangkabau, Sate Madura, Sate Tegal, Sate Klathak, Sate Lilit, Sate Ponorogo, Sate Ambal, dan Sate Buntal.', 'Yang membedakan dari masing-masing sate tersebut adalah cara pemilihan daging dan saus pelengkapnya.', 'Sate sangat cocok disantap dengan nasi putih atau lontong, acar timun serta kerupuk.', 'Menggiurkan ya Grameds, tidak ada salahnya kamu mencoba membuat kreasi satemu sendiri.', 'Grameds bisa mengintip “Aneka Resep Masakan Sate” di e-book dengan link berikut.', '3.', 'Nasi Goreng\\n\\nAda yang belum pernah menyantap nasi goreng?', 'Pastinya hampir seluruh orang tau kuliner yang satu ini.', 'Selain lezat, nasi goreng adalah kuliner yang mudah untuk dimasak.', 'Nasi goreng sendiri banyak versinya, ada nasi goreng kampung, nasi goreng ijo, nasi goreng jawa, nasi goreng teri, nasi goreng seafood, nasi goreng, nasi goreng sunda, nasi goreng mawut, dll.', 'Biasanya nasi goreng sering dihidangkan untuk sarapan atau kuliner di malam hari.', 'Untuk Grameds yang sering berburu kuliner di malam hari, Grameds bisa mendapati nasi goreng gerobak yang harum baunya tak kuasa untuk ditolak.', 'Tak salah jika nasi goreng menjadi kuliner yang juga dinobatkan sebagai makanan terlezat di dunia.', 'Yuk buat sarapanmu sendiri dengan menjajal aneka resep nasi goreng, intip resepnya di buku “Resep Nasi Goreng Indonesia” karya tim editor ahli Nigtoon Cookery.', '4.', 'Bakso\\n\\n“Abang tukang bakso, mari-mari sini, aku mau beli”.', 'Itulah penggalan dari lagu anak yang dipopulerkan oleh Melisa saat tahun 90-an.', 'Saking terkenalnya kelezatan akan bakso, kehadiran abang bakso selalu ditunggu-tunggu.', 'Bakso merupakan olahan dari daging sapi yang dihaluskan, dicampur dengan bumbu halus, tepung terigu, dan penyedap rasa.', 'Adonan tersebut dibentuk bola lalu direbus hingga matang.', 'Bakso disajikan bersama kuah kaldu sapi beserta pelengkap berupa mie kuning, bihun, tahu bakso, dan rajangan daun seledri.', 'Kini bakso telah banyak dimodifikasi seperti bakso keju, bakso rawit, bakso beranak, bakso telur, hingga bakso yang ukuran jumbo.', 'Jangan lupa untuk menyantap bakso beserta kecap, saus ataupun sambal yang menggugah selera.', 'Tertarik membuatnya?', 'miliki e-book berikut untuk mendapatkan resepnya.', '5.', 'Soto\\n\\nSoto, Coto, Sauto, Tauto adalah makanan khas Indonesia sejenis sup dengan kuah rebusan ayam atau sapi.', 'Soto biasanya memakai dua jenis daging, yakni daging ayam dan dan daging sapi.', 'Soto ayam memiliki kuah berwarna kekuningan dengan rasa gurih dan harum.', 'Warna kuning dikarenakan dari kunyit, bawang merah, bawang putih sebagai bumbu dasarnya.', 'Sedangkan soto daging biasa berwarna bening atau berkuah santan.', 'Soto dapat ditemukan di tiap daerah, khususnya di pulau Jawa.', 'banyak sekali varian soto di Indonesia, salah satunya adalah Soto Lamongan, Soto Kudus, Soto Betawi, Soto Bandung, Soto Padang, Soto Jepara, Soto Banjar, Coto Makasar, dll\\n\\nSoto disajikan bersama pelengkap yang bervariasi di tiap daerah.', 'Soto Bandung disajikan bersama lobak dan kacang kedelai goreng, Soto Kudus disajikan tauge rebus, Soto Lamongan disajikan bersama irisan kol, tomat dan koya, dll.', 'Soto sangat pas dinikmati hangat-hangat terutama saat hujan atau saat kurang enak badan.', 'Protein dan aneka rempah yang terkandung dalam semangkuk soto dapat memulihkan stamina dan menghangatkan badan.', 'Jangan lupa untuk mencoba resep soto di buku resep “Sop & Soto Favorit Ala Cafe” karya Indriani ya Grameds.', 'Makanan Khas Indonesia yang Terkenal di Dunia\\n\\n6.', 'Rawon\\n\\nRawon adalah makan khas dari Kota Surabaya yang mirip dengan sup daging namun memiliki kuah hitam pekat.', 'Meskipun kuahnya tidak seperti sup pada umumnya, rawon memiliki cita rasa yang khas dan selalu dirindukan oleh penikmat masakan Jawa timuran.', 'Warna hitam pada rawon disebabkan oleh pemakaian kluwek pada kuahnya.', 'Buah kluwek adalah buah berwarna hitam yang memberikan warna serta citarasa yang unik pada masakan.', 'Rawon disajikan bersama potongan daging sapi, rebusan kecambah dan telur asin serta kerupuk udang.', 'Jangan lupa tambahkan perasan jeruk nipis dan sambal untuk menambah kesegaran saat menyantap hidangan yang satu ini.', 'Tertarik membuatnya?', 'Donwload saja di e-book Gramedia Digital agar Grameds terampil memasak masakan nusantara yang nikmat rasanya.', '7.', 'Gado-Gado\\n\\nGado-gado adalah makanan khas dari Jakarta yang menyehatkan karena terdiri dari rebusan sayuran seperti kangkung, wortel, labu siam, selada, timun dan irisan tempe yang disiram dengan saus kacang yang gurih.', 'Di Jawa Barat Gado-gado disebut dengan Lotek.', 'Serupa bentuknya namun tak sama citarasanya.', 'Lotek memakai bumbu kacang, bawang putih, kencur, dan asam jawa sehingga memiliki bau yang lebih kuat dan lebih manis dibandingkan Gado-gado.', 'Gado-gado dapat disantap dengan lontong atau nasi putih.', 'Harga Gado-gado juga cukup terjangkau, seporsi Gado-gado dibanderol sekitar Rp 10.000 – Rp 15.000 saja.', '8.', 'Nasi Padang\\n\\nSiapa yang tidak tergoda menyantap Nasi Padang saat makan siang?', 'Baru mendengar namanya saja sudah menerbitkan air liur ya Grameds.', 'Nasi Padang sebenarnya adalah nasi putih yang disajikan bersama aneka jenis lauk khas Padang seperti rendang, gulai ikan, ayam bakar, ayam pop, telor dadar, kering tempe, daging cincang, daun singkong rebus dan sambal ijo.', 'Yang menarik dalam menyantap nasi padang di restoran adalah cara penyajian.', 'Grameds bisa menyantap dengan cara semua menu dihidangkan di meja, sehingga Grameds tinggal memilih makanan yang akan disantap.', 'Cara kedua adalah dengan memesan langsung 1 porsi nasi padang tanpa harus meminta untuk dihidangkan di meja.', 'Cara terakhir menyantap nasi Padang yang paling diminati adalah dengan membungkusnya (take away).', 'Banyak orang menganggap cara ini paling nikmat karena Grameds mendapat porsi nasi lebih banyak daripada disantap di rumah makan, nasi juga lebih gurih karena segala macam kuah disiram ke atas nasi sehingga rasanya menyerap sempurna.', 'Meskipun citarasa dari nasi rames khas Padang ini cenderung pedas, tapi banyak lho orang asing yang tergila-gila dengan Nasi Padang.', 'Rasanya kita juga setuju ya, Grameds.', 'Jangan hanya makan di restoran, yuk hidangkan masakan ala Minang ini lewat kreasimu sendiri, buku resep “Masakan Nusantara Favorit” yang satu ini wajib kamu miliki agar kemampuan memasakmu semakin terasah.', '9.', 'Sambal\\n\\nSambal adalah menu wajib orang Indonesia dalam menyantap kuliner apapun.', 'Tak lengkap rasanya jika makan tanpa sambal, apalagi jika sambalnya dibuat langsung bukan sambal kemasan.', 'Sambal adalah pelengkap nasi yang berbahan dasar cabai merah/hijau, cabai rawit, bawang merah, bawang putih, garam, dan gula yang diulek hingga setengah halus.', 'Sambal memiliki citarasa pedas menyegarkan.', 'Terdapat banyak sekali varian sambal di Indonesia yakni, sambal tomat, sambal bajak, sambal korek, sambal matah, sambal ijo, sambal terasi, sambal teri, sambal pete, sambal mangga, dll.', '10.', 'Pempek\\n\\nJikalau Grameds singgah ke Kota Palembang, maka sudah tak asing dengan oleh-oleh khas Palembang yang satu ini.', 'Pempek Palembang sudah pasti jadi pilihan utama untuk dinikmati karena citarasanya yang gurih dan lezat.', 'Pempek merupakan kuliner khas Sumatra yang terbuat dari ikan tenggiri, toman, atau gabus yang dihaluskan, dicampur bersama tepung sagu dan bumbu halus.', 'Pempek diuleni hingga kalis lalu direbus dalam air mendidih.', 'setelah itu pempek digoreng dan disantap bersama kuah cuko.', 'Kuah cuko adalah kuah yang terbuat dari rebusan gula merah dan cuka.', 'Pempek memiliki berbagai jenis yakni kapal selam (pempek yang diisi dengan telur), lenjer (pempek berbentuk panjang), ada’an (pempek berbentuk bulat), pempek telur, pempek kulit ikan da pempek keriting.', 'Pempek memiliki citarasa gurih, manis, asam, pedas sehingga sangat cocok dijadikan camilan bersama keluarga atau sebagai oleh-oleh untuk keluarga atau kerabat.', 'Mau coba membuat pempek sendiri?', 'Kamu bisa melihat contekan resepnya di “Resep Favorit Untuk Usaha Pempek” ya Grameds.', 'Makanan Khas Indonesia yang Terkenal di Dunia\\n\\n11.', 'Gudeg\\n\\nPernah mampir ke Kota Yogyakarta?', 'Pastinya Gudeg adalah kuliner yang tak boleh untuk dilewatkan jika berkunjung ke kota pelajar yang satu ini.', 'Gudeng merupakan makanan khas Yogyakarta yang terbuat dari nangka muda yang dimasak dengan santan dan daun jati selama berjam-jam hingga lembut dan bumbu meresap sempurna dan berwarna kemerahan.', 'Gudeg memiliki citasrasa manis dan sering disantap bersama kuah santan kental (areh), ayam kampung, telur, tahu tempe serta krecek.', 'Meskipun pada dasarnya bukan termasuk makanan yang tahan lama, gudeg dapat kita temukan dalam berbentuk kaleng agar bisa tahan lebih lama untuk dibawa ke luar kota.', 'Meskipun berbentuk kalengan, gudeg ini sama sekali tidak memakai pengawet.', 'Proses pengawetan dilakukan sesuai prosedur dengan cara disterilisasi untuk mematikan bakteri yang mempercepat pembusukan.', 'Saking terkenalnya, gudeg sudah diekspor ke negara tetangga seperti Malaysia dan Singapura.', 'Tentu saja dengan adanya gudeg kalengan ini bisa mengobati rasa rindu orang Indonesia yang tinggal di luar negri, dan memperkenalkan kuliner Indonesia di mancanegara.', 'BACA JUGA: Makanan Sehat yang Cocok untuk Golongan Darahmu\\n\\n12.', 'Bebek Betutu\\n\\nPulau Dewata sudah terkenal dengan pesona alamnya yang membius semua mata yang berkunjung ke sana.', 'Tak hanya alamnya, kulinernya pun sangat menggoda untuk dicicipi.', 'Salah satu kuliner andalan jika berkunjung ke Bali adalah bebek Betutu yang biasa kita temukan di Ubud.', 'Bebek Betutu adalah masakan kebanggan masyarakat Bali lho Grameds.', 'Oleh karena itu kita dapat dengan mudah menemukan restoran yang menyajikan olahan dari bebek ini.', 'Cara masak Bebek Betutu ini menggunakan bebek utuh yang dibungkus daun pisang, lalu dibungkus lagi dengan pelepah pinang hingga rapat.', 'Yang uniknya lagi adalah bebek tersebut ditanam dalam lubang di tanah dan ditutup dengan bara api selama 6 – 7 jam hingga daging bebek lunak dan empuk.', 'Betutu memiliki aroma yang harum dan cita rasa yang pedas.', 'Biasanya disajikan dengan sambal matah, kacang dan sayuran rebus.', 'Jika Grameds berkunjung ke Pulau Dewata, sempatkan diri untuk menjajal kuliner yang satu ini.', 'Tertarik membuat kuliner khas Bali ini sendiri?', 'Yuk intip resepnya Grameds.', '13.', 'Ayam Rica-Rica\\n\\nJika mendengar kata rica-rica sudah pasti teringat akan kuliner Manado yang terkenal akan rasa pedasnya.', 'Kata rica memiliki arti pedas.', 'Oleh karena itu bumbu utama dari sambal rica-rica adalah bawang merah, bawang putih, jahe, cabe merah dan cabe rawit.', 'Sambal rica tersebut dimasak bersama ayam, garam, dan daun aromatik agar rasanya lebih harum dan gurih.', 'Ayam rica sangat pas dinikmati bersama nasi putih sebagai lauk saat santap siang ya Grameds.', '14.', 'Cakalang Rica-Rica\\n\\nMasih sama dari daerah Sulawesi Utara, Cakalang rica-rica merupakan kuliner khas Manado yang terkenal akan kelezatannya.', 'Kuliner yang memiliki citarasa pedas ini terbuat dari ikan cakalang yang diasap hingga harum dan bertekstur kering.', 'Ikan cakalang tersebut disuwir, diberi perasan jeruk nipis dan dan garam, lalu ditumis bersama sambal rica.', 'Citarasa dari cakalang asap rica ini pedas, gurih dan aroma asap yang khas.', 'Tak heran jika cakalang asap rica ini cocok disantap bersama nasi dan kerupuk.', '15.', 'Woku Belanga\\n\\nWoku adalah bumbu makanan ala Manado yang terbuat dari berbagai macam bumbu khas Minahasa.', 'Bumbu khas ini dimasak dalam belanga, oleh karena itu terkenal dengan sebutan woku balanga.', 'Bumbu woku terdiri dari bawang merah, bawang putih, cabai rawit, tomat, kunyit, jahe, serai, daun pandan, daun jeruk, daun kemangi dan daun bawang.', 'Tak mengherankan jika woku memiliki aroma khas yang harum.', 'Woku bisa digunakan untuk membumbui ayam, ikan nila, kerapu, ikan mas, kepiting, hingga udang.', 'Cara memasaknya dimasukkan ke dalam belanga hingga matang dan berbau harum.', 'Woku sangat pas disantap bersama nasi putih dan kerupuk ya Grameds.', 'Jangan lupa tambahkan sambal jika kamu penyuka pedas.', 'Kalau kamu mau memodifikasi hidangan ini, kamu bisa membuat sendiri dengan mengintip buku “Hidangan Lezat Manado” yang satu ini.', 'Makanan Khas Indonesia yang Terkenal di Dunia\\n\\n16.', 'Sop Konro\\n\\nSup Konro adalah masakan yang terbuat dari iga sapi khas Makasar, Sulawesi Selatan.', 'Sup ini memiliki tekstur kuah yang kental berwarna coklat kehitaman.', 'Warna coklat kehitaman diperoleh dari buah kluwek dan rasa yang kuat karena penambahan ketumbar.', 'Citarasa Sup Konro cenderung gurih, pedas dengan aroma rempah yang cukup kuat.', 'Hal ini dikarenakan sup ini memakai rempah seperti ketumbar, pala, kunyit, kencur, kayu manis, asam, daun jeruk, cengkih dan salam.', 'Daging sapinya direbus hingga lunak dan empuk.', 'Seporsi sop konro cukup mengenyangkan lho Grameds.', 'Biasanya Sup ini disajikan bersama buras atau ketupat, namun kamu juga bisa menikmati dengan nasi putih.', 'Selain dibuat sup, Konro juga bisa dibakar hingga harum, dan disajikan dengan kuah terpisah.', '17.', 'Sate Ulat Sagu\\n\\nSate ulat?', 'Bagi sebagian orang, makanan khas Papua ini bisa membuat orang bergidik geli.', 'Tapi di Papua kuliner yang terbuat dari ulat sagu ini merupakan kuliner yang lazim untuk disantap karena rasanya yang lezat dan kaya protein.', 'Ulat sagu yang dimasak ini berasal dari pohon sagu yang dipotong batangnya lalu dibiarkan hingga membusuk hingga muncullah ulat berwarna putih.', 'Batang tersebut dibongkar dengan menggunakan kapak untuk mengeluarkan ulat sagu yang berwarna putih dan bertubuh kenyal ini.', 'Meskipun tampilannya cukup menjijikan, namun rasa ulat sagu ini sangat lezat lho Grameds.', 'Ulat sagu juga rendah kolestrol dan tinggi protein.', 'Ulat sagu bisa dimakan langsung, dibakar, hingga ditumis.', 'Bagi kamu yang suka makanan ekstrim, tiada salahnya mencoba kuliner dari bumi cendrawasih ini.', 'Karena keberasaan pohon sagu hanya ada di Indonesia timur, tentu saja kuliner ini tidak dapat kita temui di kota lain.', 'Itulah 17 makanan khas Indonesia yang sudah terkenal akan kelezatannya.', 'Ayo lestarikan kuliner nusantara, jangan lupa juga untuk menjajal skill memasakmu dengan aneka resep kuliner khas nusantara di sini.', 'Selamat mencoba, Grameds!', 'Rekomendasi Buku & Artikel Resep']\n"
          ]
        }
      ],
      "source": [
        "#Tokenization\n",
        "text = corpus\n",
        "sentence_list = nltk.sent_tokenize(text)\n",
        "\n",
        "print(sentence_list)"
      ]
    },
    {
      "cell_type": "markdown",
      "source": [
        "# Proses 3 (Bot Response)"
      ],
      "metadata": {
        "id": "LBjwKjbfJreu"
      }
    },
    {
      "cell_type": "code",
      "execution_count": null,
      "metadata": {
        "id": "lYvkaKOHiia2"
      },
      "outputs": [],
      "source": [
        "def greeting_response(text):\n",
        "    text = text.lower()\n",
        "    \n",
        "    bot_greetings = ['halo','hai','yuhuu','*eyebrows up*']\n",
        "    \n",
        "    user_greetings = ['Haloo','Eh iyaa Haii','Hai','greetings','wassup']\n",
        "    \n",
        "    for word in text.split():\n",
        "        if word in user_greetings:\n",
        "            return random.choice(bot_greetings)\n",
        "        \n",
        "    def gratitude_response(text):\n",
        "        text=text.lower()"
      ]
    },
    {
      "cell_type": "code",
      "execution_count": null,
      "metadata": {
        "id": "TZU6BZB3iia7"
      },
      "outputs": [],
      "source": [
        "def index_sort(list_var):\n",
        "    length = len(list_var)\n",
        "    list_index = list(range(0, length))\n",
        "    \n",
        "    x = list_var        \n",
        "    for i in range(length):\n",
        "        for j in range(length):\n",
        "            if x[list_index[i]] > x[list_index[j]]:\n",
        "                #swap\n",
        "                temp = list_index[i]\n",
        "                list_index[i] = list_index[j]\n",
        "                list_index[j] = temp\n",
        "                \n",
        "    return list_index"
      ]
    },
    {
      "cell_type": "code",
      "execution_count": null,
      "metadata": {
        "id": "jgD-wmTwiia7"
      },
      "outputs": [],
      "source": [
        "# Creat Bots Response\n",
        "def bot_response(user_input):\n",
        "    user_input=user_input.lower()\n",
        "    sentence_list.append(user_input)\n",
        "    bot_response= ''\n",
        "    cm=CountVectorizer().fit_transform(sentence_list)\n",
        "    similarity_scores=cosine_similarity(cm[-1],cm)\n",
        "    similarity_scores_list=similarity_scores.flatten()\n",
        "    index=index_sort(similarity_scores_list)\n",
        "    index=index[1:]\n",
        "    response_flag=0\n",
        "    \n",
        "    j=0\n",
        "    for i in range(len(index)):\n",
        "        if similarity_scores_list[index[i]]>0.0:\n",
        "            bot_response=bot_response+' '+sentence_list[index[i]]\n",
        "            response_flag=1\n",
        "            j=j+1\n",
        "        if j>2:\n",
        "            break\n",
        "\n",
        "        if response_flag==0:\n",
        "            bot_response=bot_response+\" \"+\"I apologize, I dont understand\"\n",
        "\n",
        "        sentence_list.remove(user_input) \n",
        "\n",
        "        return bot_response"
      ]
    },
    {
      "cell_type": "markdown",
      "metadata": {
        "id": "PVF_g7Xyiia8"
      },
      "source": [
        "# Proses 4 (End Process, Making chat box)"
      ]
    },
    {
      "cell_type": "code",
      "execution_count": null,
      "metadata": {
        "id": "knRbg2R0iia8",
        "colab": {
          "base_uri": "https://localhost:8080/",
          "height": 222
        },
        "outputId": "37d2b44c-e570-4ab2-cf69-280fbaa72fbb"
      },
      "outputs": [
        {
          "output_type": "stream",
          "name": "stdout",
          "text": [
            "Bot: ada yang ingin kamu tanyakan tentang makanan khas daerah di indonesia? :)\n",
            "manis\n",
            "Bot:  Kue berwarna kuning ini memiliki tekstur yang lembut dan manis.\n",
            "Kamu:\n",
            "\n"
          ]
        },
        {
          "output_type": "display_data",
          "data": {
            "text/plain": [
              "<IPython.lib.display.Audio object>"
            ],
            "text/html": [
              "\n",
              "                <audio controls=\"controls\" autoplay=\"autoplay\">\n",
              "                    <source src=\"data:audio/x-wav;base64,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\" type=\"audio/x-wav\" />\n",
              "                    Your browser does not support the audio element.\n",
              "                </audio>\n",
              "              "
            ]
          },
          "metadata": {}
        },
        {
          "output_type": "stream",
          "name": "stdout",
          "text": [
            "============================================================\n",
            "\n"
          ]
        }
      ],
      "source": [
        "#Start chat\n",
        "print(\"Bot: ada yang ingin kamu tanyakan tentang makanan khas daerah di indonesia? :)\")\n",
        "\n",
        "exit_list=['exit','bye','keluar','quit', 'sampai jumpa']\n",
        "\n",
        "while(True):\n",
        "    user_input=input()\n",
        "    if user_input.lower() in exit_list:\n",
        "        print('Bot: Bye Bye Sampai jumpa lagi')\n",
        "        break\n",
        "    else:\n",
        "        if greeting_response(user_input)!= None:\n",
        "            print('Bot: '+ greeting_response(user_input))\n",
        "            \n",
        "        else:\n",
        "            print('Bot: '+ bot_response(user_input))\n",
        "            tts = gTTS(bot_response(user_input), lang='id')\n",
        "            tts.save('mantap.wav')\n",
        "            time.sleep(0.08)\n",
        "            print(\"Kamu:\\n\")\n",
        "            ipd.display(ipd.Audio('mantap.wav', autoplay=True))\n",
        "            \n",
        "            print(\"=\"*60 + \"\\n\")"
      ]
    },
    {
      "cell_type": "markdown",
      "source": [
        "##KESIMPULAN"
      ],
      "metadata": {
        "id": "nFjEnO8kLtxr"
      }
    },
    {
      "cell_type": "markdown",
      "source": [
        "Hasil output audio maupun teks berdasarkan dari teknis Cosine Similarity dimana teknis ini menghitung kata yang mirip dan cocok dengan yang diinput oleh user kedalam codingan."
      ],
      "metadata": {
        "id": "rS0RFvK0L2Sy"
      }
    }
  ],
  "metadata": {
    "accelerator": "GPU",
    "colab": {
      "collapsed_sections": [],
      "name": "MINI PROJECT NLP KELOMPOK SACRIFICE-ENIGMA.ipynb",
      "provenance": [],
      "include_colab_link": true
    },
    "kernelspec": {
      "display_name": "Python 3",
      "language": "python",
      "name": "python3"
    },
    "language_info": {
      "codemirror_mode": {
        "name": "ipython",
        "version": 3
      },
      "file_extension": ".py",
      "mimetype": "text/x-python",
      "name": "python",
      "nbconvert_exporter": "python",
      "pygments_lexer": "ipython3",
      "version": "3.8.8"
    }
  },
  "nbformat": 4,
  "nbformat_minor": 0
}