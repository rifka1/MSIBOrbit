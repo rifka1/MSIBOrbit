{
  "nbformat": 4,
  "nbformat_minor": 0,
  "metadata": {
    "colab": {
      "name": "Exercise Bangun Datar dan Bangun Ruang Rifka Fariyanti 1915031027.ipynb",
      "provenance": [],
      "collapsed_sections": [],
      "mount_file_id": "1r5ztQ3jpkZYL1uqzBqUlyrj0al2tMLm4",
      "authorship_tag": "ABX9TyMAgAau0JWnj4aA0u2Th9ZY",
      "include_colab_link": true
    },
    "kernelspec": {
      "name": "python3",
      "display_name": "Python 3"
    },
    "language_info": {
      "name": "python"
    }
  },
  "cells": [
    {
      "cell_type": "markdown",
      "metadata": {
        "id": "view-in-github",
        "colab_type": "text"
      },
      "source": [
        "<a href=\"https://colab.research.google.com/github/rifka1/MSIBOrbit/blob/main/Exercise_Bangun_Datar_dan_Bangun_Ruang_Rifka_Fariyanti_1915031027.ipynb\" target=\"_parent\"><img src=\"https://colab.research.google.com/assets/colab-badge.svg\" alt=\"Open In Colab\"/></a>"
      ]
    },
    {
      "cell_type": "markdown",
      "source": [
        "###EXERCISE BANGUN DATAR DAN BANGUN RUANG\n",
        "\n",
        "Nama: Rifka Fariyanti\n",
        "\n",
        "NPM: 1915031027\n",
        "\n",
        "Jurusan: Teknik Elektro"
      ],
      "metadata": {
        "id": "qWvNZINg0JuG"
      }
    },
    {
      "cell_type": "markdown",
      "source": [
        "<b>Bangun Datar</b>"
      ],
      "metadata": {
        "id": "P_KNn2t6GEHd"
      }
    },
    {
      "cell_type": "code",
      "source": [
        "#Persegi\n",
        "sisi= int(input(\"Masukkan sisi\\t: \"))     #sisi persegi\n",
        "\n",
        "luas = sisi**2\n",
        "keliling = 4*sisi\n",
        "\n",
        "print(\"\\n\")\n",
        "print(\"Maka, \")\n",
        "print(\"Luas Persegi\\t\\t = \", luas)\n",
        "print(\"Keliling Persegi\\t = \", keliling)"
      ],
      "metadata": {
        "colab": {
          "base_uri": "https://localhost:8080/"
        },
        "id": "vGqxLB1c0gc3",
        "outputId": "6ca25c89-4960-4b9d-b9be-c77b45889323"
      },
      "execution_count": null,
      "outputs": [
        {
          "output_type": "stream",
          "name": "stdout",
          "text": [
            "Masukkan sisi\t: 2\n",
            "\n",
            "\n",
            "Maka, \n",
            "Luas Persegi\t\t =  4\n",
            "Keliling Persegi\t =  8\n"
          ]
        }
      ]
    },
    {
      "cell_type": "code",
      "source": [
        "#Persegi Panjang\n",
        "panjang= int(input(\"Masukkan panjang\\t: \"))     #panjang pergesi panjang\n",
        "lebar= int(input(\"Masukkan lebar\\t\\t: \"))       #lebar persegi panjang\n",
        "\n",
        "luas= panjang*lebar\n",
        "keliling= 2*(panjang+lebar)\n",
        "\n",
        "print(\"\\n\")\n",
        "print(\"Maka, \")\n",
        "print(\"luas Persegi Panjang\\t\\t = \", luas)\n",
        "print(\"keliling Persegi Panjang\\t = \", keliling)"
      ],
      "metadata": {
        "colab": {
          "base_uri": "https://localhost:8080/"
        },
        "id": "btqVu6QZ4pn7",
        "outputId": "84fd74d9-f6d7-4db3-cc39-7f9a0306d242"
      },
      "execution_count": null,
      "outputs": [
        {
          "output_type": "stream",
          "name": "stdout",
          "text": [
            "Masukkan panjang\t: 2\n",
            "Masukkan lebar\t\t: 2\n",
            "\n",
            "\n",
            "Maka, \n",
            "luas Persegi Panjang\t\t =  4\n",
            "keliling Persegi Panjang\t =  8\n"
          ]
        }
      ]
    },
    {
      "cell_type": "code",
      "source": [
        "#Jajar Genjang\n",
        "sisi_a= int(input(\"Masukkan sisi_a\\t: \"))       #merupakan sisi panjang\n",
        "sisi_b= int(input(\"Masukkan sisi_b\\t: \"))       #merupakan sisi lebar(miring)\n",
        "tinggi= int(input(\"Masukkan tinggi\\t: \"))       #meruapakan tinggi jajar genjang\n",
        "\n",
        "luas= sisi_a*tinggi\n",
        "keliling= 2*(sisi_a+sisi_b)\n",
        "\n",
        "print(\"\\n\")\n",
        "print(\"Maka, \")\n",
        "print(\"Luas Jajar Genjang\\t = \", luas)\n",
        "print(\"Keliling Jajar Genjang\\t = \", keliling)"
      ],
      "metadata": {
        "colab": {
          "base_uri": "https://localhost:8080/"
        },
        "id": "W6P8BWw_9iVH",
        "outputId": "78ec5b65-e3d0-4729-e831-cb81aec14c69"
      },
      "execution_count": null,
      "outputs": [
        {
          "output_type": "stream",
          "name": "stdout",
          "text": [
            "Masukkan sisi_a\t: 2\n",
            "Masukkan sisi_b\t: 2\n",
            "Masukkan tinggi\t: 2\n",
            "\n",
            "\n",
            "Maka, \n",
            "Luas Jajar Genjang\t =  4\n",
            "Keliling Jajar Genjang\t =  8\n"
          ]
        }
      ]
    },
    {
      "cell_type": "code",
      "source": [
        "#Trapesium\n",
        "sisi_a= int(input(\"Masukkan sisi_a\\t: \"))     #sisi_a merupakan sisi sejajar\n",
        "sisi_b= int(input(\"Masukkan sisi_b\\t: \"))     #sisi_b merupakan sisi sejajar\n",
        "sisi_c= int(input(\"Masukkan sisi_c\\t: \"))     #sisi_c merupakan sisi miring\n",
        "sisi_d= int(input(\"Masukkan sisi_d\\t: \"))     #sisi_d merupakan sisi miring\n",
        "tinggi= float(input(\"Masukkan tinggi\\t: \"))\n",
        "\n",
        "luas= 1/2*(sisi_a+sisi_b)*tinggi\n",
        "keliling= sisi_a+sisi_b+sisi_c+sisi_d\n",
        "\n",
        "print(\"\\n\")\n",
        "print(\"Maka, \")\n",
        "print(\"Luas Trapesium\\t\\t = \", luas)\n",
        "print(\"Keliling Trapesium\\t = \", keliling)"
      ],
      "metadata": {
        "colab": {
          "base_uri": "https://localhost:8080/"
        },
        "id": "l4S9UO8M_viT",
        "outputId": "258a40aa-a7ea-4850-ce55-070ca562f261"
      },
      "execution_count": null,
      "outputs": [
        {
          "output_type": "stream",
          "name": "stdout",
          "text": [
            "Masukkan sisi_a\t: 2\n",
            "Masukkan sisi_b\t: 2\n",
            "Masukkan sisi_c\t: 2\n",
            "Masukkan sisi_d\t: 2\n",
            "Masukkan tinggi\t: 2\n",
            "\n",
            "\n",
            "Maka, \n",
            "Luas Trapesium\t\t =  4.0\n",
            "Keliling Trapesium\t =  8\n"
          ]
        }
      ]
    },
    {
      "cell_type": "code",
      "source": [
        "#Layang-layang\n",
        "sisi_a= int(input(\"Masukkan sisi_a\\t\\t: \"))  #sisi_a layang-layang\n",
        "sisi_b= int(input(\"Masukkan sisi_b\\t\\t: \"))  #sisi_b layang-layang\n",
        "d1= int(input(\"Masukkan diagonal1\\t: \"))     #diagonal1\n",
        "d2= int(input(\"Masukkan diagonal2\\t: \"))     #diagonal2\n",
        "\n",
        "luas= 1/2*d1*d2\n",
        "keliling= 2*(sisi_a+sisi_b)\n",
        "\n",
        "print(\"\\n\")\n",
        "print(\"Maka, \")\n",
        "print(\"Luas Layang-layang\\t = \", luas)\n",
        "print(\"Keliling Layang-layang\\t = \", keliling)"
      ],
      "metadata": {
        "colab": {
          "base_uri": "https://localhost:8080/"
        },
        "id": "zjCQIyWpBTuM",
        "outputId": "8fa3d422-0e43-4e69-8ed3-9e8afc2904e9"
      },
      "execution_count": null,
      "outputs": [
        {
          "output_type": "stream",
          "name": "stdout",
          "text": [
            "Masukkan sisi_a\t\t: 2\n",
            "Masukkan sisi_b\t\t: 2\n",
            "Masukkan diagonal1\t: 2\n",
            "Masukkan diagonal2\t: 2\n",
            "\n",
            "\n",
            "Maka, \n",
            "Luas Layang-layang\t =  2.0\n",
            "Keliling Layang-layang\t =  8\n"
          ]
        }
      ]
    },
    {
      "cell_type": "code",
      "source": [
        "#Belah Ketupat\n",
        "sisi= int(input(\"Masukkan sisi\\t\\t: \"))     #sisi belah ketupat\n",
        "d1= int(input(\"Masukkan diagonal1\\t: \"))    #diagonal1\n",
        "d2= int(input(\"Masukkan diagonal2\\t: \"))    #diagonal2\n",
        "\n",
        "luas= 1/2*d1*d2\n",
        "keliling= 4*sisi\n",
        "\n",
        "print(\"\\n\")\n",
        "print(\"Maka, \")\n",
        "print(\"Luas Belah Ketupat\\t = \", luas)\n",
        "print(\"Keliling Belah Ketupat\\t = \", keliling)"
      ],
      "metadata": {
        "colab": {
          "base_uri": "https://localhost:8080/"
        },
        "id": "PLrfcB3yCdw5",
        "outputId": "98c2ca67-f400-4437-946a-f6ac8fe47773"
      },
      "execution_count": null,
      "outputs": [
        {
          "output_type": "stream",
          "name": "stdout",
          "text": [
            "Masukkan sisi\t\t: 2\n",
            "Masukkan diagonal1\t: 2\n",
            "Masukkan diagonal2\t: 2\n",
            "\n",
            "\n",
            "Maka, \n",
            "Luas Belah Ketupat\t =  2.0\n",
            "Keliling Belah Ketupat\t =  8\n"
          ]
        }
      ]
    },
    {
      "cell_type": "code",
      "source": [
        "#Segitiga\n",
        "sisi_a= int(input(\"Masukkan sisi_a\\t: \"))     #sisi_a segitiga\n",
        "sisi_b= int(input(\"Masukkan sisi_b\\t: \"))     #sisi_b segitiga\n",
        "sisi_c= int(input(\"Masukkan sisi_c\\t: \"))     #sisi_c segitiga\n",
        "tinggi= float(input(\"Masukkan tinggi\\t: \"))   #tinggi segitiga\n",
        "\n",
        "luas= 1/2*sisi_a*tinggi\n",
        "keliling= sisi_a+sisi_b+sisi_c\n",
        "\n",
        "print(\"\\n\")\n",
        "print(\"Maka, \")\n",
        "print(\"Luas Segitiga\\t\\t = \", luas)\n",
        "print(\"Keliling Segitiga\\t = \", keliling)"
      ],
      "metadata": {
        "colab": {
          "base_uri": "https://localhost:8080/"
        },
        "id": "d9GKqswYDN9h",
        "outputId": "7e65aad0-ffba-4730-b7d8-7032798cf310"
      },
      "execution_count": null,
      "outputs": [
        {
          "output_type": "stream",
          "name": "stdout",
          "text": [
            "Masukkan sisi_a\t: 2\n",
            "Masukkan sisi_b\t: 2\n",
            "Masukkan sisi_c\t: 2\n",
            "Masukkan tinggi\t: 2\n",
            "\n",
            "\n",
            "Maka, \n",
            "luas\t\t =  2.0\n",
            "keliling\t =  6\n"
          ]
        }
      ]
    },
    {
      "cell_type": "code",
      "source": [
        "#Lingkaran\n",
        "phi = 3.14\n",
        "r= int(input(\"Masukkan jari-jari\\t: \"))       #jari-jari\n",
        "\n",
        "luas= phi*r*r\n",
        "keliling= 2*phi*r\n",
        "\n",
        "print(\"Luas Lingkaran\\t\\t = \", luas)\n",
        "print(\"Keliling Lingkaran\\t = \", keliling)"
      ],
      "metadata": {
        "colab": {
          "base_uri": "https://localhost:8080/"
        },
        "id": "vFH13RPsE69Q",
        "outputId": "5b4750f3-186d-4c60-e320-d889444e4343"
      },
      "execution_count": null,
      "outputs": [
        {
          "output_type": "stream",
          "name": "stdout",
          "text": [
            "Masukkan jari-jari\t: 2\n",
            "Luas Lingkaran\t\t =  12.56\n",
            "Keliling Lingkaran\t =  12.56\n"
          ]
        }
      ]
    },
    {
      "cell_type": "markdown",
      "source": [
        "<b>Bangun Ruang</b>"
      ],
      "metadata": {
        "id": "W3shP10RGQec"
      }
    },
    {
      "cell_type": "code",
      "source": [
        "#Kubus\n",
        "r= int(input(\"Masukkan panjang rusuk\\t: \"))     #panjang rusuk\n",
        "\n",
        "luas= 6*r*r\n",
        "volume= r*r*r\n",
        "\n",
        "print(\"\\n\")\n",
        "print(\"Luas Kubus\\t = \", luas)\n",
        "print(\"Volume Kubus\\t = \", volume)"
      ],
      "metadata": {
        "colab": {
          "base_uri": "https://localhost:8080/"
        },
        "id": "lMeQOSPeGTpO",
        "outputId": "9de4ebcf-c759-4040-a47b-bf29fe8df8fe"
      },
      "execution_count": null,
      "outputs": [
        {
          "output_type": "stream",
          "name": "stdout",
          "text": [
            "Masukkan panjang rusuk\t: 2\n",
            "\n",
            "\n",
            "Luas Kubus\t =  24\n",
            "Volume Kubus\t =  8\n"
          ]
        }
      ]
    },
    {
      "cell_type": "code",
      "source": [
        "#Balok\n",
        "p= int(input(\"Masukkan panjang\\t: \"))     #panjang\n",
        "l= int(input(\"Masukkan lebar\\t\\t: \"))     #lebar\n",
        "t= int(input(\"Masukkan tinggi\\t\\t: \"))    #tinggi\n",
        "\n",
        "luas= 2*((p*l)+(p*t)+(l*t))\n",
        "volume= p*l*t\n",
        "\n",
        "print(\"\\n\")\n",
        "print(\"Maka, \")\n",
        "print(\"Luas Balok\\t = \", luas)\n",
        "print(\"Volume Balok\\t = \", volume)"
      ],
      "metadata": {
        "colab": {
          "base_uri": "https://localhost:8080/"
        },
        "id": "LyK9A7A0G6Tr",
        "outputId": "c9cd4e5a-722a-4b68-e977-0728572d8cf4"
      },
      "execution_count": null,
      "outputs": [
        {
          "output_type": "stream",
          "name": "stdout",
          "text": [
            "Masukkan panjang\t: 2\n",
            "Masukkan lebar\t\t: 2\n",
            "Masukkan tinggi\t\t: 2\n",
            "\n",
            "\n",
            "Maka, \n",
            "Luas Balok\t =  24\n",
            "Volume Balok\t =  8\n"
          ]
        }
      ]
    },
    {
      "cell_type": "code",
      "source": [
        "#Prisma\n",
        "sisi_a= int(input(\"Masukkan sisi_a\\t: \"))   #sisi_a prisma\n",
        "sisi_b= int(input(\"Masukkan sisi_b\\t: \"))   #sisi_b prisma\n",
        "sisi_c= int(input(\"Masukkan sisi_c\\t: \"))   #sisi_c prisma\n",
        "t= int(input(\"Masukkan tinggi\\t: \"))        #tinggi\n",
        "\n",
        "La= 1/2*sisi_a*t                            #luas alas\n",
        "Ka= sisi_a+sisi_b+sisi_c                    #keliling alas\n",
        "\n",
        "print(\"\\n\")\n",
        "print(\"Luas alas prisma\\t = \", La)\n",
        "print(\"Keliling alas prisma\\t = \", Ka)\n",
        "\n",
        "luas= Ka*t+(2*La)\n",
        "volume= La*t\n",
        "\n",
        "print(\"\\n\")\n",
        "print(\"Luas Prisma\\t\\t = \", luas)\n",
        "print(\"Volume Prisma\\t\\t = \", volume)"
      ],
      "metadata": {
        "colab": {
          "base_uri": "https://localhost:8080/"
        },
        "id": "wJMm9hOzHnvI",
        "outputId": "c3d204e7-6d68-4b40-cdf2-d47cb7adb744"
      },
      "execution_count": null,
      "outputs": [
        {
          "output_type": "stream",
          "name": "stdout",
          "text": [
            "Masukkan sisi_a\t: 2\n",
            "Masukkan sisi_b\t: 2\n",
            "Masukkan sisi_c\t: 2\n",
            "Masukkan tinggi\t: 2\n",
            "\n",
            "\n",
            "Luas alas prisma\t =  2.0\n",
            "Keliling alas prisma\t =  6\n",
            "\n",
            "\n",
            "Luas Prisma\t\t =  16.0\n",
            "Volume Prisma\t\t =  4.0\n"
          ]
        }
      ]
    },
    {
      "cell_type": "code",
      "source": [
        "#Limas Segi Empat\n",
        "s= int(input(\"Masukkan sisi\\t: \"))        #sisi alas\n",
        "t= int(input(\"Masukkan tinggi\\t: \"))      #tinggi\n",
        "a= int(input(\"Masukkan alas\\t: \"))        #alas\n",
        "\n",
        "La= s*s                                   #luas alas limas\n",
        "Lt= 4*(1/2*a*t)                           #luas sisi tegas/sisi miring limas\n",
        "\n",
        "print(\"\\n\")\n",
        "print(\"Luas alas limas\\t\\t = \", La)\n",
        "print(\"Luas sisi miring limas\\t = \", Lt)\n",
        "\n",
        "luas= La+Lt\n",
        "volume= 1/3*La*t\n",
        "\n",
        "print(\"\\n\")\n",
        "print(\"Maka, \")\n",
        "print(\"Luas Limas Segi Empat\\t = \", luas)\n",
        "print(\"Volume Limas Segi Empat\\t = \", volume)"
      ],
      "metadata": {
        "colab": {
          "base_uri": "https://localhost:8080/"
        },
        "id": "PFORLOGRKlpF",
        "outputId": "c15c6440-31dd-4d9c-b425-5841ff0fb39c"
      },
      "execution_count": null,
      "outputs": [
        {
          "output_type": "stream",
          "name": "stdout",
          "text": [
            "Masukkan sisi\t: 2\n",
            "Masukkan tinggi\t: 2\n",
            "Masukkan alas\t: 2\n",
            "\n",
            "\n",
            "Luas alas limas\t\t =  4\n",
            "Luas sisi miring limas\t =  8.0\n",
            "\n",
            "\n",
            "Maka, \n",
            "Luas Limas Segi Empat\t =  12.0\n",
            "Volume Limas Segi Empat\t =  2.6666666666666665\n"
          ]
        }
      ]
    },
    {
      "cell_type": "code",
      "source": [
        "#Tabung\n",
        "phi= 3.14\n",
        "r= int(input(\"Masukkan jari-jari\\t: \"))         #jari-jari\n",
        "t= int(input(\"Masukkan tinggi\\t\\t: \"))          #tinggi\n",
        "\n",
        "luas= 2*phi*r*(t+r)\n",
        "volume= phi*r*r*t\n",
        "\n",
        "print(\"\\n\")\n",
        "print(\"Maka, \")\n",
        "print(\"Luas Tabung\\t\\t = \", luas)\n",
        "print(\"Volume Tabung\\t\\t = \", volume)"
      ],
      "metadata": {
        "colab": {
          "base_uri": "https://localhost:8080/"
        },
        "id": "nfx9kMjukKK6",
        "outputId": "a18dbdff-70b0-40bb-fedc-085ac604c539"
      },
      "execution_count": null,
      "outputs": [
        {
          "output_type": "stream",
          "name": "stdout",
          "text": [
            "Masukkan jari-jari\t: 2\n",
            "Masukkan tinggi\t\t: 2\n",
            "\n",
            "\n",
            "Maka, \n",
            "Luas Tabung\t\t =  50.24\n",
            "Volume Tabung\t\t =  25.12\n"
          ]
        }
      ]
    },
    {
      "cell_type": "code",
      "source": [
        "#Kerucut\n",
        "phi= 3.14\n",
        "r= int(input(\"Masukkan jari-jari\\t: \"))           #jari-jari\n",
        "s= int(input(\"Masukkan garis pelukis\\t: \"))       #garis pelukis\n",
        "t= int(input(\"Masukkan tinggi\\t\\t: \"))            #tinggi\n",
        "\n",
        "luas= phi*r*(r+s)\n",
        "volume= 1/2*phi*r*r*t\n",
        "\n",
        "print(\"\\n\")\n",
        "print(\"Maka, \")\n",
        "print(\"Luas Kerucut\\t = \", luas)\n",
        "print(\"Volume Kerucut\\t = \", volume)"
      ],
      "metadata": {
        "colab": {
          "base_uri": "https://localhost:8080/"
        },
        "id": "Bf1c1uw2lTG8",
        "outputId": "0252a613-1ac8-41a1-d83e-01db25c6ed33"
      },
      "execution_count": null,
      "outputs": [
        {
          "output_type": "stream",
          "name": "stdout",
          "text": [
            "Masukkan jari-jari\t: 2\n",
            "Masukkan garis pelukis\t: 2\n",
            "Masukkan tinggi\t\t: 2\n",
            "\n",
            "\n",
            "Maka, \n",
            "Luas Kerucut\t =  25.12\n",
            "Volume Kerucut\t =  12.56\n"
          ]
        }
      ]
    },
    {
      "cell_type": "code",
      "source": [
        "#Bola\n",
        "phi= 3.14\n",
        "r= int(input(\"Masukkan jari-jari\\t: \"))       #jari-jari\n",
        "\n",
        "luas= 4*phi*r*r\n",
        "volume= 4/3*phi*r*r*r\n",
        "\n",
        "print(\"\\n\")\n",
        "print(\"Maka, \")\n",
        "print(\"Luas Bola\\t = \", luas)\n",
        "print(\"Volume Bola\\t = \", volume)"
      ],
      "metadata": {
        "colab": {
          "base_uri": "https://localhost:8080/"
        },
        "id": "o1kFqWiFmC8A",
        "outputId": "2d125cab-3986-4a11-eb6e-664b4381e30d"
      },
      "execution_count": null,
      "outputs": [
        {
          "output_type": "stream",
          "name": "stdout",
          "text": [
            "Masukkan jari-jari\t: 2\n",
            "\n",
            "\n",
            "Maka, \n",
            "Luas Bola\t =  50.24\n",
            "Volume Bola\t =  33.49333333333333\n"
          ]
        }
      ]
    }
  ]
}