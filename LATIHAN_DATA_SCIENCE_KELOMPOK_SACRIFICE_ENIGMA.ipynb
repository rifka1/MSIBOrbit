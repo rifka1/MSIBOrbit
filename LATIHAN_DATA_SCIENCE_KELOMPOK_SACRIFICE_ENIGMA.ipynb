{
  "cells": [
    {
      "cell_type": "markdown",
      "metadata": {
        "id": "view-in-github",
        "colab_type": "text"
      },
      "source": [
        "<a href=\"https://colab.research.google.com/github/rifka1/MSIBOrbit/blob/main/LATIHAN_DATA_SCIENCE_KELOMPOK_SACRIFICE_ENIGMA.ipynb\" target=\"_parent\"><img src=\"https://colab.research.google.com/assets/colab-badge.svg\" alt=\"Open In Colab\"/></a>"
      ]
    },
    {
      "cell_type": "markdown",
      "metadata": {
        "id": "j3BbtA9KoJNw"
      },
      "source": [
        "# **KELAS ENIGMA**\n",
        "**KELOMPOK 2**\n",
        "1. Tyas Ismayanti\n",
        "2. Ghina Alyaa Nabillah\n",
        "3. Dimas Danu\n",
        "4. Boy Sitanggang\n",
        "5. Rifka Fariyanti\n",
        "6. Presillia Sianturi"
      ]
    },
    {
      "cell_type": "markdown",
      "metadata": {
        "id": "xQ6Dr8TMZRJK"
      },
      "source": [
        "**TUGAS KELOMPOK**\n",
        "\n",
        "LATIHAN 1: \n",
        "Membuat model data reduction dengan menggunakan PCA (Principle Componen Analysis), dengan ketentuan sebagai berikut:\n",
        "1. Buatlah dataFrame dengan jumlah fiture 15 \n",
        "2. Generate dataFrame dengan bilangan float secara random antara 0 dan 1, serta buat n_component berjumlah 2.\n",
        "3. Membuat Label A, B, C dan D (masing-masing jumlah 150 data), kemudian lanjutkan proses reduksi data model PCA sampai dengan visualisasi data dalam bentuk plot\n"
      ]
    },
    {
      "cell_type": "code",
      "execution_count": null,
      "metadata": {
        "colab": {
          "base_uri": "https://localhost:8080/",
          "height": 206
        },
        "id": "j2UMOTS4ZGp-",
        "outputId": "bccdb0e7-3da5-4cbe-d96f-83f886a35982"
      },
      "outputs": [
        {
          "output_type": "execute_result",
          "data": {
            "text/plain": [
              "   feature_1  feature_2  feature_3  feature_4  feature_5  feature_6  \\\n",
              "0   0.607080   0.698318   0.807207   0.823028   0.980180   0.767808   \n",
              "1   0.604800   0.322754   0.604766   0.756464   0.190015   0.988398   \n",
              "2   0.358587   0.154182   0.268688   0.517144   0.185250   0.327608   \n",
              "3   0.108205   0.071972   0.063809   0.850925   0.479371   0.092320   \n",
              "4   0.345771   0.650206   0.920920   0.227340   0.417723   0.460942   \n",
              "\n",
              "   feature_7  feature_8  feature_9  feature_10  feature_11  feature_12  \\\n",
              "0   0.907159   0.780157   0.764720    0.631428    0.130723    0.662936   \n",
              "1   0.943103   0.451233   0.916650    0.777679    0.431852    0.264314   \n",
              "2   0.224768   0.505045   0.625010    0.211701    0.800061    0.375896   \n",
              "3   0.211721   0.186926   0.393778    0.970365    0.496095    0.466193   \n",
              "4   0.391901   0.570779   0.741472    0.471409    0.372377    0.563024   \n",
              "\n",
              "   feature_13  feature_14  feature_15 label  \n",
              "0    0.209279    0.189890    0.127528     B  \n",
              "1    0.167993    0.827753    0.286265     B  \n",
              "2    0.141282    0.785261    0.858153     D  \n",
              "3    0.390659    0.476238    0.658180     A  \n",
              "4    0.836023    0.962864    0.599562     A  "
            ],
            "text/html": [
              "\n",
              "  <div id=\"df-f20c9236-d51b-41b8-ad2a-b4fdb796a057\">\n",
              "    <div class=\"colab-df-container\">\n",
              "      <div>\n",
              "<style scoped>\n",
              "    .dataframe tbody tr th:only-of-type {\n",
              "        vertical-align: middle;\n",
              "    }\n",
              "\n",
              "    .dataframe tbody tr th {\n",
              "        vertical-align: top;\n",
              "    }\n",
              "\n",
              "    .dataframe thead th {\n",
              "        text-align: right;\n",
              "    }\n",
              "</style>\n",
              "<table border=\"1\" class=\"dataframe\">\n",
              "  <thead>\n",
              "    <tr style=\"text-align: right;\">\n",
              "      <th></th>\n",
              "      <th>feature_1</th>\n",
              "      <th>feature_2</th>\n",
              "      <th>feature_3</th>\n",
              "      <th>feature_4</th>\n",
              "      <th>feature_5</th>\n",
              "      <th>feature_6</th>\n",
              "      <th>feature_7</th>\n",
              "      <th>feature_8</th>\n",
              "      <th>feature_9</th>\n",
              "      <th>feature_10</th>\n",
              "      <th>feature_11</th>\n",
              "      <th>feature_12</th>\n",
              "      <th>feature_13</th>\n",
              "      <th>feature_14</th>\n",
              "      <th>feature_15</th>\n",
              "      <th>label</th>\n",
              "    </tr>\n",
              "  </thead>\n",
              "  <tbody>\n",
              "    <tr>\n",
              "      <th>0</th>\n",
              "      <td>0.607080</td>\n",
              "      <td>0.698318</td>\n",
              "      <td>0.807207</td>\n",
              "      <td>0.823028</td>\n",
              "      <td>0.980180</td>\n",
              "      <td>0.767808</td>\n",
              "      <td>0.907159</td>\n",
              "      <td>0.780157</td>\n",
              "      <td>0.764720</td>\n",
              "      <td>0.631428</td>\n",
              "      <td>0.130723</td>\n",
              "      <td>0.662936</td>\n",
              "      <td>0.209279</td>\n",
              "      <td>0.189890</td>\n",
              "      <td>0.127528</td>\n",
              "      <td>B</td>\n",
              "    </tr>\n",
              "    <tr>\n",
              "      <th>1</th>\n",
              "      <td>0.604800</td>\n",
              "      <td>0.322754</td>\n",
              "      <td>0.604766</td>\n",
              "      <td>0.756464</td>\n",
              "      <td>0.190015</td>\n",
              "      <td>0.988398</td>\n",
              "      <td>0.943103</td>\n",
              "      <td>0.451233</td>\n",
              "      <td>0.916650</td>\n",
              "      <td>0.777679</td>\n",
              "      <td>0.431852</td>\n",
              "      <td>0.264314</td>\n",
              "      <td>0.167993</td>\n",
              "      <td>0.827753</td>\n",
              "      <td>0.286265</td>\n",
              "      <td>B</td>\n",
              "    </tr>\n",
              "    <tr>\n",
              "      <th>2</th>\n",
              "      <td>0.358587</td>\n",
              "      <td>0.154182</td>\n",
              "      <td>0.268688</td>\n",
              "      <td>0.517144</td>\n",
              "      <td>0.185250</td>\n",
              "      <td>0.327608</td>\n",
              "      <td>0.224768</td>\n",
              "      <td>0.505045</td>\n",
              "      <td>0.625010</td>\n",
              "      <td>0.211701</td>\n",
              "      <td>0.800061</td>\n",
              "      <td>0.375896</td>\n",
              "      <td>0.141282</td>\n",
              "      <td>0.785261</td>\n",
              "      <td>0.858153</td>\n",
              "      <td>D</td>\n",
              "    </tr>\n",
              "    <tr>\n",
              "      <th>3</th>\n",
              "      <td>0.108205</td>\n",
              "      <td>0.071972</td>\n",
              "      <td>0.063809</td>\n",
              "      <td>0.850925</td>\n",
              "      <td>0.479371</td>\n",
              "      <td>0.092320</td>\n",
              "      <td>0.211721</td>\n",
              "      <td>0.186926</td>\n",
              "      <td>0.393778</td>\n",
              "      <td>0.970365</td>\n",
              "      <td>0.496095</td>\n",
              "      <td>0.466193</td>\n",
              "      <td>0.390659</td>\n",
              "      <td>0.476238</td>\n",
              "      <td>0.658180</td>\n",
              "      <td>A</td>\n",
              "    </tr>\n",
              "    <tr>\n",
              "      <th>4</th>\n",
              "      <td>0.345771</td>\n",
              "      <td>0.650206</td>\n",
              "      <td>0.920920</td>\n",
              "      <td>0.227340</td>\n",
              "      <td>0.417723</td>\n",
              "      <td>0.460942</td>\n",
              "      <td>0.391901</td>\n",
              "      <td>0.570779</td>\n",
              "      <td>0.741472</td>\n",
              "      <td>0.471409</td>\n",
              "      <td>0.372377</td>\n",
              "      <td>0.563024</td>\n",
              "      <td>0.836023</td>\n",
              "      <td>0.962864</td>\n",
              "      <td>0.599562</td>\n",
              "      <td>A</td>\n",
              "    </tr>\n",
              "  </tbody>\n",
              "</table>\n",
              "</div>\n",
              "      <button class=\"colab-df-convert\" onclick=\"convertToInteractive('df-f20c9236-d51b-41b8-ad2a-b4fdb796a057')\"\n",
              "              title=\"Convert this dataframe to an interactive table.\"\n",
              "              style=\"display:none;\">\n",
              "        \n",
              "  <svg xmlns=\"http://www.w3.org/2000/svg\" height=\"24px\"viewBox=\"0 0 24 24\"\n",
              "       width=\"24px\">\n",
              "    <path d=\"M0 0h24v24H0V0z\" fill=\"none\"/>\n",
              "    <path d=\"M18.56 5.44l.94 2.06.94-2.06 2.06-.94-2.06-.94-.94-2.06-.94 2.06-2.06.94zm-11 1L8.5 8.5l.94-2.06 2.06-.94-2.06-.94L8.5 2.5l-.94 2.06-2.06.94zm10 10l.94 2.06.94-2.06 2.06-.94-2.06-.94-.94-2.06-.94 2.06-2.06.94z\"/><path d=\"M17.41 7.96l-1.37-1.37c-.4-.4-.92-.59-1.43-.59-.52 0-1.04.2-1.43.59L10.3 9.45l-7.72 7.72c-.78.78-.78 2.05 0 2.83L4 21.41c.39.39.9.59 1.41.59.51 0 1.02-.2 1.41-.59l7.78-7.78 2.81-2.81c.8-.78.8-2.07 0-2.86zM5.41 20L4 18.59l7.72-7.72 1.47 1.35L5.41 20z\"/>\n",
              "  </svg>\n",
              "      </button>\n",
              "      \n",
              "  <style>\n",
              "    .colab-df-container {\n",
              "      display:flex;\n",
              "      flex-wrap:wrap;\n",
              "      gap: 12px;\n",
              "    }\n",
              "\n",
              "    .colab-df-convert {\n",
              "      background-color: #E8F0FE;\n",
              "      border: none;\n",
              "      border-radius: 50%;\n",
              "      cursor: pointer;\n",
              "      display: none;\n",
              "      fill: #1967D2;\n",
              "      height: 32px;\n",
              "      padding: 0 0 0 0;\n",
              "      width: 32px;\n",
              "    }\n",
              "\n",
              "    .colab-df-convert:hover {\n",
              "      background-color: #E2EBFA;\n",
              "      box-shadow: 0px 1px 2px rgba(60, 64, 67, 0.3), 0px 1px 3px 1px rgba(60, 64, 67, 0.15);\n",
              "      fill: #174EA6;\n",
              "    }\n",
              "\n",
              "    [theme=dark] .colab-df-convert {\n",
              "      background-color: #3B4455;\n",
              "      fill: #D2E3FC;\n",
              "    }\n",
              "\n",
              "    [theme=dark] .colab-df-convert:hover {\n",
              "      background-color: #434B5C;\n",
              "      box-shadow: 0px 1px 3px 1px rgba(0, 0, 0, 0.15);\n",
              "      filter: drop-shadow(0px 1px 2px rgba(0, 0, 0, 0.3));\n",
              "      fill: #FFFFFF;\n",
              "    }\n",
              "  </style>\n",
              "\n",
              "      <script>\n",
              "        const buttonEl =\n",
              "          document.querySelector('#df-f20c9236-d51b-41b8-ad2a-b4fdb796a057 button.colab-df-convert');\n",
              "        buttonEl.style.display =\n",
              "          google.colab.kernel.accessAllowed ? 'block' : 'none';\n",
              "\n",
              "        async function convertToInteractive(key) {\n",
              "          const element = document.querySelector('#df-f20c9236-d51b-41b8-ad2a-b4fdb796a057');\n",
              "          const dataTable =\n",
              "            await google.colab.kernel.invokeFunction('convertToInteractive',\n",
              "                                                     [key], {});\n",
              "          if (!dataTable) return;\n",
              "\n",
              "          const docLinkHtml = 'Like what you see? Visit the ' +\n",
              "            '<a target=\"_blank\" href=https://colab.research.google.com/notebooks/data_table.ipynb>data table notebook</a>'\n",
              "            + ' to learn more about interactive tables.';\n",
              "          element.innerHTML = '';\n",
              "          dataTable['output_type'] = 'display_data';\n",
              "          await google.colab.output.renderOutput(dataTable, element);\n",
              "          const docLink = document.createElement('div');\n",
              "          docLink.innerHTML = docLinkHtml;\n",
              "          element.appendChild(docLink);\n",
              "        }\n",
              "      </script>\n",
              "    </div>\n",
              "  </div>\n",
              "  "
            ]
          },
          "metadata": {},
          "execution_count": 115
        }
      ],
      "source": [
        "from pandas.core.construction import range_to_ndarray\n",
        "from pandas.core.indexes.range import RangeIndex\n",
        "import pandas as pd\n",
        "import numpy as np\n",
        "import matplotlib.pyplot as plt\n",
        "import random\n",
        "\n",
        "data = {'feature_1': [random.uniform(0,1) for i in range (600)],\n",
        "        'feature_2': [random.uniform(0,1) for i in range (600)],\n",
        "        'feature_3': [random.uniform(0,1) for i in range (600)],\n",
        "        'feature_4': [random.uniform(0,1) for i in range (600)],\n",
        "        'feature_5': [random.uniform(0,1) for i in range (600)],\n",
        "        'feature_6': [random.uniform(0,1) for i in range (600)],\n",
        "        'feature_7': [random.uniform(0,1) for i in range (600)],\n",
        "        'feature_8': [random.uniform(0,1) for i in range (600)],\n",
        "        'feature_9': [random.uniform(0,1) for i in range (600)],\n",
        "        'feature_10': [random.uniform(0,1) for i in range (600)],\n",
        "        'feature_11': [random.uniform(0,1) for i in range (600)],\n",
        "        'feature_12': [random.uniform(0,1) for i in range (600)],\n",
        "        'feature_13': [random.uniform(0,1) for i in range (600)],\n",
        "        'feature_14': [random.uniform(0,1) for i in range (600)],\n",
        "        'feature_15': [random.uniform(0,1) for i in range (600)],\n",
        "        'label': [random.choice(['A','B','C','D']) for i in range(600)] \n",
        "}\n",
        "df = pd.DataFrame(data)\n",
        "df.head()\n"
      ]
    },
    {
      "cell_type": "code",
      "execution_count": null,
      "metadata": {
        "colab": {
          "base_uri": "https://localhost:8080/"
        },
        "id": "hQsfskkoZtD7",
        "outputId": "ad0a469f-55ed-418b-bb87-2b64eae5f3c9"
      },
      "outputs": [
        {
          "output_type": "stream",
          "name": "stdout",
          "text": [
            "   feature_1  feature_2  feature_3  feature_4  feature_5  feature_6  \\\n",
            "0   0.607080   0.698318   0.807207   0.823028   0.980180   0.767808   \n",
            "1   0.604800   0.322754   0.604766   0.756464   0.190015   0.988398   \n",
            "2   0.358587   0.154182   0.268688   0.517144   0.185250   0.327608   \n",
            "3   0.108205   0.071972   0.063809   0.850925   0.479371   0.092320   \n",
            "4   0.345771   0.650206   0.920920   0.227340   0.417723   0.460942   \n",
            "\n",
            "   feature_7  feature_8  feature_9  feature_10  feature_11  feature_12  \\\n",
            "0   0.907159   0.780157   0.764720    0.631428    0.130723    0.662936   \n",
            "1   0.943103   0.451233   0.916650    0.777679    0.431852    0.264314   \n",
            "2   0.224768   0.505045   0.625010    0.211701    0.800061    0.375896   \n",
            "3   0.211721   0.186926   0.393778    0.970365    0.496095    0.466193   \n",
            "4   0.391901   0.570779   0.741472    0.471409    0.372377    0.563024   \n",
            "\n",
            "   feature_13  feature_14  feature_15  \n",
            "0    0.209279    0.189890    0.127528  \n",
            "1    0.167993    0.827753    0.286265  \n",
            "2    0.141282    0.785261    0.858153  \n",
            "3    0.390659    0.476238    0.658180  \n",
            "4    0.836023    0.962864    0.599562  \n",
            "0    B\n",
            "1    B\n",
            "2    D\n",
            "3    A\n",
            "4    A\n",
            "Name: label, dtype: object\n"
          ]
        }
      ],
      "source": [
        "x = df.iloc[:, :-1]\n",
        "print(x.head())\n",
        "\n",
        "y = df.iloc[:,-1]\n",
        "print(y.head())"
      ]
    },
    {
      "cell_type": "code",
      "source": [
        "y.value_counts()"
      ],
      "metadata": {
        "colab": {
          "base_uri": "https://localhost:8080/"
        },
        "id": "-RDSHvusdQgK",
        "outputId": "11e13946-13cb-4ed8-bc30-78de4ecd90b3"
      },
      "execution_count": null,
      "outputs": [
        {
          "output_type": "execute_result",
          "data": {
            "text/plain": [
              "A    156\n",
              "B    155\n",
              "C    146\n",
              "D    143\n",
              "Name: label, dtype: int64"
            ]
          },
          "metadata": {},
          "execution_count": 117
        }
      ]
    },
    {
      "cell_type": "code",
      "execution_count": null,
      "metadata": {
        "colab": {
          "base_uri": "https://localhost:8080/",
          "height": 206
        },
        "id": "o5MIEmNVad57",
        "outputId": "1b2346d4-20b3-4b18-8e33-5d592384ddf3"
      },
      "outputs": [
        {
          "output_type": "execute_result",
          "data": {
            "text/plain": [
              "        PCA_1     PCA_2\n",
              "595  0.191099 -0.143494\n",
              "596  0.568345 -0.126277\n",
              "597  0.129672 -0.152251\n",
              "598  0.020712 -0.084610\n",
              "599 -0.225371  0.269489"
            ],
            "text/html": [
              "\n",
              "  <div id=\"df-febca10e-d14b-492d-b5f7-d8a76f793461\">\n",
              "    <div class=\"colab-df-container\">\n",
              "      <div>\n",
              "<style scoped>\n",
              "    .dataframe tbody tr th:only-of-type {\n",
              "        vertical-align: middle;\n",
              "    }\n",
              "\n",
              "    .dataframe tbody tr th {\n",
              "        vertical-align: top;\n",
              "    }\n",
              "\n",
              "    .dataframe thead th {\n",
              "        text-align: right;\n",
              "    }\n",
              "</style>\n",
              "<table border=\"1\" class=\"dataframe\">\n",
              "  <thead>\n",
              "    <tr style=\"text-align: right;\">\n",
              "      <th></th>\n",
              "      <th>PCA_1</th>\n",
              "      <th>PCA_2</th>\n",
              "    </tr>\n",
              "  </thead>\n",
              "  <tbody>\n",
              "    <tr>\n",
              "      <th>595</th>\n",
              "      <td>0.191099</td>\n",
              "      <td>-0.143494</td>\n",
              "    </tr>\n",
              "    <tr>\n",
              "      <th>596</th>\n",
              "      <td>0.568345</td>\n",
              "      <td>-0.126277</td>\n",
              "    </tr>\n",
              "    <tr>\n",
              "      <th>597</th>\n",
              "      <td>0.129672</td>\n",
              "      <td>-0.152251</td>\n",
              "    </tr>\n",
              "    <tr>\n",
              "      <th>598</th>\n",
              "      <td>0.020712</td>\n",
              "      <td>-0.084610</td>\n",
              "    </tr>\n",
              "    <tr>\n",
              "      <th>599</th>\n",
              "      <td>-0.225371</td>\n",
              "      <td>0.269489</td>\n",
              "    </tr>\n",
              "  </tbody>\n",
              "</table>\n",
              "</div>\n",
              "      <button class=\"colab-df-convert\" onclick=\"convertToInteractive('df-febca10e-d14b-492d-b5f7-d8a76f793461')\"\n",
              "              title=\"Convert this dataframe to an interactive table.\"\n",
              "              style=\"display:none;\">\n",
              "        \n",
              "  <svg xmlns=\"http://www.w3.org/2000/svg\" height=\"24px\"viewBox=\"0 0 24 24\"\n",
              "       width=\"24px\">\n",
              "    <path d=\"M0 0h24v24H0V0z\" fill=\"none\"/>\n",
              "    <path d=\"M18.56 5.44l.94 2.06.94-2.06 2.06-.94-2.06-.94-.94-2.06-.94 2.06-2.06.94zm-11 1L8.5 8.5l.94-2.06 2.06-.94-2.06-.94L8.5 2.5l-.94 2.06-2.06.94zm10 10l.94 2.06.94-2.06 2.06-.94-2.06-.94-.94-2.06-.94 2.06-2.06.94z\"/><path d=\"M17.41 7.96l-1.37-1.37c-.4-.4-.92-.59-1.43-.59-.52 0-1.04.2-1.43.59L10.3 9.45l-7.72 7.72c-.78.78-.78 2.05 0 2.83L4 21.41c.39.39.9.59 1.41.59.51 0 1.02-.2 1.41-.59l7.78-7.78 2.81-2.81c.8-.78.8-2.07 0-2.86zM5.41 20L4 18.59l7.72-7.72 1.47 1.35L5.41 20z\"/>\n",
              "  </svg>\n",
              "      </button>\n",
              "      \n",
              "  <style>\n",
              "    .colab-df-container {\n",
              "      display:flex;\n",
              "      flex-wrap:wrap;\n",
              "      gap: 12px;\n",
              "    }\n",
              "\n",
              "    .colab-df-convert {\n",
              "      background-color: #E8F0FE;\n",
              "      border: none;\n",
              "      border-radius: 50%;\n",
              "      cursor: pointer;\n",
              "      display: none;\n",
              "      fill: #1967D2;\n",
              "      height: 32px;\n",
              "      padding: 0 0 0 0;\n",
              "      width: 32px;\n",
              "    }\n",
              "\n",
              "    .colab-df-convert:hover {\n",
              "      background-color: #E2EBFA;\n",
              "      box-shadow: 0px 1px 2px rgba(60, 64, 67, 0.3), 0px 1px 3px 1px rgba(60, 64, 67, 0.15);\n",
              "      fill: #174EA6;\n",
              "    }\n",
              "\n",
              "    [theme=dark] .colab-df-convert {\n",
              "      background-color: #3B4455;\n",
              "      fill: #D2E3FC;\n",
              "    }\n",
              "\n",
              "    [theme=dark] .colab-df-convert:hover {\n",
              "      background-color: #434B5C;\n",
              "      box-shadow: 0px 1px 3px 1px rgba(0, 0, 0, 0.15);\n",
              "      filter: drop-shadow(0px 1px 2px rgba(0, 0, 0, 0.3));\n",
              "      fill: #FFFFFF;\n",
              "    }\n",
              "  </style>\n",
              "\n",
              "      <script>\n",
              "        const buttonEl =\n",
              "          document.querySelector('#df-febca10e-d14b-492d-b5f7-d8a76f793461 button.colab-df-convert');\n",
              "        buttonEl.style.display =\n",
              "          google.colab.kernel.accessAllowed ? 'block' : 'none';\n",
              "\n",
              "        async function convertToInteractive(key) {\n",
              "          const element = document.querySelector('#df-febca10e-d14b-492d-b5f7-d8a76f793461');\n",
              "          const dataTable =\n",
              "            await google.colab.kernel.invokeFunction('convertToInteractive',\n",
              "                                                     [key], {});\n",
              "          if (!dataTable) return;\n",
              "\n",
              "          const docLinkHtml = 'Like what you see? Visit the ' +\n",
              "            '<a target=\"_blank\" href=https://colab.research.google.com/notebooks/data_table.ipynb>data table notebook</a>'\n",
              "            + ' to learn more about interactive tables.';\n",
              "          element.innerHTML = '';\n",
              "          dataTable['output_type'] = 'display_data';\n",
              "          await google.colab.output.renderOutput(dataTable, element);\n",
              "          const docLink = document.createElement('div');\n",
              "          docLink.innerHTML = docLinkHtml;\n",
              "          element.appendChild(docLink);\n",
              "        }\n",
              "      </script>\n",
              "    </div>\n",
              "  </div>\n",
              "  "
            ]
          },
          "metadata": {},
          "execution_count": 118
        }
      ],
      "source": [
        "from sklearn.decomposition import PCA\n",
        "pca = PCA(n_components=2)\n",
        "fit_pca = pca.fit_transform(x)\n",
        "pca_df = pd.DataFrame(data = fit_pca, columns = ['PCA_1', 'PCA_2'])\n",
        "pca_df.tail()"
      ]
    },
    {
      "cell_type": "code",
      "execution_count": null,
      "metadata": {
        "colab": {
          "base_uri": "https://localhost:8080/",
          "height": 522
        },
        "id": "jv01hG57cR7h",
        "outputId": "c8fe3907-e54e-4971-decf-6eb4c03e281b"
      },
      "outputs": [
        {
          "output_type": "display_data",
          "data": {
            "text/plain": [
              "<Figure size 576x576 with 1 Axes>"
            ],
            "image/png": "[encoded data removed]"
          },
          "metadata": {
            "needs_background": "light"
          }
        }
      ],
      "source": [
        "fig = plt.figure(figsize = (8,8))\n",
        "ax = fig.add_subplot(1,1,1) \n",
        "ax.set_xlabel('Principal Component 1', fontsize = 15)\n",
        "ax.set_ylabel('Principal Component 2', fontsize = 15)\n",
        "ax.set_title('2 Component PCA', fontsize = 20)\n",
        "\n",
        "\n",
        "targets = ['A', 'B', 'C', 'D']\n",
        "colors = ['r', 'g', 'b', 'yellow']\n",
        "for target, color in zip(targets,colors):\n",
        "    indicesToKeep = pca_df['label'] = df['label'] == target\n",
        "    ax.scatter(pca_df.loc[indicesToKeep, 'PCA_1']\n",
        "               , pca_df.loc[indicesToKeep, 'PCA_2']\n",
        "               , c = color\n",
        "               , s = 50)\n",
        "ax.legend(targets)\n",
        "ax.grid()"
      ]
    },
    {
      "cell_type": "markdown",
      "metadata": {
        "id": "FsZiqiqedB-3"
      },
      "source": [
        "LATIHAN 2: Membuat model data reduction dengan menggunakan LDA (Linear Discriminant Analysis) dengan ketentuan sebagai berikut;\n",
        "\n",
        "\n",
        "1.   Menggunakan data dari hasil pengukuran bunga iris, silahkan download di sini: https://ptorbitventurainodnesia-my.sharepoint.com/:x:/g/personal/allafa_orbitfutureacademy_sch_id/EdmZOfnuBntOmTLNx9XmBtQBp9xIyZjXoULA6klQveQ0RA\n",
        "2.   Tampilkan dataframe untuk variabel x dan y (data tabular). kemudian lanjutkan proses reduksi data model LDA sampai dengan visualisasi data dalam bentuk plot."
      ]
    },
    {
      "cell_type": "code",
      "execution_count": null,
      "metadata": {
        "id": "51BPRjkIegk-"
      },
      "outputs": [],
      "source": [
        "from sklearn.model_selection import train_test_split\n",
        "from sklearn.model_selection import RepeatedStratifiedKFold\n",
        "from sklearn.model_selection import cross_val_score\n",
        "from sklearn.discriminant_analysis import LinearDiscriminantAnalysis\n",
        "from sklearn import datasets\n",
        "import matplotlib.pyplot as plt\n",
        "import pandas as pd\n",
        "import numpy as np\n"
      ]
    },
    {
      "cell_type": "code",
      "execution_count": null,
      "metadata": {
        "colab": {
          "base_uri": "https://localhost:8080/"
        },
        "id": "suT01bZhhVOD",
        "outputId": "1e23dc37-7656-4c9a-9570-4eed80d408b2"
      },
      "outputs": [
        {
          "output_type": "stream",
          "name": "stdout",
          "text": [
            "   Alcohol  Malic_Acid   Ash  Ash_Alcanity  Magnesium  Total_Phenols  \\\n",
            "0    14.23        1.71  2.43          15.6        127           2.80   \n",
            "1    13.20        1.78  2.14          11.2        100           2.65   \n",
            "2    13.16        2.36  2.67          18.6        101           2.80   \n",
            "3    14.37        1.95  2.50          16.8        113           3.85   \n",
            "4    13.24        2.59  2.87          21.0        118           2.80   \n",
            "\n",
            "   Flavanoids  Nonflavanoid_Phenols  Proanthocyanins  Color_Intensity   Hue  \\\n",
            "0        3.06                  0.28             2.29             5.64  1.04   \n",
            "1        2.76                  0.26             1.28             4.38  1.05   \n",
            "2        3.24                  0.30             2.81             5.68  1.03   \n",
            "3        3.49                  0.24             2.18             7.80  0.86   \n",
            "4        2.69                  0.39             1.82             4.32  1.04   \n",
            "\n",
            "   OD280  Proline  \n",
            "0   3.92     1065  \n",
            "1   3.40     1050  \n",
            "2   3.17     1185  \n",
            "3   3.45     1480  \n",
            "4   2.93      735  \n"
          ]
        },
        {
          "output_type": "execute_result",
          "data": {
            "text/plain": [
              "0    1\n",
              "1    1\n",
              "2    1\n",
              "3    1\n",
              "4    1\n",
              "Name: Customer_Segment, dtype: int64"
            ]
          },
          "metadata": {},
          "execution_count": 121
        }
      ],
      "source": [
        "wine = pd.read_excel('/content/Wine.xlsx')\n",
        "X = wine.iloc[:, :-1]\n",
        "print(X.head())\n",
        "\n",
        "Y = wine.iloc[:,-1]\n",
        "Y.head()"
      ]
    },
    {
      "cell_type": "code",
      "execution_count": null,
      "metadata": {
        "colab": {
          "base_uri": "https://localhost:8080/"
        },
        "id": "f8bjV_gBBiow",
        "outputId": "4c5df83d-46d5-495a-9f0d-5fbc8492a1a3"
      },
      "outputs": [
        {
          "output_type": "execute_result",
          "data": {
            "text/plain": [
              "2    71\n",
              "1    59\n",
              "3    48\n",
              "Name: Customer_Segment, dtype: int64"
            ]
          },
          "metadata": {},
          "execution_count": 122
        }
      ],
      "source": [
        "Y.value_counts()"
      ]
    },
    {
      "cell_type": "code",
      "execution_count": null,
      "metadata": {
        "colab": {
          "base_uri": "https://localhost:8080/"
        },
        "id": "-kCcL7oIsX0H",
        "outputId": "acb9a3b0-7be6-461f-b1c5-c7f530f9daf4"
      },
      "outputs": [
        {
          "output_type": "stream",
          "name": "stdout",
          "text": [
            "0.9746732026143791\n"
          ]
        }
      ],
      "source": [
        "model = LinearDiscriminantAnalysis()\n",
        "model.fit(X,Y)\n",
        "\n",
        "cv = RepeatedStratifiedKFold(n_splits=10, n_repeats=10, random_state =1)\n",
        "scores = cross_val_score(model, X, Y, scoring = 'accuracy', cv =cv, n_jobs = -1)\n",
        "print(np.mean(scores))"
      ]
    },
    {
      "cell_type": "code",
      "execution_count": null,
      "metadata": {
        "id": "SIFzQTWDuWhB",
        "colab": {
          "base_uri": "https://localhost:8080/",
          "height": 266
        },
        "outputId": "c128f648-fa0b-4d6a-b5e3-0d3112bb80f0"
      },
      "outputs": [
        {
          "output_type": "display_data",
          "data": {
            "text/plain": [
              "<Figure size 432x288 with 1 Axes>"
            ],
            "image/png": "[encoded data removed]"
          },
          "metadata": {
            "needs_background": "light"
          }
        }
      ],
      "source": [
        "model = LinearDiscriminantAnalysis()\n",
        "data_plot = model.fit(X,Y).transform(X)\n",
        "targets = ['1','2','3']\n",
        "\n",
        "#lda plot\n",
        "plt.figure()\n",
        "colors = ['red', 'green', 'blue']\n",
        "lw = 2\n",
        "for color, i, target_name in zip(colors, [1,2,3], targets):\n",
        "  plt.scatter(data_plot[Y == i, 0], data_plot[Y == i,1], alpha = .8, color = color,\n",
        "              label = target_name)\n",
        "plt.legend(loc = 'best', shadow = False, scatterpoints = 1)\n",
        "plt.show()"
      ]
    }
  ],
  "metadata": {
    "colab": {
      "collapsed_sections": [],
      "name": "LATIHAN DATA SCIENCE KELOMPOK SACRIFICE ENIGMA",
      "provenance": [],
      "include_colab_link": true
    },
    "kernelspec": {
      "display_name": "Python 3",
      "name": "python3"
    },
    "language_info": {
      "name": "python"
    }
  },
  "nbformat": 4,
  "nbformat_minor": 0
}